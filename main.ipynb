{
 "cells": [
  {
   "cell_type": "code",
   "execution_count": 22,
   "id": "321e3d47",
   "metadata": {},
   "outputs": [],
   "source": [
    "import pandas as pd\n",
    "import re\n",
    "import string\n",
    "from transformers import pipeline\n",
    "from tqdm import tqdm\n",
    "from sklearn.metrics import classification_report, accuracy_score, confusion_matrix\n",
    "from Sastrawi.Stemmer.StemmerFactory import StemmerFactory"
   ]
  },
  {
   "cell_type": "code",
   "execution_count": 23,
   "id": "1327018a",
   "metadata": {},
   "outputs": [
    {
     "name": "stderr",
     "output_type": "stream",
     "text": [
      "Device set to use cpu\n",
      "Device set to use cpu\n",
      "Device set to use cpu\n"
     ]
    }
   ],
   "source": [
    "hanifnoerr = \"hanifnoerr/Fine-tuned-Indonesian-Sentiment-Classifier\"\n",
    "hanifnoerr_model = pipeline(\n",
    "    \"sentiment-analysis\",\n",
    "    model=hanifnoerr,\n",
    "    tokenizer=hanifnoerr,\n",
    "    truncation=True,\n",
    "     max_length=512\n",
    ")\n",
    "\n",
    "crypter70 = \"crypter70/IndoBERT-Sentiment-Analysis\"\n",
    "crypter70_model = pipeline(\n",
    "    \"sentiment-analysis\",\n",
    "    model=crypter70,\n",
    "    tokenizer=crypter70,\n",
    "    truncation=True,\n",
    "     max_length=512\n",
    ")\n",
    "\n",
    "w11wo = \"w11wo/indonesian-roberta-base-sentiment-classifier\"\n",
    "w11wo_model = pipeline(\n",
    "    \"sentiment-analysis\",\n",
    "    model=w11wo,\n",
    "    tokenizer=w11wo,\n",
    "    truncation=True,\n",
    "     max_length=512\n",
    ")"
   ]
  },
  {
   "cell_type": "markdown",
   "id": "fa1cb466",
   "metadata": {},
   "source": [
    "CLEANING"
   ]
  },
  {
   "cell_type": "code",
   "execution_count": 24,
   "id": "e711f887",
   "metadata": {},
   "outputs": [],
   "source": [
    "data = pd.read_excel(\"Review KCU Pulau Jawa.xlsx\")\n",
    "data = data.dropna(subset=['review_text'])\n",
    "\n",
    "data['review_text_cleaned'] = data['review_text'].astype(str).str.lower()\n",
    "data['review_text_cleaned'] = [re.sub(r'[^\\x00-\\x7f]',r'', i) for i in data['review_text_cleaned']]\n",
    "data['review_text_cleaned'] = [re.sub(r'\\n', r' ', i) for i in data['review_text_cleaned']]\n",
    "data['review_text_cleaned'] = data['review_text_cleaned'].apply(\n",
    "    lambda x: re.sub(f\"[{re.escape(string.punctuation)}]\", \" \", x)\n",
    ")\n",
    "# Normalize whitespace and trim\n",
    "data['review_text_cleaned'] = data['review_text_cleaned'].apply(lambda x: re.sub(r'\\s+', ' ', x).strip())\n",
    "\n",
    "# Drop rows where cleaned text is empty string\n",
    "data = data[data['review_text_cleaned'] != \"\"]"
   ]
  },
  {
   "cell_type": "code",
   "execution_count": 25,
   "id": "d53f2869",
   "metadata": {},
   "outputs": [],
   "source": [
    "words_dict = {\n",
    "    'tdk'  : 'tidak',\n",
    "    'yg' : 'yang',\n",
    "    'ga' : 'tidak',\n",
    "    'gak' : 'tidak',\n",
    "    'tp' : 'tapi',\n",
    "    'd' : 'di',\n",
    "    'sy' : 'saya',\n",
    "    '&' : 'dan',\n",
    "    'dgn' : 'dengan', \n",
    "    'utk' : 'untuk',\n",
    "    'gk' : 'tidak',\n",
    "    'jd' : 'jadi',\n",
    "    'jg' : 'juga',\n",
    "    'dr' : 'dari',\n",
    "    'krn' : 'karena',\n",
    "    'aja' : 'saja',\n",
    "    'karna' : 'karena',\n",
    "    'udah' : 'sudah',\n",
    "    'kmr' : 'kamar',\n",
    "    'g' : 'tidak',\n",
    "    'dpt' : 'dapat',\n",
    "    'banget' : 'sekali',\n",
    "    'bgt' : 'sekali',\n",
    "    'kalo' : 'kalau',\n",
    "    'n' : 'dan', \n",
    "    'bs' : 'bisa',\n",
    "    'oke' : 'ok',\n",
    "    'dg' : 'dengan',\n",
    "    'pake' : 'pakai',\n",
    "    'sampe' : 'sampai',\n",
    "    'dapet' : 'dapat',\n",
    "    'ad' : 'ada',\n",
    "    'lg' : 'lagi',\n",
    "    'bikin' : 'buat',\n",
    "    'tak' : 'tidak',\n",
    "    'ny' : 'nya',\n",
    "    'ngga' : 'tidak',\n",
    "    'nunggu' : 'tunggu',\n",
    "    'klo' : 'kalau',\n",
    "    'blm' : 'belum',\n",
    "    'trus' : 'terus',\n",
    "    'kayak' : 'seperti',\n",
    "    'dlm' : 'dalam',\n",
    "    'udh' : 'sudah',\n",
    "    'tau' : 'tahu',\n",
    "    'org' : 'orang',\n",
    "    'hrs' : 'harus',\n",
    "    'msh' : 'masih',\n",
    "    'sm' : 'sama',\n",
    "    'byk' : 'banyak',\n",
    "    'krg' : 'kurang',\n",
    "    'kmar' : 'kamar',\n",
    "    'spt' : 'seperti',\n",
    "    'pdhl' : 'padahal',\n",
    "    'chek' : 'cek',\n",
    "    'pesen' : 'pesan', \n",
    "    'kran' : 'keran',\n",
    "    'gitu' : 'begitu',\n",
    "    'tpi' : 'tapi',\n",
    "    'lbh' : 'lebih',\n",
    "    'tmpt' : 'tempat',\n",
    "    'dikasi' : 'dikasih',\n",
    "    'serem' : 'seram', \n",
    "    'sya' : 'saya',\n",
    "    'jgn' : 'jangan',\n",
    "    'dri' : 'dari',\n",
    "    'dtg' : 'datang',\n",
    "    'gada' : 'tidak ada',\n",
    "    'standart' : 'standar',\n",
    "    'mlm' : 'malam',\n",
    "    'k'  : 'ke',\n",
    "    'kl' : 'kalau',\n",
    "    'sgt': 'sangat',\n",
    "    'y' : 'ya',\n",
    "    'krna' : 'karena',\n",
    "    'tgl' : 'tanggal', \n",
    "    'terimakasih' : 'terima kasih',\n",
    "    'kecoak' : 'kecoa',\n",
    "    'pd' : 'pada',\n",
    "    'tdr' : 'tidur', \n",
    "    'jdi' : 'jadi',\n",
    "    'kyk' : 'seperti',\n",
    "    'sdh' : 'sudah',\n",
    "    'ama' : 'sama',\n",
    "    'gmana' : 'bagaimana',\n",
    "    'dalem' : 'dalam',\n",
    "    'tanyak' : 'tanya',\n",
    "    'taru' : 'taruh',\n",
    "    'gede' : 'besar',\n",
    "    'kaya' : 'seperti',\n",
    "    'access' : 'akses',\n",
    "    'tetep' : 'tetap',\n",
    "    'mgkin' : 'mungkin',\n",
    "    'sower' : 'shower',\n",
    "    'idup' : 'hidup',\n",
    "    'nyaaa' : 'nya',\n",
    "    'baikk' : 'baik',\n",
    "    'hanay' : 'hanya',\n",
    "    'tlp' : 'telpon',\n",
    "    'kluarga' : 'keluarga',\n",
    "    'jln' : 'jalan',\n",
    "    'hr' : 'hari',\n",
    "    'ngak' : 'tidak',\n",
    "    'bli' : 'beli',\n",
    "    'kmar' : 'kamar',\n",
    "    'naro' : 'taruh',\n",
    "    'telpon':'telepon',\n",
    "    'nlpn':'telepon',\n",
    "    'tlp':'telepon',\n",
    "    'nelpon':'telepon',\n",
    "    'ktr':'kantor',\n",
    "    'kntr':'kantor',\n",
    "    'cb' : 'coba',\n",
    "    'bgs' : 'bagus',\n",
    "    'mntp' : 'mantap',\n",
    "    'jlk' : 'jelek',\n",
    "    'smp' : 'sampai',\n",
    "    'ane' : 'saya',\n",
    "    'gw' : 'saya',\n",
    "    'gua' : 'saya',\n",
    "    'dah' : 'sudah',\n",
    "    'yng' : 'yang'\n",
    "}\n",
    "\n"
   ]
  },
  {
   "cell_type": "code",
   "execution_count": 26,
   "id": "fad834c6",
   "metadata": {},
   "outputs": [],
   "source": [
    "list_sentence_train = []\n",
    "for sentence in data['review_text_cleaned'] :\n",
    "    cleaned_sentence = [words_dict[word] if word in list(words_dict.keys()) else word for word in sentence.split()]\n",
    "    list_sentence_train.append(' '.join(cleaned_sentence))\n",
    "data['review_text_cleaned'] = list_sentence_train"
   ]
  },
  {
   "cell_type": "code",
   "execution_count": 27,
   "id": "79934212",
   "metadata": {},
   "outputs": [
    {
     "data": {
      "text/html": [
       "<div>\n",
       "<style scoped>\n",
       "    .dataframe tbody tr th:only-of-type {\n",
       "        vertical-align: middle;\n",
       "    }\n",
       "\n",
       "    .dataframe tbody tr th {\n",
       "        vertical-align: top;\n",
       "    }\n",
       "\n",
       "    .dataframe thead th {\n",
       "        text-align: right;\n",
       "    }\n",
       "</style>\n",
       "<table border=\"1\" class=\"dataframe\">\n",
       "  <thead>\n",
       "    <tr style=\"text-align: right;\">\n",
       "      <th></th>\n",
       "      <th>Table Name</th>\n",
       "      <th>name</th>\n",
       "      <th>Rating</th>\n",
       "      <th>Review Date</th>\n",
       "      <th>review_text</th>\n",
       "      <th>review_text_cleaned</th>\n",
       "    </tr>\n",
       "  </thead>\n",
       "  <tbody>\n",
       "    <tr>\n",
       "      <th>4</th>\n",
       "      <td>kcu_jktcentrum</td>\n",
       "      <td>Irvan Aditya</td>\n",
       "      <td>1.0</td>\n",
       "      <td>2015-05-01</td>\n",
       "      <td>Di Telpon dari Jam setengah 10 pagi sampai jam...</td>\n",
       "      <td>di telepon dari jam tengah 10 pagi sampai jam ...</td>\n",
       "    </tr>\n",
       "    <tr>\n",
       "      <th>5</th>\n",
       "      <td>kcu_jktoceania</td>\n",
       "      <td>Senja Anastasja</td>\n",
       "      <td>1.0</td>\n",
       "      <td>2015-05-01</td>\n",
       "      <td>Tracking Number: CW748870756US\\nImage of a pro...</td>\n",
       "      <td>tracking number cw748870756us image of a progr...</td>\n",
       "    </tr>\n",
       "    <tr>\n",
       "      <th>6</th>\n",
       "      <td>kcu_bandung</td>\n",
       "      <td>vincent sumarga</td>\n",
       "      <td>1.0</td>\n",
       "      <td>2016-05-01</td>\n",
       "      <td>Pengiriman \"kilat\" sudah hari k 3 blm dtg. Tel...</td>\n",
       "      <td>kirim kilat sudah hari ke 3 belum datang telp ...</td>\n",
       "    </tr>\n",
       "    <tr>\n",
       "      <th>8</th>\n",
       "      <td>kcu_bekasi</td>\n",
       "      <td>Risky Komara</td>\n",
       "      <td>1.0</td>\n",
       "      <td>2016-05-01</td>\n",
       "      <td>maaf, Sy cb telfon Kok  tdk bs y??\\nmau Tanya ...</td>\n",
       "      <td>maaf saya coba telfon kok tidak bisa ya mau ta...</td>\n",
       "    </tr>\n",
       "    <tr>\n",
       "      <th>9</th>\n",
       "      <td>kcu_jktcentrum</td>\n",
       "      <td>mayvits vita</td>\n",
       "      <td>1.0</td>\n",
       "      <td>2016-05-01</td>\n",
       "      <td>Paket saya dr jakpus ke tangerang sudah smingg...</td>\n",
       "      <td>paket saya dari jakpus ke tangerang sudah smin...</td>\n",
       "    </tr>\n",
       "    <tr>\n",
       "      <th>10</th>\n",
       "      <td>kcu_jktcentrum</td>\n",
       "      <td>Riko Fajar</td>\n",
       "      <td>1.0</td>\n",
       "      <td>2016-05-01</td>\n",
       "      <td>Mengecewakan. Telpon ga pernah diangkat</td>\n",
       "      <td>kecewa telepon tidak pernah angkat</td>\n",
       "    </tr>\n",
       "    <tr>\n",
       "      <th>11</th>\n",
       "      <td>kcu_jktcentrum</td>\n",
       "      <td>Siti Komariah</td>\n",
       "      <td>1.0</td>\n",
       "      <td>2016-05-01</td>\n",
       "      <td>Cara ambil kiriman darri luar negeri bagaimana...</td>\n",
       "      <td>cara ambil kirim darri luar negeri bagaimana y...</td>\n",
       "    </tr>\n",
       "    <tr>\n",
       "      <th>12</th>\n",
       "      <td>kcu_jktcentrum</td>\n",
       "      <td>Suprianto</td>\n",
       "      <td>1.0</td>\n",
       "      <td>2016-05-01</td>\n",
       "      <td>nomer telepon ga diangkat sama sekali sudah 5 ...</td>\n",
       "      <td>nomer telepon tidak angkat sama sekali sudah 5...</td>\n",
       "    </tr>\n",
       "    <tr>\n",
       "      <th>13</th>\n",
       "      <td>kcu_jktcentrum</td>\n",
       "      <td>Vebbe Valerie</td>\n",
       "      <td>1.0</td>\n",
       "      <td>2016-05-01</td>\n",
       "      <td>untuk menghubungi kantor pos pusat di pasar ba...</td>\n",
       "      <td>untuk hubung kantor pos pusat di pasar baru su...</td>\n",
       "    </tr>\n",
       "    <tr>\n",
       "      <th>14</th>\n",
       "      <td>kcu_jktflora</td>\n",
       "      <td>kenny pratama</td>\n",
       "      <td>1.0</td>\n",
       "      <td>2016-05-01</td>\n",
       "      <td>parah , gak ada yang angkat telpon, kacau bang...</td>\n",
       "      <td>parah tidak ada yang angkat telepon kacau seka...</td>\n",
       "    </tr>\n",
       "  </tbody>\n",
       "</table>\n",
       "</div>"
      ],
      "text/plain": [
       "        Table Name             name  Rating Review Date  \\\n",
       "4   kcu_jktcentrum     Irvan Aditya     1.0  2015-05-01   \n",
       "5   kcu_jktoceania  Senja Anastasja     1.0  2015-05-01   \n",
       "6      kcu_bandung  vincent sumarga     1.0  2016-05-01   \n",
       "8       kcu_bekasi     Risky Komara     1.0  2016-05-01   \n",
       "9   kcu_jktcentrum     mayvits vita     1.0  2016-05-01   \n",
       "10  kcu_jktcentrum       Riko Fajar     1.0  2016-05-01   \n",
       "11  kcu_jktcentrum    Siti Komariah     1.0  2016-05-01   \n",
       "12  kcu_jktcentrum        Suprianto     1.0  2016-05-01   \n",
       "13  kcu_jktcentrum    Vebbe Valerie     1.0  2016-05-01   \n",
       "14    kcu_jktflora    kenny pratama     1.0  2016-05-01   \n",
       "\n",
       "                                          review_text  \\\n",
       "4   Di Telpon dari Jam setengah 10 pagi sampai jam...   \n",
       "5   Tracking Number: CW748870756US\\nImage of a pro...   \n",
       "6   Pengiriman \"kilat\" sudah hari k 3 blm dtg. Tel...   \n",
       "8   maaf, Sy cb telfon Kok  tdk bs y??\\nmau Tanya ...   \n",
       "9   Paket saya dr jakpus ke tangerang sudah smingg...   \n",
       "10            Mengecewakan. Telpon ga pernah diangkat   \n",
       "11  Cara ambil kiriman darri luar negeri bagaimana...   \n",
       "12  nomer telepon ga diangkat sama sekali sudah 5 ...   \n",
       "13  untuk menghubungi kantor pos pusat di pasar ba...   \n",
       "14  parah , gak ada yang angkat telpon, kacau bang...   \n",
       "\n",
       "                                  review_text_cleaned  \n",
       "4   di telepon dari jam tengah 10 pagi sampai jam ...  \n",
       "5   tracking number cw748870756us image of a progr...  \n",
       "6   kirim kilat sudah hari ke 3 belum datang telp ...  \n",
       "8   maaf saya coba telfon kok tidak bisa ya mau ta...  \n",
       "9   paket saya dari jakpus ke tangerang sudah smin...  \n",
       "10                 kecewa telepon tidak pernah angkat  \n",
       "11  cara ambil kirim darri luar negeri bagaimana y...  \n",
       "12  nomer telepon tidak angkat sama sekali sudah 5...  \n",
       "13  untuk hubung kantor pos pusat di pasar baru su...  \n",
       "14  parah tidak ada yang angkat telepon kacau seka...  "
      ]
     },
     "execution_count": 27,
     "metadata": {},
     "output_type": "execute_result"
    }
   ],
   "source": [
    "# create stemmer\n",
    "factory = StemmerFactory()\n",
    "stemmer = factory.create_stemmer()\n",
    "\n",
    "# stem\n",
    "stem = []\n",
    "\n",
    "for index, row in data.iterrows():\n",
    "    try:\n",
    "        sentence = row['review_text_cleaned']\n",
    "        result = stemmer.stem(sentence)\n",
    "    except Exception as e:\n",
    "        result = 'error'\n",
    "    stem.append(result)\n",
    "\n",
    "data['review_text_cleaned'] = stem\n",
    "data.head(10)"
   ]
  },
  {
   "cell_type": "markdown",
   "id": "dad476a7",
   "metadata": {},
   "source": [
    "HANIFNOERR"
   ]
  },
  {
   "cell_type": "code",
   "execution_count": 28,
   "id": "329c16ec",
   "metadata": {},
   "outputs": [],
   "source": [
    "sentiments = []\n",
    "\n",
    "for index, row in data.iterrows():\n",
    "    try:\n",
    "        if pd.isnull(row['review_text_cleaned']):\n",
    "            text = str(' ')\n",
    "        else:\n",
    "            text = str(row['review_text_cleaned'])\n",
    "        result = hanifnoerr_model(text)[0]['label']\n",
    "    except Exception as e:\n",
    "        result = 'error'\n",
    "    sentiments.append(result)\n",
    "\n",
    "data['sentiment_result_hanifnoerr'] = sentiments"
   ]
  },
  {
   "cell_type": "code",
   "execution_count": 29,
   "id": "4644c53c",
   "metadata": {},
   "outputs": [
    {
     "name": "stdout",
     "output_type": "stream",
     "text": [
      "sentiment_result_hanifnoerr\n",
      "positive    2412\n",
      "negative    1906\n",
      "neutral      654\n",
      "Name: count, dtype: int64\n"
     ]
    }
   ],
   "source": [
    "print(data['sentiment_result_hanifnoerr'].value_counts())"
   ]
  },
  {
   "cell_type": "code",
   "execution_count": 30,
   "id": "8d157e2d",
   "metadata": {},
   "outputs": [
    {
     "name": "stderr",
     "output_type": "stream",
     "text": [
      "C:\\Users\\POS\\AppData\\Local\\Temp\\ipykernel_27756\\1922892403.py:5: FutureWarning: \n",
      "\n",
      "Passing `palette` without assigning `hue` is deprecated and will be removed in v0.14.0. Assign the `x` variable to `hue` and set `legend=False` for the same effect.\n",
      "\n",
      "  sns.countplot(data=data, x='sentiment_result_hanifnoerr', order=data['sentiment_result_hanifnoerr'].value_counts().index, palette='pastel')\n"
     ]
    },
    {
     "data": {
      "image/png": "[encoded data removed]",
      "text/plain": [
       "<Figure size 800x500 with 1 Axes>"
      ]
     },
     "metadata": {},
     "output_type": "display_data"
    }
   ],
   "source": [
    "import matplotlib.pyplot as plt\n",
    "import seaborn as sns\n",
    "\n",
    "plt.figure(figsize=(8, 5))\n",
    "sns.countplot(data=data, x='sentiment_result_hanifnoerr', order=data['sentiment_result_hanifnoerr'].value_counts().index, palette='pastel')\n",
    "plt.title('Distribusi Sentimen Review')\n",
    "plt.xlabel('Label Sentimen')\n",
    "plt.ylabel('Jumlah')\n",
    "plt.xticks(rotation=45)\n",
    "plt.tight_layout()\n",
    "plt.show()"
   ]
  },
  {
   "cell_type": "markdown",
   "id": "42f1fa38",
   "metadata": {},
   "source": [
    "crypter70"
   ]
  },
  {
   "cell_type": "code",
   "execution_count": 31,
   "id": "018eeaac",
   "metadata": {},
   "outputs": [],
   "source": [
    "sentiments = []\n",
    "\n",
    "for index, row in data.iterrows():\n",
    "    try:\n",
    "        if pd.isnull(row['review_text_cleaned']):\n",
    "            text = str(' ')\n",
    "        else:\n",
    "            text = str(row['review_text_cleaned'])\n",
    "        result = crypter70_model(text)[0]['label']\n",
    "    except Exception as e:\n",
    "        result = 'error'\n",
    "    sentiments.append(result)\n",
    "\n",
    "data['sentiment_result_crypter70'] = sentiments"
   ]
  },
  {
   "cell_type": "code",
   "execution_count": 32,
   "id": "dc5e65a1",
   "metadata": {},
   "outputs": [
    {
     "name": "stdout",
     "output_type": "stream",
     "text": [
      "sentiment_result_crypter70\n",
      "POSITIVE    2345\n",
      "NEGATIVE    1793\n",
      "NEUTRAL      834\n",
      "Name: count, dtype: int64\n"
     ]
    }
   ],
   "source": [
    "print(data['sentiment_result_crypter70'].value_counts())"
   ]
  },
  {
   "cell_type": "code",
   "execution_count": 33,
   "id": "d0739b88",
   "metadata": {},
   "outputs": [
    {
     "name": "stderr",
     "output_type": "stream",
     "text": [
      "C:\\Users\\POS\\AppData\\Local\\Temp\\ipykernel_27756\\3126681369.py:5: FutureWarning: \n",
      "\n",
      "Passing `palette` without assigning `hue` is deprecated and will be removed in v0.14.0. Assign the `x` variable to `hue` and set `legend=False` for the same effect.\n",
      "\n",
      "  sns.countplot(data=data, x='sentiment_result_crypter70', order=data['sentiment_result_crypter70'].value_counts().index, palette='pastel')\n"
     ]
    },
    {
     "data": {
      "image/png": "[encoded data removed]",
      "text/plain": [
       "<Figure size 800x500 with 1 Axes>"
      ]
     },
     "metadata": {},
     "output_type": "display_data"
    }
   ],
   "source": [
    "import matplotlib.pyplot as plt\n",
    "import seaborn as sns\n",
    "\n",
    "plt.figure(figsize=(8, 5))\n",
    "sns.countplot(data=data, x='sentiment_result_crypter70', order=data['sentiment_result_crypter70'].value_counts().index, palette='pastel')\n",
    "plt.title('Distribusi Sentimen Review')\n",
    "plt.xlabel('Label Sentimen')\n",
    "plt.ylabel('Jumlah')\n",
    "plt.xticks(rotation=45)\n",
    "plt.tight_layout()\n",
    "plt.show()"
   ]
  },
  {
   "cell_type": "markdown",
   "id": "4c2460ab",
   "metadata": {},
   "source": [
    "w11wo"
   ]
  },
  {
   "cell_type": "code",
   "execution_count": 34,
   "id": "50d5bf3e",
   "metadata": {},
   "outputs": [],
   "source": [
    "sentiments = []\n",
    "\n",
    "for index, row in data.iterrows():\n",
    "    try:\n",
    "        if pd.isnull(row['review_text_cleaned']):\n",
    "            text = str(' ')\n",
    "        else:\n",
    "            text = str(row['review_text_cleaned'])\n",
    "        result = w11wo_model(text)[0]['label']\n",
    "    except Exception as e:\n",
    "        result = 'error'\n",
    "    sentiments.append(result)\n",
    "\n",
    "data['sentiment_result_w11wo'] = sentiments"
   ]
  },
  {
   "cell_type": "code",
   "execution_count": 35,
   "id": "edc78aa4",
   "metadata": {},
   "outputs": [
    {
     "name": "stdout",
     "output_type": "stream",
     "text": [
      "sentiment_result_w11wo\n",
      "positive    2361\n",
      "negative    1739\n",
      "neutral      872\n",
      "Name: count, dtype: int64\n"
     ]
    }
   ],
   "source": [
    "print(data['sentiment_result_w11wo'].value_counts())"
   ]
  },
  {
   "cell_type": "code",
   "execution_count": 36,
   "id": "59a7d57f",
   "metadata": {},
   "outputs": [
    {
     "name": "stderr",
     "output_type": "stream",
     "text": [
      "C:\\Users\\POS\\AppData\\Local\\Temp\\ipykernel_27756\\392182998.py:4: FutureWarning: \n",
      "\n",
      "Passing `palette` without assigning `hue` is deprecated and will be removed in v0.14.0. Assign the `x` variable to `hue` and set `legend=False` for the same effect.\n",
      "\n",
      "  sns.countplot(data=data, x='sentiment_result_w11wo', order=data['sentiment_result_w11wo'].value_counts().index, palette='pastel')\n"
     ]
    },
    {
     "data": {
      "image/png": "[encoded data removed]",
      "text/plain": [
       "<Figure size 800x500 with 1 Axes>"
      ]
     },
     "metadata": {},
     "output_type": "display_data"
    }
   ],
   "source": [
    "import matplotlib.pyplot as plt\n",
    "import seaborn as sns\n",
    "plt.figure(figsize=(8, 5))\n",
    "sns.countplot(data=data, x='sentiment_result_w11wo', order=data['sentiment_result_w11wo'].value_counts().index, palette='pastel')\n",
    "plt.title('Distribusi Sentimen Review')\n",
    "plt.xlabel('Label Sentimen')\n",
    "plt.ylabel('Jumlah')\n",
    "plt.xticks(rotation=45)\n",
    "plt.tight_layout()\n",
    "plt.show()"
   ]
  },
  {
   "cell_type": "code",
   "execution_count": 44,
   "id": "69a14c0b",
   "metadata": {},
   "outputs": [
    {
     "data": {
      "text/html": [
       "<div>\n",
       "<style scoped>\n",
       "    .dataframe tbody tr th:only-of-type {\n",
       "        vertical-align: middle;\n",
       "    }\n",
       "\n",
       "    .dataframe tbody tr th {\n",
       "        vertical-align: top;\n",
       "    }\n",
       "\n",
       "    .dataframe thead th {\n",
       "        text-align: right;\n",
       "    }\n",
       "</style>\n",
       "<table border=\"1\" class=\"dataframe\">\n",
       "  <thead>\n",
       "    <tr style=\"text-align: right;\">\n",
       "      <th></th>\n",
       "      <th>Table Name</th>\n",
       "      <th>name</th>\n",
       "      <th>Rating</th>\n",
       "      <th>Review Date</th>\n",
       "      <th>review_text</th>\n",
       "      <th>review_text_cleaned</th>\n",
       "      <th>sentiment_result_hanifnoerr</th>\n",
       "      <th>sentiment_result_crypter70</th>\n",
       "      <th>sentiment_result_w11wo</th>\n",
       "    </tr>\n",
       "  </thead>\n",
       "  <tbody>\n",
       "    <tr>\n",
       "      <th>101</th>\n",
       "      <td>kcu_cirebon</td>\n",
       "      <td>titin hernawati</td>\n",
       "      <td>1.0</td>\n",
       "      <td>2018-05-01</td>\n",
       "      <td>Ayah</td>\n",
       "      <td>ayah</td>\n",
       "      <td>positive</td>\n",
       "      <td>POSITIVE</td>\n",
       "      <td>positive</td>\n",
       "    </tr>\n",
       "  </tbody>\n",
       "</table>\n",
       "</div>"
      ],
      "text/plain": [
       "      Table Name             name  Rating Review Date review_text  \\\n",
       "101  kcu_cirebon  titin hernawati     1.0  2018-05-01        Ayah   \n",
       "\n",
       "    review_text_cleaned sentiment_result_hanifnoerr  \\\n",
       "101                ayah                    positive   \n",
       "\n",
       "    sentiment_result_crypter70 sentiment_result_w11wo  \n",
       "101                   POSITIVE               positive  "
      ]
     },
     "execution_count": 44,
     "metadata": {},
     "output_type": "execute_result"
    }
   ],
   "source": [
    "data[data['name']=='titin hernawati']"
   ]
  }
 ],
 "metadata": {
  "kernelspec": {
   "display_name": "Python 3",
   "language": "python",
   "name": "python3"
  },
  "language_info": {
   "codemirror_mode": {
    "name": "ipython",
    "version": 3
   },
   "file_extension": ".py",
   "mimetype": "text/x-python",
   "name": "python",
   "nbconvert_exporter": "python",
   "pygments_lexer": "ipython3",
   "version": "3.13.2"
  }
 },
 "nbformat": 4,
 "nbformat_minor": 5
}
