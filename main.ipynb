{
 "cells": [
  {
   "cell_type": "code",
   "execution_count": 1,
   "id": "321e3d47",
   "metadata": {},
   "outputs": [
    {
     "name": "stderr",
     "output_type": "stream",
     "text": [
      "c:\\Users\\POS\\AppData\\Local\\Programs\\Python\\Python313\\Lib\\site-packages\\tqdm\\auto.py:21: TqdmWarning: IProgress not found. Please update jupyter and ipywidgets. See https://ipywidgets.readthedocs.io/en/stable/user_install.html\n",
      "  from .autonotebook import tqdm as notebook_tqdm\n"
     ]
    }
   ],
   "source": [
    "import pandas as pd\n",
    "import re\n",
    "import string\n",
    "from transformers import pipeline\n",
    "from sklearn.metrics import classification_report, accuracy_score, confusion_matrix\n",
    "from Sastrawi.Stemmer.StemmerFactory import StemmerFactory\n",
    "import nltk\n",
    "from nltk.corpus import words"
   ]
  },
  {
   "cell_type": "code",
   "execution_count": 2,
   "id": "1327018a",
   "metadata": {},
   "outputs": [
    {
     "name": "stderr",
     "output_type": "stream",
     "text": [
      "Device set to use cpu\n",
      "Device set to use cpu\n",
      "Device set to use cpu\n",
      "Device set to use cpu\n",
      "Device set to use cpu\n"
     ]
    }
   ],
   "source": [
    "hanifnoerr = \"hanifnoerr/Fine-tuned-Indonesian-Sentiment-Classifier\"\n",
    "hanifnoerr_model = pipeline(\n",
    "    \"sentiment-analysis\",\n",
    "    model=hanifnoerr,\n",
    "    tokenizer=hanifnoerr,\n",
    "    truncation=True,\n",
    "     max_length=512\n",
    ")\n",
    "def analyze_sentiment_hanifnoerr(text):\n",
    "    try:\n",
    "        result = hanifnoerr_model(str(text))[0]\n",
    "        return result['label'], result['score']\n",
    "    except:\n",
    "        return 'error', 'error'\n",
    "\n",
    "crypter70 = \"crypter70/IndoBERT-Sentiment-Analysis\"\n",
    "crypter70_model = pipeline(\n",
    "    \"sentiment-analysis\",\n",
    "    model=crypter70,\n",
    "    tokenizer=crypter70,\n",
    "    truncation=True,\n",
    "     max_length=512\n",
    ")\n",
    "def analyze_sentiment_crypter70(text):\n",
    "    try:\n",
    "        result = crypter70_model(str(text))[0]\n",
    "        return result['label'], result['score']\n",
    "    except:\n",
    "        return 'error', 'error'\n",
    "\n",
    "w11wo = \"w11wo/indonesian-roberta-base-sentiment-classifier\"\n",
    "w11wo_model = pipeline(\n",
    "    \"sentiment-analysis\",\n",
    "    model=w11wo,\n",
    "    tokenizer=w11wo,\n",
    "    truncation=True,\n",
    "     max_length=512\n",
    ")\n",
    "def analyze_sentiment_w11wo(text):\n",
    "    try:\n",
    "        result = w11wo_model(str(text))[0]\n",
    "        return result['label'], result['score']\n",
    "    except:\n",
    "        return 'error', 'error'\n",
    "\n",
    "ayameRushia = \"ayameRushia/bert-base-indonesian-1.5G-sentiment-analysis-smsa\"\n",
    "ayameRushia_model = pipeline(\n",
    "    \"sentiment-analysis\",\n",
    "    model=ayameRushia,\n",
    "    tokenizer=ayameRushia,\n",
    "    truncation=True,\n",
    "     max_length=512\n",
    ")\n",
    "def analyze_sentiment_ayameRushia(text):\n",
    "    try:\n",
    "        result = ayameRushia_model(str(text))[0]\n",
    "        return result['label'], result['score']\n",
    "    except:\n",
    "        return 'error', 'error'\n",
    "\n",
    "Aardiiiiy = \"Aardiiiiy/indobertweet-base-Indonesian-sentiment-analysis\"\n",
    "Aardiiiiy_model = pipeline(\n",
    "    \"sentiment-analysis\",\n",
    "    model=Aardiiiiy,\n",
    "    tokenizer=Aardiiiiy,\n",
    "    truncation=True,\n",
    "     max_length=512\n",
    ")\n",
    "def analyze_sentiment_Aardiiiiy(text):\n",
    "    try:\n",
    "        result = Aardiiiiy_model(str(text))[0]\n",
    "        return result['label'], result['score']\n",
    "    except:\n",
    "        return 'error', 'error'"
   ]
  },
  {
   "cell_type": "markdown",
   "id": "fa1cb466",
   "metadata": {},
   "source": [
    "CLEANING"
   ]
  },
  {
   "cell_type": "code",
   "execution_count": 3,
   "id": "a38d6782",
   "metadata": {},
   "outputs": [
    {
     "name": "stderr",
     "output_type": "stream",
     "text": [
      "[nltk_data] Downloading package words to\n",
      "[nltk_data]     C:\\Users\\POS\\AppData\\Roaming\\nltk_data...\n",
      "[nltk_data]   Package words is already up-to-date!\n"
     ]
    }
   ],
   "source": [
    "data = pd.read_excel(\"Review KCU Pulau Jawa.xlsx\")\n",
    "data = data.dropna(subset=['review_text'])\n",
    "\n",
    "data['review_text_cleaned'] = data['review_text'].astype(str).str.lower()\n",
    "data['review_text_cleaned'] = [re.sub(r'[^\\x00-\\x7f]',r'', i) for i in data['review_text_cleaned']]\n",
    "data['review_text_cleaned'] = [re.sub(r'\\n', r' ', i) for i in data['review_text_cleaned']]\n",
    "data['review_text_cleaned'] = data['review_text_cleaned'].apply(\n",
    "    lambda x: re.sub(f\"[{re.escape(string.punctuation)}]\", \" \", x)\n",
    ")\n",
    "# Remove numbers\n",
    "data['review_text_cleaned'] = data['review_text_cleaned'].apply(lambda x: re.sub(r'\\d+', '', x))\n",
    "\n",
    "# Remove English words (basic filtering using a set of common English words)\n",
    "nltk.download('words')\n",
    "english_words = set(words.words())\n",
    "\n",
    "def remove_english_words(text):\n",
    "    return ' '.join([word for word in text.split() if word not in english_words])\n",
    "\n",
    "data['review_text_cleaned'] = data['review_text_cleaned'].apply(remove_english_words)\n",
    "\n",
    "# Normalize whitespace again after filtering\n",
    "data['review_text_cleaned'] = data['review_text_cleaned'].apply(lambda x: re.sub(r'\\s+', ' ', x).strip())\n",
    "\n",
    "# Drop empty rows again\n",
    "data = data[data['review_text_cleaned'] != \"\"]"
   ]
  },
  {
   "cell_type": "code",
   "execution_count": 4,
   "id": "fbdc42d0",
   "metadata": {},
   "outputs": [],
   "source": [
    "words_dict = {'tdk': 'tidak','yg' : 'yang','ga' : 'tidak',\n",
    "'gak' : 'tidak','d' : 'di','sy' : 'saya','&' : 'dan','dgn' : 'dengan',\n",
    "'utk' : 'untuk','gk' : 'tidak','jd' : 'jadi','jg' : 'juga','dr' : 'dari','krn' : 'karena',\n",
    "'aja' : 'saja','karna' : 'karena','udah' : 'sudah','kmr' : 'kamar','g' : 'tidak','dpt' : 'dapat','banget' : 'sekali',\n",
    "'bgt' : 'sekali','kalo' : 'kalau','n' : 'dan', 'bs' : 'bisa','oke' : 'bagus','dg' : 'dengan','pake' : 'pakai',\n",
    "'sampe' : 'sampai','dapet' : 'dapat','ad' : 'ada','lg' : 'lagi','bikin' : 'buat','tak' : 'tidak',\n",
    "'ny' : 'nya','ngga' : 'tidak','nunggu' : 'tunggu','klo' : 'kalau','blm' : 'belum','trus' : 'terus',\n",
    "'kayak' : 'seperti','dlm' : 'dalam','udh' : 'sudah','tau' : 'tahu','org' : 'orang','hrs' : 'harus','msh' : 'masih',\n",
    "'sm' : 'sama','byk' : 'banyak','krg' : 'kurang','kmar' : 'kamar','spt' : 'seperti','pdhl' : 'padahal','chek' : 'cek',\n",
    "' dteng2' : 'datang-datang','pesen' : 'pesan', 'kran' : 'keran','gitu' : 'begitu','tpi' : 'tetapi',\n",
    "'tapi':'tetapi,','lbh' : 'lebih','tmpt' : 'tempat','dikasi' : 'dikasih','serem' : 'seram', 'sya' : 'saya',\n",
    "'jgn' : 'jangan','dri' : 'dari','dtg' : 'datang','gada' : 'tidak ada','standart' : 'standar','mlm' : 'malam','k'  : 'ke','kl' : 'kalau','sgt': 'sangat','y' : 'ya','krna' : 'karena','tgl' : 'tanggal', 'terimakasih' : 'terima kasih','kecoak' : 'kecoa','pd' : 'pada','tdr' : 'tidur', 'jdi' : 'jadi','kyk' : 'seperti','sdh' : 'sudah','ama' : 'sama','gmana' : 'bagaimana','dalem' : 'dalam','tanyak' : 'tanya','taru' : 'taruh','gede' : 'besar','kaya' : 'seperti','access' : 'akses','tetep' : 'tetap','mgkin' : 'mungkin','sower' : 'shower','idup' : 'hidup','nyaaa' : 'nya','baikk' : 'baik','hanay' : 'hanya','tlp' : 'telpon','kluarga' : 'keluarga','jln' : 'jalan','hr' : 'hari','ngak' : 'tidak','bli' : 'beli','kmar' : 'kamar','naro' : 'taruh','telpon':'telepon','nlpn':'telepon','tlp':'telepon','nelpon':'telepon','ktr':'kantor','kntr':'kantor','cb' : 'coba','bgs' : 'bagus','mntp' : 'mantap','jlk' : 'jelek','smp' : 'sampai','ane' : 'saya','gw' : 'saya','gua' : 'saya','dah' : 'sudah',\"jelek.\": \"jelek\",\"dioper\": \"dioper\",\"lntai3\": \"lantai 3\",\"1lagi\": \"1 lagi\",\"lembaga pemerintag\": \"lembaga pemerintah\",\"payah.\": \"payah\",\"reformasi\": \"Reformasi\",\"paket\": \"paketnya\",\"blum\": \"belum\",\"dpt\": \"dapat\",\"pki\": \"pakai\",\"knp\": \"kenapa\",\"smpai\": \"sampai\",\"lmbat\": \"lambat\",\"dijakarta\": \"di Jakarta\",\"kerjanya\": \"kerjanya\",\"cust\": \"customer\",\"servis\": \"service\",\"konco\": \"kawan\",\"ga\": \"nggak\",\"Emang\": \"Memang\",\"Gk\": \"Nggak\",\"Gmn\": \"Gimana\",\"kl\": \"kalau\",\"dr\": \"dari\",\"rmh\": \"rumah\",\"krj\": \"kerja\",\"sm\": \"sama\",\"sdh\": \"sudah\",\"pd\": \"pada\",\"jg\": \"juga\",\"br\": \"baru\",\"bs\": \"bisa\",\"hr\": \"hari\",\"sy\": \"saya\",\"kt\": \"kita\",\"ato\": \"atau\",\"map\": \"map coklat\",\"coklat\": \"coklat\",\"blm\": \"belum\",\"sn\": \"sana\",\"yg\": \"yang\",\"payanan\": \"pelayanan\",\"pertimbanhkan\": \"pertimbangkan\",\"telfon\": \"telepon\",\"kagak\": \"nggak\",\"tlp\": \"telepon\",\"bodo\": \"bodoh\",\"bnyak\": \"banyak\",\"internet\": \"internetnya\",\"m\": \"mempermudah\",\"g\": \"nggak\",\"brp\": \"berapa\",\"drpd\": \"daripada\",\"brt\": \"berat\",\"tlpn\": \"telepon\",\"alamatnya\": \"alamat\",\"ngga\": \"nggak\",\"mentang\": \"mentang-mentang\",\"sumardi\": \"Sumardi\",\"tuan\": \"Tuan\",\"operator e\": \"operatornya\",\"kedubrak\": \"Kedodoran\",\"exspress\": \"express\",\"perna\": \"pernah\",\"payahhhhh.\": \"payah\",\"cs\": \"customer service\",\"tidakdapat\": \"tidak dapat\",\"ny\": \"nya\",\"pt.posindonesia\": \"pt. pos indonesia\",\"krm\": \"kirim\",\"spt\": \"seperti\",\"kntr\": \"kantor\",\"posindonesia\": \"pos indonesia\",\"nyuruh\": \"menyuruh\",\"yasudah\": \"ya sudah\",\"saya bilang\": \"saya berkata\",\"tasikmlaya\": \"tasikmalaya\",\"jwb\": \"jawab\",\"mdl\": \"modal\",\"tdi\": \"tadi\",\"seprti\": \"seperti\",\"tdk\": \"tidak\",\"telfn\": \"telepon\",\"no\": \"nomor\",\"mga\": \"semoga\",\"negata\": \"negara\",\"proaea\": \"proses\",\"ka tor pos\": \"kantor pos\",\"sms\": \"saya\",\"mag\": \"melalui\",\"fb\": \"facebook\",\"dlm\": \"dalam\",\"syr\": \"saya\",\"benerin\": \"benar\",\"Timur\": \"timur\",\"indoanesia\": \"indonesia\",\"Posgiro\": \"Pos Giro\",\"utang\": \"utang\",\"ambill\": \"ambil\",\"bsknyanya\": \"besoknya\",\"keesookan\": \"keesokan\",\"ujung2nya\": \"ujung-ujungnya\",\"ngejawaab\": \"menjawab\",\"kostumer\": \"customer\",\"custemer\": \"customer\",\"ditoellpn\": \"ditelpon\",\"pengantaran\": \"pengantaran\",\"hppp\": \"hape\",\"mgunakan\": \"menggunakan\",\"perlune\": \"perlu\",\n",
    "\"smp\": \"sampai\",\"telpon\": \"telepon\",\"knp\": \"kenapa\",\"bgt\": \"banget\",\"gak\": \"tidak\",\"ga\": \"tidak\",\"blm\": \"belum\",\"skrng\": \"sekarang\",\"aja\": \"saja\",\"udh\": \"sudah\",\"smpai\": \"sampai\",\"malaes\": \"males\",\"ngantar\": \"mengantar\",\"yg\": \"yang\",\"3hari\": \"tiga hari\",\"tmpat\": \"tempat\",\"kesitu\": \"ke situ\",\"beangnya\": \"biayanya\",\"skali\": \"sekali\",\"telp\": \"telepon\",\"lum\": \"belum\",\"tgl\": \"tanggal\",\"dibilang\": \"dikatakan\",\"cma\": \"cuma\",\"mw\": \"mau\",\"jd\": \"jadi\",\"jgn\": \"jangan\",\"dr\": \"dari\",\"sya\": \"saya\",\"ape\": \"apa\",\"resek\": \"rese\",\"ngga\": \"tidak\",\"klo\": \"kalau\",\"bakalan\": \"akan\",\"ky\": \"kayak\",\"krn\": \"karena\",\"sth\": \"setelah\",\"nyampe\": \"sampai\",\"d\": \"di\",\"simten\": \"sistem\",\"d tanggapi\": \"ditanggapi\",\"2minggu\": \"dua minggu\",\"2bln\": \"dua bulan\",\"bikin\": \"membuat\",\"msih\": \"masih\",\"sm\": \"sama\",\"smpe\": \"sampai\",\"blom\": \"belum\",\"lah\": \"saja\",\"sampe\": \"sampai\",\"dteng\": \"datang\",\"dn\": \"dan\",\"dtrima\": \"diterima\",\"ats\": \"atas\",\"nma\": \"nama\",\"nm\": \"nama\",\"tlfon\": \"telepon\",\"d angkat\": \"diangkat\",\"slh\": \"salah\",\"ato\": \"atau\",\"kcewa\": \"kecewa\",\"cek\": \"periksa\",\"gk\": \"tidak\",\"anter\": \"antar\",\"di anter\": \"diantar\",\"di tahan2\": \"ditahan-tahan\",\"giliran\": \"ketika\",\"ngambil\": \"mengambil\",\"koq\": \"kok\",\"skarang\": \"sekarang\",\"seh\": \"sih\",\"Endonesah\": \"Indonesia\",\"smpe2\": \"sampai-sampai\",\"ngendep\": \"mengendap\",\"pdhl\": \"padahal\",\"dkt\": \"dekat\",\"Telfon\": \"Telepon\",\"lbh\": \"lebih\",\"di retur\": \"diretur\",\"di antar2\": \"diantar-antar\",\"tlpon\": \"telepon\",\"sprt\": \"seperti\",\"dri\": \"dari\",\"sdah\": \"sudah\",\"sminggu\": \"seminggu\",\"lbih\": \"lebih\",\"smpt\": \"sempat\",\"sayamalah\": \"saya malah\",\"dkembalikan\": \"dikembalikan\",\"brng\": \"barang\",\"brp\": \"berapa\",\"poa\": \"pos\",\"ktne\": \"katanya\",\"brg\": \"barang\",\"eksoedisi\": \"ekspedisi\",\"nggak\": \"tidak\",\"tlg\": \"tolong\",\"ajh\": \"aja\",\"mislkan\": \"misalkan\",\"trmksh\": \"terima kasih\",\"sampek\": \"sampai\",\"gabisa\": \"tidak bisa\",\"tdk\": \"tidak\",\"WU\": \"Western Union\",\"gnya\": \"tidak-nya\",\"dipelayanan\": \"di pelayanan\",\"dibelakng\": \"di belakang\",\"g\": \"tidak\",\"bknya\": \"bukannya\",\"cs\": \"customer service\",\"sby\": \"Surabaya\",\"ktnya\": \"katanya\",\"pengirimin\": \"pengiriman\",\"sloooww\": \"slow\",\"berbelit\\\"\": \"berbelit-belit\",\"dtng\": \"datang\",\"gw\": \"saya\",\"ampe\": \"sampai\",\"bsok\": \"besok\",\"goblokk\": \"goblok\",\"bangeeet\": \"banget\",\"yaudah\": \"ya sudah\",\"kerjanya\": \"kerja nya\",\"gniat\": \"tidak niat\",\"kenkantornya\": \"ke kantornya\",\"gni\": \"begini\",\"ampas\": \"buruk\",\"gedor2\": \"gedor-gedor\",\"klakson2\": \"klakson-klakson\",\"di anter2\": \"diantar-antar\",\"bngt\": \"banget\",\"pket\": \"paket\",\"tlp\": \"telepon\",\"dtelpon\": \"ditelepon\",\"didiemin\": \"dibiarkan\",\" nya\": \"nya\",\"kl\": \"kalau\",\"bsk\": \"besok\",\"di tlp\": \"ditelepon\",\"sbnrnya\": \"sebenarnya\",\"cust\": \"customer\",\"custemer\": \"customer\",\"brang\": \"barang\",\"lmpung\": \"lampung\",\"dtuju\": \"dituju\",\"dteruskan\": \"diteruskan\",\"pk\": \"pakai\",\"mudik\": \"pulang kampung\",\"kerumah\": \"ke rumah\",\"maketin\": \"mengirimkan\",\"ngapalin\": \"menghapal\",\"trs\": \"terus\",\"ny\": \"nya\",\"dikirimnya\": \"dikirim\",\"kmrin\": \"kemarin\",\"kmrn\": \"kemarin\",\"gausah\": \"tidak usah\",\"gaakan\": \"tidak akan\",\"pake\": \"pakai\",\"kenk\": \"ke\",\"bru\": \"baru\",\"byaar\": \"bayar\",\"brgnya\": \"barangnya\",\"bsa\": \"bisa\",\"jng\": \"jangan\",\"bnyak\": \"banyak\",\"sy\": \"saya\",\"dt\": \"datang\",\"res\": \"resi\",\"gmna\": \"bagaimana\",\"bkin\": \"bikin\",\"mkn\": \"makan\",\"bnr2\": \"benar-benar\",\"pliz\": \"please\",\"kapok\": \"jerah\",\"ngendon\": \"mengendap\",\"cus\": \"customer\",\"mnding\": \"mending\",\"dgn\": \"dengan\",\"kirimnya\": \"dikirim\",\"neng\": \"adik\",\"cepet\": \"cepat\",\"dkirim\": \"dikirim\",\"kirimny\": \"pengirimannya\",\"mlah\": \"malah\",\"kiriman\": \"paket\",\"sb\": \"sudah\",\"tnggl\": \"tanggal\",\"trnyata\": \"ternyata\",\"bln\": \"bulan\",\"dktr\": \"dekat\",\"sni\": \"sini\",\"km\": \"kamu\",\"lo\": \"kamu\",\"smua\": \"semua\",\"kmna\": \"ke mana\",\"tln\": \"tolong\",\"dkirim2\": \"dikirim-kirim\",\"kjra\": \"kerja\",\"sbnr\": \"sebenar\",\"masi\": \"masih\",\"btul\": \"betul\",\"mlm\": \"malam\",\"kmren\": \"kemarin\",\"dtruskan\": \"diteruskan\",\"yng\": \"yang\",\"pakrt\": \"paket\",\"mnt\": \"minta\",\"pelayananx\": \"pelayanannya\",\"barng\": \"barang\",\"skr\": \"sekarang\",\"jg\": \"juga\",\"ktanya\": \"katanya\",\"dhlm\": \"dalam\",\"komplen\": \"komplain\",\"negri\": \"negeri\",\"nmr\": \"nomor\",\"na\": \"nya\",\"pmbyrn\": \"pembayaran\",\"dkasih\": \"diberikan\",\"antebin\": \"diabaikan\",\"kga\": \"tidak\",\"pryanan\": \"pelayanan\",\"tidk\": \"tidak\",\"ccd\": \"cacat\",\"ngentddd\": \"ngentot\",\"dkembalikn\": \"dikembalikan\",\"trlebih\": \"terlebih\",\"d-sms\": \"di-sms\",\"telfon\": \"telepon\",\"nyampenny\": \"sampainya\",\"gue\": \"saya\",\n",
    "\"aj\": \"saja\",\"didiemin\": \"dibiarkan\",\"gue\": \"saya\",\"bngt\": \"banget\",\"klo\": \"kalau\",\"kmana\": \"ke mana\",\"udah\": \"sudah\",\"mao\": \"mau\",\"gimana\": \"bagaimana\",\"dibilang\": \"dikatakan\",\"kpn\": \"kapan\",\"nih\": \"ini\",\"gw\": \"saya\",\"ngapaen\": \"ngapain\",\"kalaw\": \"kalau\",\"kg\": \"tidak\",\"dksh\": \"dikasih\",\"no\": \"nomor\",\"lembr\": \"lembar\",\"cuman\": \"hanya\",\"pdhl\": \"padahal\",\"bkin\": \"bikin\",\"ampe\": \"sampai\",\"pmbyrn\": \"pembayaran\",\"si\": \"sih\",\"bgt\": \"banget\",\"dkasi\": \"diberi\",\"trus\": \"terus\",\"loketnya\": \"loketnya\",\"yng\": \"yang\",\"ga\": \"tidak\",\"gk\": \"tidak\",\"g\": \"tidak\",\"gt\": \"tidak\",\"ni\": \"ini\",\"ktr\": \"kantor\",\"resi\": \"resi\",\"blm\": \"belum\",\"sampe\": \"sampai\",\"udh\": \"sudah\",\"pdhal\": \"padahal\",\"dr\": \"dari\",\"bakalan\": \"akan\",\"batalin\": \"batalkan\",\"telpon\": \"telepon\",\"ditelpon\": \"ditelepon\",\"diteleponin\": \"ditelepon\",\"parahhh\": \"parah\",\"bangat\": \"banget\",\"dtelponin\": \"ditelepon\",\"blum\": \"belum\",\"smpe\": \"sampai\",\"swtiap\": \"setiap\",\"hadeuhh\": \"hadeuh\",\"kevewa\": \"kecewa\",\"jwab\": \"jawab\",\"astaghfirullah\": \"astaghfirullah\",\"bgst\": \"bangsat\",\"dijawab\": \"dijawab\",\"gaada\": \"tidak ada\",\"masak\": \"masa\",\"alesannya\": \"alasannya\",\"gak\": \"tidak\",\"gimana deh\": \"bagaimana\",\"haha\": \"ha-ha\",\"coi\": \"coy\",\"digeletakin\": \"digeletakkan\",\"jutek-jutek\": \"jutek\",\"ambyarr\": \"ambyar\",\"yaampun\": \"ya ampun\",\"sma\": \"sama\",\"aza\": \"saja\",\"bsa\": \"bisa\",\"kerja lelet\": \"kerjanya lambat\",\"ngga\": \"tidak\",\"ga bagus\": \"tidak bagus\",\"gak sampai2\": \"tidak sampai-sampai\",\"pwt\": \"purwokerto\",\"pbg\": \"pekalongan\",\"mksudnya\": \"maksudnya\",\"mbok\": \"sebaiknya\",\"trs\": \"terus\",\"smua\": \"semua\",\"makanya\": \"maka dari itu\",\"ja\": \"saja\",\"brat\": \"banget\",\"amit amit\": \"amit-amit\",\"sani\": \"sana\",\"di tlp\": \"ditelepon\",\"loh\": \"lho\",\"kapokk\": \"kapok\",\"lelet\": \"lambat\",\"susah dihubungi\": \"sulit dihubungi\",\"enggak\": \"tidak\",\"engk\": \"tidak\",\"someday\": \"nanti\",\"lha\": \"lah\",\"ga nyampe\": \"tidak sampai\",\"nyampenya\": \"sampainya\",\"paketan\": \"paket\",\"alamatnya\": \"alamat\",\"alamatnya ga lengkap\": \"alamat tidak lengkap\",\"pelayananya\": \"pelayanannya\",\"alamat ga lengkap\": \"alamat tidak lengkap\",\"alamat gak lengkap\": \"alamat tidak lengkap\",\"pelayanannya ga jelas\": \"pelayanannya tidak jelas\",\"pelayanan buruk\": \"pelayanannya buruk\",\"parahhhh\": \"parah\",\"pelayanan jelek\": \"pelayanannya buruk\",\"tai\": \"buruk\",\"tai kucing\": \"sangat buruk\",\"mbanya\": \"mbaknya\",\"ga ngenakin\": \"tidak mengenakkan\",\"kaya\": \"seperti\",\"custumer\": \"customer\",\"kaya driver2\": \"seperti para driver\",\"nulis nama\": \"menulis nama\",\"parah banget\": \"sangat parah\",\"makin ngawur\": \"semakin kacau\",\"tdk\": \"tidak\",\"ga ada\": \"tidak ada\",\"pelayanannya buruk\": \"pelayanannya buruk\",\"lbh\": \"lebih\",\"mandi keringet\": \"berkeringat\",\"pelayanan nya\": \"pelayanannya\",\"ngirim\": \"mengirim\",\"gini\": \"begini\",\"gak mau\": \"tidak mau\",\"loket hantu\": \"loket kosong\",\"pake\": \"pakai\",\"pelayanan prima\": \"layanan prima\",\"kapan\": \"sejak kapan\",\"nyantol\": \"terhenti\",\"berhari²\": \"berhari-hari\",\"yng\": \"yang\",\"udh\": \"sudah\",\"ga\": \"tidak\",\"g\": \"tidak\",\"jg\": \"juga\",\"smpe\": \"sampai\",\"smp\": \"sampai\",\"td\": \"tadi\",\"tlp\": \"telepon\",\"ditlp\": \"ditelepon\",\"klo\": \"kalau\",\"pki\": \"pakai\",\"dr\": \"dari\",\"smpai\": \"sampai\",\"aja\": \"saja\",\"jd\": \"jadi\",\"bgt\": \"banget\",\"bgtu\": \"begitu\",\"dpt\": \"dapat\",\"kmren\": \"kemarin\",\"blm\": \"belum\",\"dkrim\": \"dikirim\",\"dhl\": \"padahal\",\"dgn\": \"dengan\",\"tdk\": \"tidak\",\"lgsg\": \"langsung\",\"pdhl\": \"padahal\",\"nyampe\": \"sampai\",\"pda\": \"pada\",\"sy\": \"saya\",\"bkin\": \"bikin\",\"trs\": \"terus\",\"smrg\": \"semarang\",\"mlng\": \"malang\",\"sm\": \"sama\",\"ny\": \"nya\",\"bln\": \"bulan\",\"gmna\": \"bagaimana\",\"cuma\": \"hanya\",\"nggak\": \"tidak\",\"grgr\": \"gara-gara\",\"dhhbungi\": \"dihubungi\",\"gk\": \"tidak\",\"sma\": \"sama\",\"kaga\": \"tidak\",\"perna\": \"pernah\",\"pelayananya\": \"pelayanannya\",\"nmr\": \"nomor\",\"bbrp\": \"beberapa\",\"bkn\": \"bukan\",\"pn\": \"pun\",\"materii\": \"materai\",\"cuiuui\": \"cukup\",\"mater\": \"maret\",\"trma\": \"terima\",\"bknya\": \"bukannya\",\"truss\": \"terus\",\"anu\": \"itu\",\"ono\": \"itu\",\"tau\": \"tahu\",\"lho\": \"loh\",\"mpospay\": \"pospay\",\"trimakasih\": \"terima kasih\",\"bnyk\": \"banyak\",\"lagi2\": \"lagi-lagi\",\"nggk\": \"tidak\",\"sampek\": \"sampai\",\"ne\": \"ini\",\"yg\": \"yang\",\"ki\": \"ini\",\"opo\": \"apa\",\"taukah\": \"tahu kah\",\"lgi\": \"lagi\",\"lg\": \"lagi\",\"kaya\": \"seperti\",\"mls\": \"malas\",\"dateng2\": \"datang-datang\",\"kurirny\": \"kurirnya\",\"seenggaknya\": \"setidaknya\",\"dong\": \"lah\",\"kuyup\": \"basah\",\"cs\": \"customer service\",\"info\": \"informasi\",\"staff\": \"staf\",\"pasien\": \"kesabaran\",\"mengerikan\": \"buruk\",\"jga\": \"juga\",\"dh\": \"sudah\",\"lemot\": \"lambat\",\"gw\": \"saya\",\"sampe2\": \"sampai-sampai\",\"blom\": \"belum\",\"d\": \"di\",\"sampe\": \"sampai\",\"pdahal\": \"padahal\",\"hadeuhhh\": \"aduh\",\"padhl\": \"padahal\",\"aturankan\": \"aturannya\",\"gimana\": \"bagaimana\",\"nanyain\": \"menanyakan\",\"gaada\": \"tidak ada\",\"menau\": \"mengetahui\",\"belom\": \"belum\",\"nanya\": \"bertanya\",\"donk\": \"dong\",\"sibuk\": \"sedang sibuk\",\"ekspedisi\": \"jasa kirim\",\"costumer\": \"customer\",\"songong\": \"sombong\",\"madih\": \"masih\",\"ngga\": \"tidak\",\"knpa\": \"kenapa\",\"tlpn\": \"telepon\",\"lha\": \"lah\",\"asw\": \"anjing\",\"oy\": \"hei\",\"kirim\": \"mengirim\",\"ngecek\": \"memeriksa\",\"blagak\": \"berlagak\",\"doank\": \"saja\",\"kucuk\": \"berjalan pelan\",\"dah\": \"sudah\",\"anjir\": \"waduh\",\"lhh\": \"lah\",\"gx\": \"tidak\",\"pak\": \"bapak\",\"bu\": \"ibu\",\"pake\": \"pakai\",\"nexday\": \"next day\",\"perbaikilh\": \"perbaikilah\",\"jngn\": \"jangan\",\"kecewakn\": \"mengecewakan\",\"dimna\": \"di mana\",\"tsb\": \"tersebut\",\"ngepos\": \"mengirim\",\"mba2\": \"mbak-mbak\",\"bapak2\": \"bapak-bapak\",\"amburadul\": \"kacau\",\"custumor\": \"customer\",\"trening\": \"training\",\"keblakang\": \"ke belakang\",\"sequrity\": \"security\",\"myenangkann\": \"menyenangkan\",\"pek\": \"paket\",\"aoa\": \"apa\",\"buble\": \"bubble\",\"ekpresi\": \"ekspresi\",\"capeknya\": \"kelelahannya\",\"malih\": \"lagi\",\"noll\": \"nol\",\"dikit\": \"sedikit\"\n",
    "}\n",
    "\n",
    "list_sentence_train = []\n",
    "for sentence in data['review_text_cleaned'] :\n",
    "    cleaned_sentence = [words_dict[word] if word in list(words_dict.keys()) else word for word in sentence.split()]\n",
    "    list_sentence_train.append(' '.join(cleaned_sentence))\n",
    "data['review_text_cleaned'] = list_sentence_train"
   ]
  },
  {
   "cell_type": "code",
   "execution_count": 5,
   "id": "4bb00b9b",
   "metadata": {},
   "outputs": [],
   "source": [
    "# stop_words = [\n",
    "#     'yang', 'dan', 'di', 'ke', 'dari', 'ini', 'untuk', 'dengan', 'pada', 'juga',\n",
    "#     'sebagai', 'karena', 'saat', 'adalah', 'itu', 'dalam', 'tidak', 'akan', 'atau', 'agar',\n",
    "#     'bagi', 'maupun', 'lebih', 'telah', 'para', 'namun', 'sudah', 'masih', 'setelah', 'harus',\n",
    "#     'bisa', 'dapat', 'tanpa', 'hingga', 'selama', 'sejak', 'sebelum', 'sesudah', 'antara',\n",
    "#     'tentang', 'demi', 'bahwa', 'supaya', 'adapun', 'terhadap', 'kepada', 'aku', 'saya',\n",
    "#     'kamu', 'dia', 'mereka', 'kami', 'kita', 'engkau', 'nya', 'mu', 'ku', 'kau', 'lah', 'pun',\n",
    "#     'hanya', 'saja', 'kalau', 'begitu', 'maka', 'jadi', 'sambil', 'serta',\n",
    "#     'seperti', 'yaitu', 'yakni', 'hingga', 'sementara', 'misalnya', 'barangkali', 'melainkan',\n",
    "#     'padahal', 'sebab', 'alhasil', 'justru', 'namanya', 'kecuali', 'bahkan', 'punya',\n",
    "#     'bukan', 'ya', 'eh', 'oh', 'nah', 'ok', 'oke', 'nah', 'emang', 'dong', 'deh', 'kan', 'toh',\n",
    "#     'gak', 'nggak', 'tidak', 'enggak', 'udah', 'udah', 'aja', 'cuma', 'doang', 'biar',\n",
    "#     'malah', 'kayak', 'gitu', 'gini', 'nih', 'loh', 'siapa', 'apa', 'mana', 'berapa', 'kenapa',\n",
    "#     'mengapa', 'kapan', 'dalamnya', 'beserta', 'termasuk', 'buat', 'bentuk', 'oleh', 'berikut',\n",
    "#     'lalu', 'tapi', 'tetapi', 'pernah', 'hingga', 'jika', 'seandainya', 'anda', 'waktu', 'mau',\n",
    "#     'sedang', 'lagi', 'bila', 'misal', 'contoh', 'terus', 'seolah', 'seakan','menurut', 'dua', 'ia', \n",
    "#     'sehingga', 'kembali', 'sekitar', 'hal','ketika', 'ada', 'secara', 'lain', 'daripada', 'itulah',\n",
    "#     'dimana', 'kemana', 'pula', 'guna', 'kah', 'sampai','sedangkan', 'selagi', 'apakah', 'selain', 'seraya', \n",
    "#     'agak', 'boleh', 'dsb', 'dst', 'dll', 'dahulu', 'dulunya', 'anu', 'demikian',\n",
    "#     'ingin',  'mari', 'nanti', 'seharusnya', 'sebetulnya','seterusnya',\n",
    "#     'setiap', 'setidaknya', 'sesuatu', 'pasti', 'walau', 'tolong', 'tentu', 'amat',\n",
    "#     'apalagi', 'bagaimanapun', 'sekali','masa'\n",
    "# ]\n",
    "# keep_stopwords = ['tidak', 'belum', 'kurang','tetapi', 'kecuali']\n",
    "# fix_stopwords = [word for word in stop_words if word not in keep_stopwords]\n",
    "\n",
    "# # Remove stopwords and clean text\n",
    "# data['review_text_cleaned'] = data['review_text_cleaned'].apply(\n",
    "#     lambda text: ' '.join([word for word in text.split() if word not in fix_stopwords]).strip()\n",
    "# )\n",
    "\n",
    "# # Replace empty strings with NaN\n",
    "# data['review_text_cleaned'].replace('', pd.NA, inplace=True)\n",
    "\n",
    "# # Drop rows where cleaned text is NaN\n",
    "# data.dropna(subset=['review_text_cleaned'], inplace=True)"
   ]
  },
  {
   "cell_type": "code",
   "execution_count": 6,
   "id": "42f12447",
   "metadata": {},
   "outputs": [],
   "source": [
    "# # create stemmer\n",
    "# factory = StemmerFactory()\n",
    "# stemmer = factory.create_stemmer()\n",
    "\n",
    "# # apply stemming\n",
    "# def safe_stem(text):\n",
    "#     try:\n",
    "#         return stemmer.stem(text)\n",
    "#     except:\n",
    "#         return 'error'\n",
    "\n",
    "# data['review_text_cleaned'] = data['review_text_cleaned'].apply(safe_stem)\n"
   ]
  },
  {
   "cell_type": "markdown",
   "id": "dad476a7",
   "metadata": {},
   "source": [
    "HANIFNOERR"
   ]
  },
  {
   "cell_type": "code",
   "execution_count": 7,
   "id": "329c16ec",
   "metadata": {},
   "outputs": [
    {
     "name": "stdout",
     "output_type": "stream",
     "text": [
      "sentiment_result_hanifnoerr\n",
      "positive    2467\n",
      "negative    1793\n",
      "neutral      692\n",
      "Name: count, dtype: int64\n"
     ]
    }
   ],
   "source": [
    "data[['sentiment_result_hanifnoerr', 'score_sentiment_result_hanifnoerr']] = data['review_text_cleaned'].apply(\n",
    "    lambda x: pd.Series(analyze_sentiment_hanifnoerr(x))\n",
    ")\n",
    "print(data['sentiment_result_hanifnoerr'].value_counts())"
   ]
  },
  {
   "cell_type": "code",
   "execution_count": 8,
   "id": "8d157e2d",
   "metadata": {},
   "outputs": [
    {
     "name": "stderr",
     "output_type": "stream",
     "text": [
      "C:\\Users\\POS\\AppData\\Local\\Temp\\ipykernel_34896\\1922892403.py:5: FutureWarning: \n",
      "\n",
      "Passing `palette` without assigning `hue` is deprecated and will be removed in v0.14.0. Assign the `x` variable to `hue` and set `legend=False` for the same effect.\n",
      "\n",
      "  sns.countplot(data=data, x='sentiment_result_hanifnoerr', order=data['sentiment_result_hanifnoerr'].value_counts().index, palette='pastel')\n"
     ]
    },
    {
     "data": {
      "image/png": "[encoded data removed]",
      "text/plain": [
       "<Figure size 800x500 with 1 Axes>"
      ]
     },
     "metadata": {},
     "output_type": "display_data"
    }
   ],
   "source": [
    "import matplotlib.pyplot as plt\n",
    "import seaborn as sns\n",
    "\n",
    "plt.figure(figsize=(8, 5))\n",
    "sns.countplot(data=data, x='sentiment_result_hanifnoerr', order=data['sentiment_result_hanifnoerr'].value_counts().index, palette='pastel')\n",
    "plt.title('Distribusi Sentimen Review')\n",
    "plt.xlabel('Label Sentimen')\n",
    "plt.ylabel('Jumlah')\n",
    "plt.xticks(rotation=45)\n",
    "plt.tight_layout()\n",
    "plt.show()"
   ]
  },
  {
   "cell_type": "markdown",
   "id": "42f1fa38",
   "metadata": {},
   "source": [
    "crypter70"
   ]
  },
  {
   "cell_type": "code",
   "execution_count": 9,
   "id": "018eeaac",
   "metadata": {},
   "outputs": [
    {
     "name": "stdout",
     "output_type": "stream",
     "text": [
      "sentiment_result_crypter70\n",
      "POSITIVE    2386\n",
      "NEGATIVE    1704\n",
      "NEUTRAL      862\n",
      "Name: count, dtype: int64\n"
     ]
    }
   ],
   "source": [
    "data[['sentiment_result_crypter70', 'score_sentiment_result_crypter70']] = data['review_text_cleaned'].apply(\n",
    "    lambda x: pd.Series(analyze_sentiment_crypter70(x))\n",
    ")\n",
    "print(data['sentiment_result_crypter70'].value_counts())"
   ]
  },
  {
   "cell_type": "code",
   "execution_count": 10,
   "id": "d0739b88",
   "metadata": {},
   "outputs": [
    {
     "name": "stderr",
     "output_type": "stream",
     "text": [
      "C:\\Users\\POS\\AppData\\Local\\Temp\\ipykernel_34896\\3126681369.py:5: FutureWarning: \n",
      "\n",
      "Passing `palette` without assigning `hue` is deprecated and will be removed in v0.14.0. Assign the `x` variable to `hue` and set `legend=False` for the same effect.\n",
      "\n",
      "  sns.countplot(data=data, x='sentiment_result_crypter70', order=data['sentiment_result_crypter70'].value_counts().index, palette='pastel')\n"
     ]
    },
    {
     "data": {
      "image/png": "[encoded data removed]",
      "text/plain": [
       "<Figure size 800x500 with 1 Axes>"
      ]
     },
     "metadata": {},
     "output_type": "display_data"
    }
   ],
   "source": [
    "import matplotlib.pyplot as plt\n",
    "import seaborn as sns\n",
    "\n",
    "plt.figure(figsize=(8, 5))\n",
    "sns.countplot(data=data, x='sentiment_result_crypter70', order=data['sentiment_result_crypter70'].value_counts().index, palette='pastel')\n",
    "plt.title('Distribusi Sentimen Review')\n",
    "plt.xlabel('Label Sentimen')\n",
    "plt.ylabel('Jumlah')\n",
    "plt.xticks(rotation=45)\n",
    "plt.tight_layout()\n",
    "plt.show()"
   ]
  },
  {
   "cell_type": "markdown",
   "id": "4c2460ab",
   "metadata": {},
   "source": [
    "w11wo"
   ]
  },
  {
   "cell_type": "code",
   "execution_count": 11,
   "id": "50d5bf3e",
   "metadata": {},
   "outputs": [
    {
     "name": "stdout",
     "output_type": "stream",
     "text": [
      "sentiment_result_w11wo\n",
      "positive    2455\n",
      "negative    1631\n",
      "neutral      866\n",
      "Name: count, dtype: int64\n"
     ]
    }
   ],
   "source": [
    "data[['sentiment_result_w11wo', 'score_sentiment_result_w11wo']] = data['review_text_cleaned'].apply(\n",
    "    lambda x: pd.Series(analyze_sentiment_w11wo(x))\n",
    ")\n",
    "print(data['sentiment_result_w11wo'].value_counts())"
   ]
  },
  {
   "cell_type": "code",
   "execution_count": 12,
   "id": "59a7d57f",
   "metadata": {},
   "outputs": [
    {
     "name": "stderr",
     "output_type": "stream",
     "text": [
      "C:\\Users\\POS\\AppData\\Local\\Temp\\ipykernel_34896\\392182998.py:4: FutureWarning: \n",
      "\n",
      "Passing `palette` without assigning `hue` is deprecated and will be removed in v0.14.0. Assign the `x` variable to `hue` and set `legend=False` for the same effect.\n",
      "\n",
      "  sns.countplot(data=data, x='sentiment_result_w11wo', order=data['sentiment_result_w11wo'].value_counts().index, palette='pastel')\n"
     ]
    },
    {
     "data": {
      "image/png": "[encoded data removed]",
      "text/plain": [
       "<Figure size 800x500 with 1 Axes>"
      ]
     },
     "metadata": {},
     "output_type": "display_data"
    }
   ],
   "source": [
    "import matplotlib.pyplot as plt\n",
    "import seaborn as sns\n",
    "plt.figure(figsize=(8, 5))\n",
    "sns.countplot(data=data, x='sentiment_result_w11wo', order=data['sentiment_result_w11wo'].value_counts().index, palette='pastel')\n",
    "plt.title('Distribusi Sentimen Review')\n",
    "plt.xlabel('Label Sentimen')\n",
    "plt.ylabel('Jumlah')\n",
    "plt.xticks(rotation=45)\n",
    "plt.tight_layout()\n",
    "plt.show()"
   ]
  },
  {
   "cell_type": "code",
   "execution_count": 13,
   "id": "6682cca6",
   "metadata": {},
   "outputs": [
    {
     "name": "stdout",
     "output_type": "stream",
     "text": [
      "sentiment_result_ayameRushia\n",
      "Positive    2291\n",
      "Negative    1640\n",
      "Neutral     1021\n",
      "Name: count, dtype: int64\n"
     ]
    }
   ],
   "source": [
    "data[['sentiment_result_ayameRushia', 'score_sentiment_result_ayameRushia']] = data['review_text_cleaned'].apply(\n",
    "    lambda x: pd.Series(analyze_sentiment_ayameRushia(x))\n",
    ")\n",
    "print(data['sentiment_result_ayameRushia'].value_counts())"
   ]
  },
  {
   "cell_type": "code",
   "execution_count": 14,
   "id": "d0fdb12f",
   "metadata": {},
   "outputs": [
    {
     "name": "stderr",
     "output_type": "stream",
     "text": [
      "C:\\Users\\POS\\AppData\\Local\\Temp\\ipykernel_34896\\4168932491.py:4: FutureWarning: \n",
      "\n",
      "Passing `palette` without assigning `hue` is deprecated and will be removed in v0.14.0. Assign the `x` variable to `hue` and set `legend=False` for the same effect.\n",
      "\n",
      "  sns.countplot(data=data, x='sentiment_result_ayameRushia', order=data['sentiment_result_ayameRushia'].value_counts().index, palette='pastel')\n"
     ]
    },
    {
     "data": {
      "image/png": "[encoded data removed]",
      "text/plain": [
       "<Figure size 800x500 with 1 Axes>"
      ]
     },
     "metadata": {},
     "output_type": "display_data"
    }
   ],
   "source": [
    "import matplotlib.pyplot as plt\n",
    "import seaborn as sns\n",
    "plt.figure(figsize=(8, 5))\n",
    "sns.countplot(data=data, x='sentiment_result_ayameRushia', order=data['sentiment_result_ayameRushia'].value_counts().index, palette='pastel')\n",
    "plt.title('Distribusi Sentimen Review')\n",
    "plt.xlabel('Label Sentimen')\n",
    "plt.ylabel('Jumlah')\n",
    "plt.xticks(rotation=45)\n",
    "plt.tight_layout()\n",
    "plt.show()"
   ]
  },
  {
   "cell_type": "code",
   "execution_count": 15,
   "id": "a238c045",
   "metadata": {},
   "outputs": [
    {
     "name": "stdout",
     "output_type": "stream",
     "text": [
      "sentiment_result_Aardiiiiy\n",
      "Negative    1784\n",
      "Positive    1684\n",
      "Neutral     1484\n",
      "Name: count, dtype: int64\n"
     ]
    }
   ],
   "source": [
    "data[['sentiment_result_Aardiiiiy', 'score_sentiment_result_Aardiiiiy']] = data['review_text_cleaned'].apply(\n",
    "    lambda x: pd.Series(analyze_sentiment_Aardiiiiy(x))\n",
    ")\n",
    "print(data['sentiment_result_Aardiiiiy'].value_counts())"
   ]
  },
  {
   "cell_type": "code",
   "execution_count": 16,
   "id": "5a7133d0",
   "metadata": {},
   "outputs": [
    {
     "name": "stderr",
     "output_type": "stream",
     "text": [
      "C:\\Users\\POS\\AppData\\Local\\Temp\\ipykernel_34896\\331142182.py:4: FutureWarning: \n",
      "\n",
      "Passing `palette` without assigning `hue` is deprecated and will be removed in v0.14.0. Assign the `x` variable to `hue` and set `legend=False` for the same effect.\n",
      "\n",
      "  sns.countplot(data=data, x='sentiment_result_Aardiiiiy', order=data['sentiment_result_Aardiiiiy'].value_counts().index, palette='pastel')\n"
     ]
    },
    {
     "data": {
      "image/png": "[encoded data removed]",
      "text/plain": [
       "<Figure size 800x500 with 1 Axes>"
      ]
     },
     "metadata": {},
     "output_type": "display_data"
    }
   ],
   "source": [
    "import matplotlib.pyplot as plt\n",
    "import seaborn as sns\n",
    "plt.figure(figsize=(8, 5))\n",
    "sns.countplot(data=data, x='sentiment_result_Aardiiiiy', order=data['sentiment_result_Aardiiiiy'].value_counts().index, palette='pastel')\n",
    "plt.title('Distribusi Sentimen Review')\n",
    "plt.xlabel('Label Sentimen')\n",
    "plt.ylabel('Jumlah')\n",
    "plt.xticks(rotation=45)\n",
    "plt.tight_layout()\n",
    "plt.show()"
   ]
  },
  {
   "cell_type": "code",
   "execution_count": 17,
   "id": "dd5f99a6",
   "metadata": {},
   "outputs": [
    {
     "data": {
      "text/html": [
       "<div>\n",
       "<style scoped>\n",
       "    .dataframe tbody tr th:only-of-type {\n",
       "        vertical-align: middle;\n",
       "    }\n",
       "\n",
       "    .dataframe tbody tr th {\n",
       "        vertical-align: top;\n",
       "    }\n",
       "\n",
       "    .dataframe thead th {\n",
       "        text-align: right;\n",
       "    }\n",
       "</style>\n",
       "<table border=\"1\" class=\"dataframe\">\n",
       "  <thead>\n",
       "    <tr style=\"text-align: right;\">\n",
       "      <th></th>\n",
       "      <th>review_text_cleaned</th>\n",
       "      <th>sentiment_result_hanifnoerr</th>\n",
       "      <th>score_sentiment_result_hanifnoerr</th>\n",
       "      <th>sentiment_result_crypter70</th>\n",
       "      <th>score_sentiment_result_crypter70</th>\n",
       "      <th>sentiment_result_w11wo</th>\n",
       "      <th>score_sentiment_result_w11wo</th>\n",
       "      <th>sentiment_result_ayameRushia</th>\n",
       "      <th>score_sentiment_result_ayameRushia</th>\n",
       "      <th>sentiment_result_Aardiiiiy</th>\n",
       "      <th>score_sentiment_result_Aardiiiiy</th>\n",
       "    </tr>\n",
       "  </thead>\n",
       "  <tbody>\n",
       "    <tr>\n",
       "      <th>4</th>\n",
       "      <td>telepon setengah pagi sampai setengah siang ke...</td>\n",
       "      <td>negative</td>\n",
       "      <td>0.999920</td>\n",
       "      <td>negative</td>\n",
       "      <td>0.999953</td>\n",
       "      <td>negative</td>\n",
       "      <td>0.999412</td>\n",
       "      <td>negative</td>\n",
       "      <td>0.999867</td>\n",
       "      <td>negative</td>\n",
       "      <td>0.995867</td>\n",
       "    </tr>\n",
       "    <tr>\n",
       "      <th>5</th>\n",
       "      <td>tracking cwus displaying tracking parcels feat...</td>\n",
       "      <td>negative</td>\n",
       "      <td>0.999790</td>\n",
       "      <td>negative</td>\n",
       "      <td>0.999914</td>\n",
       "      <td>negative</td>\n",
       "      <td>0.998251</td>\n",
       "      <td>negative</td>\n",
       "      <td>0.990529</td>\n",
       "      <td>negative</td>\n",
       "      <td>0.992599</td>\n",
       "    </tr>\n",
       "    <tr>\n",
       "      <th>6</th>\n",
       "      <td>pengiriman kilat sudah hari belum datang telep...</td>\n",
       "      <td>negative</td>\n",
       "      <td>0.999877</td>\n",
       "      <td>negative</td>\n",
       "      <td>0.999898</td>\n",
       "      <td>negative</td>\n",
       "      <td>0.979036</td>\n",
       "      <td>negative</td>\n",
       "      <td>0.999616</td>\n",
       "      <td>negative</td>\n",
       "      <td>0.990070</td>\n",
       "    </tr>\n",
       "    <tr>\n",
       "      <th>8</th>\n",
       "      <td>maaf saya coba telepon kok tidak bisa tanya te...</td>\n",
       "      <td>negative</td>\n",
       "      <td>0.999836</td>\n",
       "      <td>negative</td>\n",
       "      <td>0.886690</td>\n",
       "      <td>negative</td>\n",
       "      <td>0.836688</td>\n",
       "      <td>neutral</td>\n",
       "      <td>0.962506</td>\n",
       "      <td>negative</td>\n",
       "      <td>0.633915</td>\n",
       "    </tr>\n",
       "    <tr>\n",
       "      <th>9</th>\n",
       "      <td>paketnya dari jakpus ke tangerang sudah seming...</td>\n",
       "      <td>neutral</td>\n",
       "      <td>0.514757</td>\n",
       "      <td>neutral</td>\n",
       "      <td>0.999817</td>\n",
       "      <td>negative</td>\n",
       "      <td>0.922176</td>\n",
       "      <td>neutral</td>\n",
       "      <td>0.998036</td>\n",
       "      <td>negative</td>\n",
       "      <td>0.628107</td>\n",
       "    </tr>\n",
       "    <tr>\n",
       "      <th>...</th>\n",
       "      <td>...</td>\n",
       "      <td>...</td>\n",
       "      <td>...</td>\n",
       "      <td>...</td>\n",
       "      <td>...</td>\n",
       "      <td>...</td>\n",
       "      <td>...</td>\n",
       "      <td>...</td>\n",
       "      <td>...</td>\n",
       "      <td>...</td>\n",
       "      <td>...</td>\n",
       "    </tr>\n",
       "    <tr>\n",
       "      <th>6828</th>\n",
       "      <td>puas sekali dengan pelayanan pengiriman hewan ...</td>\n",
       "      <td>positive</td>\n",
       "      <td>0.999946</td>\n",
       "      <td>positive</td>\n",
       "      <td>0.999950</td>\n",
       "      <td>positive</td>\n",
       "      <td>0.988157</td>\n",
       "      <td>positive</td>\n",
       "      <td>0.999144</td>\n",
       "      <td>positive</td>\n",
       "      <td>0.997733</td>\n",
       "    </tr>\n",
       "    <tr>\n",
       "      <th>6830</th>\n",
       "      <td>pelayanannya petugas customer service mantap s...</td>\n",
       "      <td>positive</td>\n",
       "      <td>0.999948</td>\n",
       "      <td>positive</td>\n",
       "      <td>0.999943</td>\n",
       "      <td>positive</td>\n",
       "      <td>0.998768</td>\n",
       "      <td>positive</td>\n",
       "      <td>0.999666</td>\n",
       "      <td>positive</td>\n",
       "      <td>0.998498</td>\n",
       "    </tr>\n",
       "    <tr>\n",
       "      <th>6831</th>\n",
       "      <td>saja mengunjungi kantor pos besar khusunya bag...</td>\n",
       "      <td>negative</td>\n",
       "      <td>0.993989</td>\n",
       "      <td>positive</td>\n",
       "      <td>0.999760</td>\n",
       "      <td>positive</td>\n",
       "      <td>0.999031</td>\n",
       "      <td>positive</td>\n",
       "      <td>0.999479</td>\n",
       "      <td>positive</td>\n",
       "      <td>0.998048</td>\n",
       "    </tr>\n",
       "    <tr>\n",
       "      <th>6832</th>\n",
       "      <td>tempatnya nyaman luas estetik pelayanan oleh p...</td>\n",
       "      <td>positive</td>\n",
       "      <td>0.999954</td>\n",
       "      <td>positive</td>\n",
       "      <td>0.999957</td>\n",
       "      <td>positive</td>\n",
       "      <td>0.999281</td>\n",
       "      <td>positive</td>\n",
       "      <td>0.999716</td>\n",
       "      <td>positive</td>\n",
       "      <td>0.998506</td>\n",
       "    </tr>\n",
       "    <tr>\n",
       "      <th>6833</th>\n",
       "      <td>customer service nya kooperatif meskipun jawab...</td>\n",
       "      <td>positive</td>\n",
       "      <td>0.999763</td>\n",
       "      <td>positive</td>\n",
       "      <td>0.999651</td>\n",
       "      <td>positive</td>\n",
       "      <td>0.992911</td>\n",
       "      <td>positive</td>\n",
       "      <td>0.999562</td>\n",
       "      <td>positive</td>\n",
       "      <td>0.998225</td>\n",
       "    </tr>\n",
       "  </tbody>\n",
       "</table>\n",
       "<p>4952 rows × 11 columns</p>\n",
       "</div>"
      ],
      "text/plain": [
       "                                    review_text_cleaned  \\\n",
       "4     telepon setengah pagi sampai setengah siang ke...   \n",
       "5     tracking cwus displaying tracking parcels feat...   \n",
       "6     pengiriman kilat sudah hari belum datang telep...   \n",
       "8     maaf saya coba telepon kok tidak bisa tanya te...   \n",
       "9     paketnya dari jakpus ke tangerang sudah seming...   \n",
       "...                                                 ...   \n",
       "6828  puas sekali dengan pelayanan pengiriman hewan ...   \n",
       "6830  pelayanannya petugas customer service mantap s...   \n",
       "6831  saja mengunjungi kantor pos besar khusunya bag...   \n",
       "6832  tempatnya nyaman luas estetik pelayanan oleh p...   \n",
       "6833  customer service nya kooperatif meskipun jawab...   \n",
       "\n",
       "     sentiment_result_hanifnoerr  score_sentiment_result_hanifnoerr  \\\n",
       "4                       negative                           0.999920   \n",
       "5                       negative                           0.999790   \n",
       "6                       negative                           0.999877   \n",
       "8                       negative                           0.999836   \n",
       "9                        neutral                           0.514757   \n",
       "...                          ...                                ...   \n",
       "6828                    positive                           0.999946   \n",
       "6830                    positive                           0.999948   \n",
       "6831                    negative                           0.993989   \n",
       "6832                    positive                           0.999954   \n",
       "6833                    positive                           0.999763   \n",
       "\n",
       "     sentiment_result_crypter70  score_sentiment_result_crypter70  \\\n",
       "4                      negative                          0.999953   \n",
       "5                      negative                          0.999914   \n",
       "6                      negative                          0.999898   \n",
       "8                      negative                          0.886690   \n",
       "9                       neutral                          0.999817   \n",
       "...                         ...                               ...   \n",
       "6828                   positive                          0.999950   \n",
       "6830                   positive                          0.999943   \n",
       "6831                   positive                          0.999760   \n",
       "6832                   positive                          0.999957   \n",
       "6833                   positive                          0.999651   \n",
       "\n",
       "     sentiment_result_w11wo  score_sentiment_result_w11wo  \\\n",
       "4                  negative                      0.999412   \n",
       "5                  negative                      0.998251   \n",
       "6                  negative                      0.979036   \n",
       "8                  negative                      0.836688   \n",
       "9                  negative                      0.922176   \n",
       "...                     ...                           ...   \n",
       "6828               positive                      0.988157   \n",
       "6830               positive                      0.998768   \n",
       "6831               positive                      0.999031   \n",
       "6832               positive                      0.999281   \n",
       "6833               positive                      0.992911   \n",
       "\n",
       "     sentiment_result_ayameRushia  score_sentiment_result_ayameRushia  \\\n",
       "4                        negative                            0.999867   \n",
       "5                        negative                            0.990529   \n",
       "6                        negative                            0.999616   \n",
       "8                         neutral                            0.962506   \n",
       "9                         neutral                            0.998036   \n",
       "...                           ...                                 ...   \n",
       "6828                     positive                            0.999144   \n",
       "6830                     positive                            0.999666   \n",
       "6831                     positive                            0.999479   \n",
       "6832                     positive                            0.999716   \n",
       "6833                     positive                            0.999562   \n",
       "\n",
       "     sentiment_result_Aardiiiiy  score_sentiment_result_Aardiiiiy  \n",
       "4                      negative                          0.995867  \n",
       "5                      negative                          0.992599  \n",
       "6                      negative                          0.990070  \n",
       "8                      negative                          0.633915  \n",
       "9                      negative                          0.628107  \n",
       "...                         ...                               ...  \n",
       "6828                   positive                          0.997733  \n",
       "6830                   positive                          0.998498  \n",
       "6831                   positive                          0.998048  \n",
       "6832                   positive                          0.998506  \n",
       "6833                   positive                          0.998225  \n",
       "\n",
       "[4952 rows x 11 columns]"
      ]
     },
     "execution_count": 17,
     "metadata": {},
     "output_type": "execute_result"
    }
   ],
   "source": [
    "data['sentiment_result_hanifnoerr'] = data['sentiment_result_hanifnoerr'].str.lower()\n",
    "data['sentiment_result_crypter70'] = data['sentiment_result_crypter70'].str.lower()\n",
    "data['sentiment_result_w11wo'] = data['sentiment_result_w11wo'].str.lower()\n",
    "data['sentiment_result_ayameRushia'] = data['sentiment_result_ayameRushia'].str.lower()\n",
    "data['sentiment_result_Aardiiiiy'] = data['sentiment_result_Aardiiiiy'].str.lower()\n",
    "\n",
    "data[['review_text_cleaned',\n",
    "'sentiment_result_hanifnoerr','score_sentiment_result_hanifnoerr',\n",
    "'sentiment_result_crypter70','score_sentiment_result_crypter70',\n",
    "'sentiment_result_w11wo','score_sentiment_result_w11wo',\n",
    "'sentiment_result_ayameRushia','score_sentiment_result_ayameRushia',\n",
    "'sentiment_result_Aardiiiiy','score_sentiment_result_Aardiiiiy']]"
   ]
  },
  {
   "cell_type": "code",
   "execution_count": 18,
   "id": "b5814e46",
   "metadata": {},
   "outputs": [
    {
     "data": {
      "text/html": [
       "<div>\n",
       "<style scoped>\n",
       "    .dataframe tbody tr th:only-of-type {\n",
       "        vertical-align: middle;\n",
       "    }\n",
       "\n",
       "    .dataframe tbody tr th {\n",
       "        vertical-align: top;\n",
       "    }\n",
       "\n",
       "    .dataframe thead th {\n",
       "        text-align: right;\n",
       "    }\n",
       "</style>\n",
       "<table border=\"1\" class=\"dataframe\">\n",
       "  <thead>\n",
       "    <tr style=\"text-align: right;\">\n",
       "      <th></th>\n",
       "      <th>review_text_cleaned</th>\n",
       "      <th>fix_sentiment</th>\n",
       "    </tr>\n",
       "  </thead>\n",
       "  <tbody>\n",
       "    <tr>\n",
       "      <th>4</th>\n",
       "      <td>telepon setengah pagi sampai setengah siang ke...</td>\n",
       "      <td>negative</td>\n",
       "    </tr>\n",
       "    <tr>\n",
       "      <th>5</th>\n",
       "      <td>tracking cwus displaying tracking parcels feat...</td>\n",
       "      <td>negative</td>\n",
       "    </tr>\n",
       "    <tr>\n",
       "      <th>6</th>\n",
       "      <td>pengiriman kilat sudah hari belum datang telep...</td>\n",
       "      <td>negative</td>\n",
       "    </tr>\n",
       "    <tr>\n",
       "      <th>8</th>\n",
       "      <td>maaf saya coba telepon kok tidak bisa tanya te...</td>\n",
       "      <td>negative</td>\n",
       "    </tr>\n",
       "    <tr>\n",
       "      <th>9</th>\n",
       "      <td>paketnya dari jakpus ke tangerang sudah seming...</td>\n",
       "      <td>neutral</td>\n",
       "    </tr>\n",
       "    <tr>\n",
       "      <th>...</th>\n",
       "      <td>...</td>\n",
       "      <td>...</td>\n",
       "    </tr>\n",
       "    <tr>\n",
       "      <th>6828</th>\n",
       "      <td>puas sekali dengan pelayanan pengiriman hewan ...</td>\n",
       "      <td>positive</td>\n",
       "    </tr>\n",
       "    <tr>\n",
       "      <th>6830</th>\n",
       "      <td>pelayanannya petugas customer service mantap s...</td>\n",
       "      <td>positive</td>\n",
       "    </tr>\n",
       "    <tr>\n",
       "      <th>6831</th>\n",
       "      <td>saja mengunjungi kantor pos besar khusunya bag...</td>\n",
       "      <td>positive</td>\n",
       "    </tr>\n",
       "    <tr>\n",
       "      <th>6832</th>\n",
       "      <td>tempatnya nyaman luas estetik pelayanan oleh p...</td>\n",
       "      <td>positive</td>\n",
       "    </tr>\n",
       "    <tr>\n",
       "      <th>6833</th>\n",
       "      <td>customer service nya kooperatif meskipun jawab...</td>\n",
       "      <td>positive</td>\n",
       "    </tr>\n",
       "  </tbody>\n",
       "</table>\n",
       "<p>4952 rows × 2 columns</p>\n",
       "</div>"
      ],
      "text/plain": [
       "                                    review_text_cleaned fix_sentiment\n",
       "4     telepon setengah pagi sampai setengah siang ke...      negative\n",
       "5     tracking cwus displaying tracking parcels feat...      negative\n",
       "6     pengiriman kilat sudah hari belum datang telep...      negative\n",
       "8     maaf saya coba telepon kok tidak bisa tanya te...      negative\n",
       "9     paketnya dari jakpus ke tangerang sudah seming...       neutral\n",
       "...                                                 ...           ...\n",
       "6828  puas sekali dengan pelayanan pengiriman hewan ...      positive\n",
       "6830  pelayanannya petugas customer service mantap s...      positive\n",
       "6831  saja mengunjungi kantor pos besar khusunya bag...      positive\n",
       "6832  tempatnya nyaman luas estetik pelayanan oleh p...      positive\n",
       "6833  customer service nya kooperatif meskipun jawab...      positive\n",
       "\n",
       "[4952 rows x 2 columns]"
      ]
     },
     "execution_count": 18,
     "metadata": {},
     "output_type": "execute_result"
    }
   ],
   "source": [
    "data['fix_sentiment'] = data[[\n",
    "    'sentiment_result_hanifnoerr',\n",
    "    'sentiment_result_crypter70',\n",
    "    'sentiment_result_w11wo',\n",
    "    'sentiment_result_ayameRushia',\n",
    "    'sentiment_result_Aardiiiiy'\n",
    "]].mode(axis=1)[0]\n",
    "\n",
    "data[['review_text_cleaned','fix_sentiment']]"
   ]
  },
  {
   "cell_type": "code",
   "execution_count": 19,
   "id": "81d81499",
   "metadata": {},
   "outputs": [
    {
     "data": {
      "text/plain": [
       "fix_sentiment\n",
       "positive    2366\n",
       "negative    1732\n",
       "neutral      854\n",
       "Name: count, dtype: int64"
      ]
     },
     "execution_count": 19,
     "metadata": {},
     "output_type": "execute_result"
    }
   ],
   "source": [
    "data['fix_sentiment'].value_counts()"
   ]
  }
 ],
 "metadata": {
  "kernelspec": {
   "display_name": "Python 3",
   "language": "python",
   "name": "python3"
  },
  "language_info": {
   "codemirror_mode": {
    "name": "ipython",
    "version": 3
   },
   "file_extension": ".py",
   "mimetype": "text/x-python",
   "name": "python",
   "nbconvert_exporter": "python",
   "pygments_lexer": "ipython3",
   "version": "3.13.2"
  }
 },
 "nbformat": 4,
 "nbformat_minor": 5
}
