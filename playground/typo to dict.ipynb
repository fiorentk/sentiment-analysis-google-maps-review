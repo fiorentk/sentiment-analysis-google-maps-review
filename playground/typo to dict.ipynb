{
 "cells": [
  {
   "cell_type": "code",
   "execution_count": 1,
   "id": "87750350",
   "metadata": {},
   "outputs": [
    {
     "name": "stderr",
     "output_type": "stream",
     "text": [
      "C:\\Users\\POS\\AppData\\Local\\Temp\\ipykernel_11908\\1437239749.py:13: FutureWarning: Series.__getitem__ treating keys as positions is deprecated. In a future version, integer keys will always be treated as labels (consistent with DataFrame behavior). To access a value by position, use `ser.iloc[pos]`\n",
      "  key = row[0].strip()\n",
      "C:\\Users\\POS\\AppData\\Local\\Temp\\ipykernel_11908\\1437239749.py:14: FutureWarning: Series.__getitem__ treating keys as positions is deprecated. In a future version, integer keys will always be treated as labels (consistent with DataFrame behavior). To access a value by position, use `ser.iloc[pos]`\n",
      "  val = row[1].strip()\n"
     ]
    }
   ],
   "source": [
    "import pandas as pd\n",
    "\n",
    "# Load dan buat dict typo\n",
    "df_typo = pd.read_csv(\"dataset/list typo.csv\").astype(str)\n",
    "\n",
    "# Hapus jika key == value\n",
    "df_typo = df_typo[df_typo.iloc[:, 0].str.strip() != df_typo.iloc[:, 1].str.strip()]\n",
    "\n",
    "# Hapus duplikat value (jika dua key punya value sama, simpan satu saja)\n",
    "seen_values = set()\n",
    "filtered_rows = []\n",
    "for _, row in df_typo.iterrows():\n",
    "    key = row[0].strip()\n",
    "    val = row[1].strip()\n",
    "    if val not in seen_values:\n",
    "        seen_values.add(val)\n",
    "        filtered_rows.append((key, val))\n",
    "typo_dict = dict(filtered_rows)"
   ]
  },
  {
   "cell_type": "code",
   "execution_count": 5,
   "id": "5c88093a",
   "metadata": {},
   "outputs": [],
   "source": [
    "import json\n",
    "\n",
    "with open(\"typo_dict.json\", \"w\", encoding=\"utf-8\") as f:\n",
    "    json.dump(typo_dict, f, ensure_ascii=False, indent=2)\n"
   ]
  }
 ],
 "metadata": {
  "kernelspec": {
   "display_name": "Python 3",
   "language": "python",
   "name": "python3"
  },
  "language_info": {
   "codemirror_mode": {
    "name": "ipython",
    "version": 3
   },
   "file_extension": ".py",
   "mimetype": "text/x-python",
   "name": "python",
   "nbconvert_exporter": "python",
   "pygments_lexer": "ipython3",
   "version": "3.13.2"
  }
 },
 "nbformat": 4,
 "nbformat_minor": 5
}
