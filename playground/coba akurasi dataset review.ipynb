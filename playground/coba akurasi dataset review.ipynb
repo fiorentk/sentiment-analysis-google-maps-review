{
 "cells": [
  {
   "cell_type": "code",
   "execution_count": 1,
   "id": "7f05492f",
   "metadata": {},
   "outputs": [
    {
     "name": "stderr",
     "output_type": "stream",
     "text": [
      "c:\\Users\\POS\\AppData\\Local\\Programs\\Python\\Python313\\Lib\\site-packages\\tqdm\\auto.py:21: TqdmWarning: IProgress not found. Please update jupyter and ipywidgets. See https://ipywidgets.readthedocs.io/en/stable/user_install.html\n",
      "  from .autonotebook import tqdm as notebook_tqdm\n"
     ]
    }
   ],
   "source": [
    "import pandas as pd\n",
    "import json\n",
    "import re\n",
    "import string\n",
    "from transformers import pipeline\n",
    "from sklearn.metrics import classification_report, accuracy_score, confusion_matrix"
   ]
  },
  {
   "cell_type": "code",
   "execution_count": 2,
   "id": "243060b6",
   "metadata": {},
   "outputs": [
    {
     "name": "stderr",
     "output_type": "stream",
     "text": [
      "Device set to use cpu\n",
      "Device set to use cpu\n",
      "Device set to use cpu\n",
      "Device set to use cpu\n",
      "Device set to use cpu\n"
     ]
    }
   ],
   "source": [
    "hanifnoerr = \"hanifnoerr/Fine-tuned-Indonesian-Sentiment-Classifier\"\n",
    "hanifnoerr_model = pipeline(\n",
    "    \"sentiment-analysis\",\n",
    "    model=hanifnoerr,\n",
    "    tokenizer=hanifnoerr,\n",
    "    truncation=True,\n",
    "     max_length=512\n",
    ")\n",
    "def analyze_sentiment_hanifnoerr(text):\n",
    "    try:\n",
    "        result = hanifnoerr_model(str(text))[0]\n",
    "        return result['label'], result['score']\n",
    "    except:\n",
    "        return 'error', 'error'\n",
    "\n",
    "crypter70 = \"crypter70/IndoBERT-Sentiment-Analysis\"\n",
    "crypter70_model = pipeline(\n",
    "    \"sentiment-analysis\",\n",
    "    model=crypter70,\n",
    "    tokenizer=crypter70,\n",
    "    truncation=True,\n",
    "     max_length=512\n",
    ")\n",
    "def analyze_sentiment_crypter70(text):\n",
    "    try:\n",
    "        result = crypter70_model(str(text))[0]\n",
    "        return result['label'], result['score']\n",
    "    except:\n",
    "        return 'error', 'error'\n",
    "\n",
    "w11wo = \"w11wo/indonesian-roberta-base-sentiment-classifier\"\n",
    "w11wo_model = pipeline(\n",
    "    \"sentiment-analysis\",\n",
    "    model=w11wo,\n",
    "    tokenizer=w11wo,\n",
    "    truncation=True,\n",
    "     max_length=512\n",
    ")\n",
    "def analyze_sentiment_w11wo(text):\n",
    "    try:\n",
    "        result = w11wo_model(str(text))[0]\n",
    "        return result['label'], result['score']\n",
    "    except:\n",
    "        return 'error', 'error'\n",
    "\n",
    "ayameRushia = \"ayameRushia/bert-base-indonesian-1.5G-sentiment-analysis-smsa\"\n",
    "ayameRushia_model = pipeline(\n",
    "    \"sentiment-analysis\",\n",
    "    model=ayameRushia,\n",
    "    tokenizer=ayameRushia,\n",
    "    truncation=True,\n",
    "     max_length=512\n",
    ")\n",
    "def analyze_sentiment_ayameRushia(text):\n",
    "    try:\n",
    "        result = ayameRushia_model(str(text))[0]\n",
    "        return result['label'], result['score']\n",
    "    except:\n",
    "        return 'error', 'error'\n",
    "\n",
    "Aardiiiiy = \"Aardiiiiy/indobertweet-base-Indonesian-sentiment-analysis\"\n",
    "Aardiiiiy_model = pipeline(\n",
    "    \"sentiment-analysis\",\n",
    "    model=Aardiiiiy,\n",
    "    tokenizer=Aardiiiiy,\n",
    "    truncation=True,\n",
    "     max_length=512\n",
    ")\n",
    "def analyze_sentiment_Aardiiiiy(text):\n",
    "    try:\n",
    "        result = Aardiiiiy_model(str(text))[0]\n",
    "        return result['label'], result['score']\n",
    "    except:\n",
    "        return 'error', 'error'"
   ]
  },
  {
   "cell_type": "markdown",
   "id": "4c540f3a",
   "metadata": {},
   "source": [
    "CLEANING"
   ]
  },
  {
   "cell_type": "code",
   "execution_count": 3,
   "id": "08c18bec",
   "metadata": {},
   "outputs": [],
   "source": [
    "data = pd.read_csv(\"dataset/Review KCU Pulau Jawa - with label.csv\")  # Load the CSV file into a DataFrame\n",
    "\n",
    "data = data.dropna(subset=['review_text'])  # Drop rows where 'review_text' is missing\n",
    "data['review_text_cleaned'] = data['review_text'].astype(str).str.lower()  # Convert to string and lowercase\n",
    "data['review_text_cleaned'] = [re.sub(r'\\n', r' ', i) for i in data['review_text_cleaned']]  # Replace newline characters with spaces\n",
    "# Fix typo word\n",
    "with open(\"dataset/typo_dict.json\", \"r\", encoding=\"utf-8\") as f:\n",
    "    typo_dict = json.load(f)\n",
    "data['review_text_cleaned'] = data['review_text_cleaned'].apply(\n",
    "    lambda x: ' '.join([typo_dict.get(word.lower(), word) for word in x.split()]))\n",
    "def normalize_repeated_letters(text):\n",
    "    return re.sub(r'(.)\\1{2,}', r'\\1', text)\n",
    "data['review_text_cleaned'] = data['review_text_cleaned'].apply(normalize_repeated_letters)\n",
    "def remove_double_vowels(text):\n",
    "    return re.sub(r'([aeiou])\\1+', r'\\1', text)\n",
    "data['review_text_cleaned'] = data['review_text_cleaned'].apply(remove_double_vowels)\n",
    "data['review_text_cleaned'] = [re.sub(r'[^\\x00-\\x7f]',r'', i) for i in data['review_text_cleaned']]  # Remove non-ASCII characters\n",
    "data['review_text_cleaned'] = data['review_text_cleaned'].apply(\n",
    "    lambda x: re.sub(f\"[{re.escape(string.punctuation)}]\", \" \", x))  # Remove punctuation\n",
    "data['review_text_cleaned'] = data['review_text_cleaned'].apply(lambda x: re.sub(r'\\d+', '', x))  # Remove numbers\n",
    "data['review_text_cleaned'] = data['review_text_cleaned'].apply(lambda x: re.sub(r'\\s+', ' ', x).strip())  # Normalize whitespace\n",
    "data = data[data['review_text_cleaned'] != \"\"]  # Remove rows where cleaned text is empty"
   ]
  },
  {
   "cell_type": "markdown",
   "id": "d847e184",
   "metadata": {},
   "source": [
    "HANIFNOERR"
   ]
  },
  {
   "cell_type": "code",
   "execution_count": 4,
   "id": "c8646022",
   "metadata": {},
   "outputs": [
    {
     "name": "stdout",
     "output_type": "stream",
     "text": [
      "sentiment_result_hanifnoerr\n",
      "negative    332\n",
      "positive    302\n",
      "neutral     159\n",
      "Name: count, dtype: int64\n"
     ]
    }
   ],
   "source": [
    "data[['sentiment_result_hanifnoerr', 'score_sentiment_result_hanifnoerr']] = data['review_text_cleaned'].apply(\n",
    "    lambda x: pd.Series(analyze_sentiment_hanifnoerr(x))\n",
    ")\n",
    "print(data['sentiment_result_hanifnoerr'].value_counts())"
   ]
  },
  {
   "cell_type": "code",
   "execution_count": 5,
   "id": "7cb2989e",
   "metadata": {},
   "outputs": [
    {
     "name": "stderr",
     "output_type": "stream",
     "text": [
      "C:\\Users\\POS\\AppData\\Local\\Temp\\ipykernel_27528\\1922892403.py:5: FutureWarning: \n",
      "\n",
      "Passing `palette` without assigning `hue` is deprecated and will be removed in v0.14.0. Assign the `x` variable to `hue` and set `legend=False` for the same effect.\n",
      "\n",
      "  sns.countplot(data=data, x='sentiment_result_hanifnoerr', order=data['sentiment_result_hanifnoerr'].value_counts().index, palette='pastel')\n"
     ]
    },
    {
     "data": {
      "image/png": "[encoded data removed]",
      "text/plain": [
       "<Figure size 800x500 with 1 Axes>"
      ]
     },
     "metadata": {},
     "output_type": "display_data"
    }
   ],
   "source": [
    "import matplotlib.pyplot as plt\n",
    "import seaborn as sns\n",
    "\n",
    "plt.figure(figsize=(8, 5))\n",
    "sns.countplot(data=data, x='sentiment_result_hanifnoerr', order=data['sentiment_result_hanifnoerr'].value_counts().index, palette='pastel')\n",
    "plt.title('Distribusi Sentimen Review')\n",
    "plt.xlabel('Label Sentimen')\n",
    "plt.ylabel('Jumlah')\n",
    "plt.xticks(rotation=45)\n",
    "plt.tight_layout()\n",
    "plt.show()"
   ]
  },
  {
   "cell_type": "markdown",
   "id": "8017ac4c",
   "metadata": {},
   "source": [
    "crypter70"
   ]
  },
  {
   "cell_type": "code",
   "execution_count": 6,
   "id": "6bd776b1",
   "metadata": {},
   "outputs": [
    {
     "name": "stdout",
     "output_type": "stream",
     "text": [
      "sentiment_result_crypter70\n",
      "NEGATIVE    326\n",
      "POSITIVE    299\n",
      "NEUTRAL     168\n",
      "Name: count, dtype: int64\n"
     ]
    }
   ],
   "source": [
    "data[['sentiment_result_crypter70', 'score_sentiment_result_crypter70']] = data['review_text_cleaned'].apply(\n",
    "    lambda x: pd.Series(analyze_sentiment_crypter70(x))\n",
    ")\n",
    "print(data['sentiment_result_crypter70'].value_counts())"
   ]
  },
  {
   "cell_type": "code",
   "execution_count": 7,
   "id": "52e94565",
   "metadata": {},
   "outputs": [
    {
     "name": "stderr",
     "output_type": "stream",
     "text": [
      "C:\\Users\\POS\\AppData\\Local\\Temp\\ipykernel_27528\\3126681369.py:5: FutureWarning: \n",
      "\n",
      "Passing `palette` without assigning `hue` is deprecated and will be removed in v0.14.0. Assign the `x` variable to `hue` and set `legend=False` for the same effect.\n",
      "\n",
      "  sns.countplot(data=data, x='sentiment_result_crypter70', order=data['sentiment_result_crypter70'].value_counts().index, palette='pastel')\n"
     ]
    },
    {
     "data": {
      "image/png": "[encoded data removed]",
      "text/plain": [
       "<Figure size 800x500 with 1 Axes>"
      ]
     },
     "metadata": {},
     "output_type": "display_data"
    }
   ],
   "source": [
    "import matplotlib.pyplot as plt\n",
    "import seaborn as sns\n",
    "\n",
    "plt.figure(figsize=(8, 5))\n",
    "sns.countplot(data=data, x='sentiment_result_crypter70', order=data['sentiment_result_crypter70'].value_counts().index, palette='pastel')\n",
    "plt.title('Distribusi Sentimen Review')\n",
    "plt.xlabel('Label Sentimen')\n",
    "plt.ylabel('Jumlah')\n",
    "plt.xticks(rotation=45)\n",
    "plt.tight_layout()\n",
    "plt.show()"
   ]
  },
  {
   "cell_type": "markdown",
   "id": "ebe562d4",
   "metadata": {},
   "source": [
    "w11wo"
   ]
  },
  {
   "cell_type": "code",
   "execution_count": 8,
   "id": "01968a54",
   "metadata": {},
   "outputs": [
    {
     "name": "stdout",
     "output_type": "stream",
     "text": [
      "sentiment_result_w11wo\n",
      "negative    324\n",
      "positive    300\n",
      "neutral     169\n",
      "Name: count, dtype: int64\n"
     ]
    }
   ],
   "source": [
    "data[['sentiment_result_w11wo', 'score_sentiment_result_w11wo']] = data['review_text_cleaned'].apply(\n",
    "    lambda x: pd.Series(analyze_sentiment_w11wo(x))\n",
    ")\n",
    "print(data['sentiment_result_w11wo'].value_counts())"
   ]
  },
  {
   "cell_type": "code",
   "execution_count": 9,
   "id": "bf9aca60",
   "metadata": {},
   "outputs": [
    {
     "name": "stderr",
     "output_type": "stream",
     "text": [
      "C:\\Users\\POS\\AppData\\Local\\Temp\\ipykernel_27528\\392182998.py:4: FutureWarning: \n",
      "\n",
      "Passing `palette` without assigning `hue` is deprecated and will be removed in v0.14.0. Assign the `x` variable to `hue` and set `legend=False` for the same effect.\n",
      "\n",
      "  sns.countplot(data=data, x='sentiment_result_w11wo', order=data['sentiment_result_w11wo'].value_counts().index, palette='pastel')\n"
     ]
    },
    {
     "data": {
      "image/png": "[encoded data removed]",
      "text/plain": [
       "<Figure size 800x500 with 1 Axes>"
      ]
     },
     "metadata": {},
     "output_type": "display_data"
    }
   ],
   "source": [
    "import matplotlib.pyplot as plt\n",
    "import seaborn as sns\n",
    "plt.figure(figsize=(8, 5))\n",
    "sns.countplot(data=data, x='sentiment_result_w11wo', order=data['sentiment_result_w11wo'].value_counts().index, palette='pastel')\n",
    "plt.title('Distribusi Sentimen Review')\n",
    "plt.xlabel('Label Sentimen')\n",
    "plt.ylabel('Jumlah')\n",
    "plt.xticks(rotation=45)\n",
    "plt.tight_layout()\n",
    "plt.show()"
   ]
  },
  {
   "cell_type": "code",
   "execution_count": 10,
   "id": "b2e086a2",
   "metadata": {},
   "outputs": [
    {
     "name": "stdout",
     "output_type": "stream",
     "text": [
      "sentiment_result_ayameRushia\n",
      "Negative    313\n",
      "Positive    286\n",
      "Neutral     194\n",
      "Name: count, dtype: int64\n"
     ]
    }
   ],
   "source": [
    "data[['sentiment_result_ayameRushia', 'score_sentiment_result_ayameRushia']] = data['review_text_cleaned'].apply(\n",
    "    lambda x: pd.Series(analyze_sentiment_ayameRushia(x))\n",
    ")\n",
    "print(data['sentiment_result_ayameRushia'].value_counts())"
   ]
  },
  {
   "cell_type": "code",
   "execution_count": 11,
   "id": "1f2ec835",
   "metadata": {},
   "outputs": [
    {
     "name": "stderr",
     "output_type": "stream",
     "text": [
      "C:\\Users\\POS\\AppData\\Local\\Temp\\ipykernel_27528\\4168932491.py:4: FutureWarning: \n",
      "\n",
      "Passing `palette` without assigning `hue` is deprecated and will be removed in v0.14.0. Assign the `x` variable to `hue` and set `legend=False` for the same effect.\n",
      "\n",
      "  sns.countplot(data=data, x='sentiment_result_ayameRushia', order=data['sentiment_result_ayameRushia'].value_counts().index, palette='pastel')\n"
     ]
    },
    {
     "data": {
      "image/png": "[encoded data removed]",
      "text/plain": [
       "<Figure size 800x500 with 1 Axes>"
      ]
     },
     "metadata": {},
     "output_type": "display_data"
    }
   ],
   "source": [
    "import matplotlib.pyplot as plt\n",
    "import seaborn as sns\n",
    "plt.figure(figsize=(8, 5))\n",
    "sns.countplot(data=data, x='sentiment_result_ayameRushia', order=data['sentiment_result_ayameRushia'].value_counts().index, palette='pastel')\n",
    "plt.title('Distribusi Sentimen Review')\n",
    "plt.xlabel('Label Sentimen')\n",
    "plt.ylabel('Jumlah')\n",
    "plt.xticks(rotation=45)\n",
    "plt.tight_layout()\n",
    "plt.show()"
   ]
  },
  {
   "cell_type": "code",
   "execution_count": 12,
   "id": "2b7e2bb7",
   "metadata": {},
   "outputs": [
    {
     "name": "stdout",
     "output_type": "stream",
     "text": [
      "sentiment_result_Aardiiiiy\n",
      "Negative    332\n",
      "Neutral     249\n",
      "Positive    212\n",
      "Name: count, dtype: int64\n"
     ]
    }
   ],
   "source": [
    "data[['sentiment_result_Aardiiiiy', 'score_sentiment_result_Aardiiiiy']] = data['review_text_cleaned'].apply(\n",
    "    lambda x: pd.Series(analyze_sentiment_Aardiiiiy(x))\n",
    ")\n",
    "print(data['sentiment_result_Aardiiiiy'].value_counts())"
   ]
  },
  {
   "cell_type": "code",
   "execution_count": 13,
   "id": "cb390d45",
   "metadata": {},
   "outputs": [
    {
     "name": "stderr",
     "output_type": "stream",
     "text": [
      "C:\\Users\\POS\\AppData\\Local\\Temp\\ipykernel_27528\\331142182.py:4: FutureWarning: \n",
      "\n",
      "Passing `palette` without assigning `hue` is deprecated and will be removed in v0.14.0. Assign the `x` variable to `hue` and set `legend=False` for the same effect.\n",
      "\n",
      "  sns.countplot(data=data, x='sentiment_result_Aardiiiiy', order=data['sentiment_result_Aardiiiiy'].value_counts().index, palette='pastel')\n"
     ]
    },
    {
     "data": {
      "image/png": "[encoded data removed]",
      "text/plain": [
       "<Figure size 800x500 with 1 Axes>"
      ]
     },
     "metadata": {},
     "output_type": "display_data"
    }
   ],
   "source": [
    "import matplotlib.pyplot as plt\n",
    "import seaborn as sns\n",
    "plt.figure(figsize=(8, 5))\n",
    "sns.countplot(data=data, x='sentiment_result_Aardiiiiy', order=data['sentiment_result_Aardiiiiy'].value_counts().index, palette='pastel')\n",
    "plt.title('Distribusi Sentimen Review')\n",
    "plt.xlabel('Label Sentimen')\n",
    "plt.ylabel('Jumlah')\n",
    "plt.xticks(rotation=45)\n",
    "plt.tight_layout()\n",
    "plt.show()"
   ]
  },
  {
   "cell_type": "code",
   "execution_count": 14,
   "id": "69a14c0b",
   "metadata": {},
   "outputs": [
    {
     "name": "stdout",
     "output_type": "stream",
     "text": [
      "Accuracy: 86.51%\n",
      "\n",
      "Classification Report:\n",
      "              precision    recall  f1-score   support\n",
      "\n",
      "    positive       0.93      0.84      0.88       333\n",
      "    negative       0.92      0.92      0.92       333\n",
      "     neutral       0.62      0.78      0.69       127\n",
      "\n",
      "    accuracy                           0.87       793\n",
      "   macro avg       0.82      0.85      0.83       793\n",
      "weighted avg       0.88      0.87      0.87       793\n",
      "\n",
      "\n",
      "Confusion Matrix:\n",
      "[[280  16  37]\n",
      " [  3 307  23]\n",
      " [ 19   9  99]]\n"
     ]
    }
   ],
   "source": [
    "# Update y_true and y_pred\n",
    "y_true = data['sentiment']\n",
    "y_pred = data['sentiment_result_hanifnoerr']\n",
    "\n",
    "# Accuracy\n",
    "accuracy = accuracy_score(y_true, y_pred)\n",
    "print(f\"Accuracy: {accuracy:.2%}\")\n",
    "\n",
    "# Classification Report\n",
    "print(\"\\nClassification Report:\")\n",
    "print(classification_report(y_true, y_pred, labels=['positive', 'negative','neutral']))\n",
    "\n",
    "# Confusion Matrix\n",
    "print(\"\\nConfusion Matrix:\")\n",
    "print(confusion_matrix(y_true, y_pred, labels=['positive', 'negative','neutral']))\n"
   ]
  },
  {
   "cell_type": "code",
   "execution_count": 15,
   "id": "56e65576",
   "metadata": {},
   "outputs": [
    {
     "name": "stdout",
     "output_type": "stream",
     "text": [
      "Accuracy: 84.62%\n",
      "\n",
      "Classification Report:\n",
      "              precision    recall  f1-score   support\n",
      "\n",
      "    positive       0.91      0.81      0.86       333\n",
      "    negative       0.93      0.91      0.92       333\n",
      "     neutral       0.58      0.77      0.66       127\n",
      "\n",
      "    accuracy                           0.85       793\n",
      "   macro avg       0.81      0.83      0.81       793\n",
      "weighted avg       0.86      0.85      0.85       793\n",
      "\n",
      "\n",
      "Confusion Matrix:\n",
      "[[271  16  46]\n",
      " [  7 302  24]\n",
      " [ 21   8  98]]\n"
     ]
    }
   ],
   "source": [
    "# Update y_true and y_pred\n",
    "y_true = data['sentiment']\n",
    "y_pred = data['sentiment_result_crypter70'].str.lower()\n",
    "\n",
    "# Accuracy\n",
    "accuracy = accuracy_score(y_true, y_pred)\n",
    "print(f\"Accuracy: {accuracy:.2%}\")\n",
    "\n",
    "# Classification Report\n",
    "print(\"\\nClassification Report:\")\n",
    "print(classification_report(y_true, y_pred, labels=['positive', 'negative','neutral']))\n",
    "\n",
    "# Confusion Matrix\n",
    "print(\"\\nConfusion Matrix:\")\n",
    "print(confusion_matrix(y_true, y_pred, labels=['positive', 'negative','neutral']))"
   ]
  },
  {
   "cell_type": "code",
   "execution_count": 16,
   "id": "73e17da4",
   "metadata": {},
   "outputs": [
    {
     "name": "stdout",
     "output_type": "stream",
     "text": [
      "Accuracy: 84.11%\n",
      "\n",
      "Classification Report:\n",
      "              precision    recall  f1-score   support\n",
      "\n",
      "    positive       0.90      0.81      0.86       333\n",
      "    negative       0.93      0.90      0.92       333\n",
      "     neutral       0.56      0.75      0.64       127\n",
      "\n",
      "    accuracy                           0.84       793\n",
      "   macro avg       0.80      0.82      0.80       793\n",
      "weighted avg       0.86      0.84      0.85       793\n",
      "\n",
      "\n",
      "Confusion Matrix:\n",
      "[[271  15  47]\n",
      " [  5 301  27]\n",
      " [ 24   8  95]]\n"
     ]
    }
   ],
   "source": [
    "# Update y_true and y_pred\n",
    "y_true = data['sentiment']\n",
    "y_pred = data['sentiment_result_w11wo'].str.lower()\n",
    "\n",
    "# Accuracy\n",
    "accuracy = accuracy_score(y_true, y_pred)\n",
    "print(f\"Accuracy: {accuracy:.2%}\")\n",
    "\n",
    "# Classification Report\n",
    "print(\"\\nClassification Report:\")\n",
    "print(classification_report(y_true, y_pred, labels=['positive', 'negative','neutral']))\n",
    "\n",
    "# Confusion Matrix\n",
    "print(\"\\nConfusion Matrix:\")\n",
    "print(confusion_matrix(y_true, y_pred, labels=['positive', 'negative','neutral']))\n"
   ]
  },
  {
   "cell_type": "code",
   "execution_count": 17,
   "id": "7be74144",
   "metadata": {},
   "outputs": [
    {
     "name": "stdout",
     "output_type": "stream",
     "text": [
      "Accuracy: 80.58%\n",
      "\n",
      "Classification Report:\n",
      "              precision    recall  f1-score   support\n",
      "\n",
      "    positive       0.91      0.78      0.84       333\n",
      "    negative       0.91      0.85      0.88       333\n",
      "     neutral       0.49      0.75      0.59       127\n",
      "\n",
      "    accuracy                           0.81       793\n",
      "   macro avg       0.77      0.79      0.77       793\n",
      "weighted avg       0.84      0.81      0.82       793\n",
      "\n",
      "\n",
      "Confusion Matrix:\n",
      "[[260  18  55]\n",
      " [  5 284  44]\n",
      " [ 21  11  95]]\n"
     ]
    }
   ],
   "source": [
    "# Update y_true and y_pred\n",
    "y_true = data['sentiment']\n",
    "y_pred = data['sentiment_result_ayameRushia'].str.lower()\n",
    "\n",
    "# Accuracy\n",
    "accuracy = accuracy_score(y_true, y_pred)\n",
    "print(f\"Accuracy: {accuracy:.2%}\")\n",
    "\n",
    "# Classification Report\n",
    "print(\"\\nClassification Report:\")\n",
    "print(classification_report(y_true, y_pred, labels=['positive', 'negative','neutral']))\n",
    "\n",
    "# Confusion Matrix\n",
    "print(\"\\nConfusion Matrix:\")\n",
    "print(confusion_matrix(y_true, y_pred, labels=['positive', 'negative','neutral']))\n"
   ]
  },
  {
   "cell_type": "code",
   "execution_count": 18,
   "id": "ce26d0f5",
   "metadata": {},
   "outputs": [
    {
     "name": "stdout",
     "output_type": "stream",
     "text": [
      "Accuracy: 78.94%\n",
      "\n",
      "Classification Report:\n",
      "              precision    recall  f1-score   support\n",
      "\n",
      "    positive       0.99      0.63      0.77       333\n",
      "    negative       0.90      0.90      0.90       333\n",
      "     neutral       0.47      0.91      0.62       127\n",
      "\n",
      "    accuracy                           0.79       793\n",
      "   macro avg       0.79      0.81      0.76       793\n",
      "weighted avg       0.87      0.79      0.80       793\n",
      "\n",
      "\n",
      "Confusion Matrix:\n",
      "[[210  21 102]\n",
      " [  2 300  31]\n",
      " [  0  11 116]]\n"
     ]
    }
   ],
   "source": [
    "# Update y_true and y_pred\n",
    "y_true = data['sentiment']\n",
    "y_pred = data['sentiment_result_Aardiiiiy'].str.lower()\n",
    "\n",
    "# Accuracy\n",
    "accuracy = accuracy_score(y_true, y_pred)\n",
    "print(f\"Accuracy: {accuracy:.2%}\")\n",
    "\n",
    "# Classification Report\n",
    "print(\"\\nClassification Report:\")\n",
    "print(classification_report(y_true, y_pred, labels=['positive', 'negative','neutral']))\n",
    "\n",
    "# Confusion Matrix\n",
    "print(\"\\nConfusion Matrix:\")\n",
    "print(confusion_matrix(y_true, y_pred, labels=['positive', 'negative','neutral']))\n"
   ]
  },
  {
   "cell_type": "code",
   "execution_count": 19,
   "id": "90d1560d",
   "metadata": {},
   "outputs": [
    {
     "data": {
      "text/html": [
       "<div>\n",
       "<style scoped>\n",
       "    .dataframe tbody tr th:only-of-type {\n",
       "        vertical-align: middle;\n",
       "    }\n",
       "\n",
       "    .dataframe tbody tr th {\n",
       "        vertical-align: top;\n",
       "    }\n",
       "\n",
       "    .dataframe thead th {\n",
       "        text-align: right;\n",
       "    }\n",
       "</style>\n",
       "<table border=\"1\" class=\"dataframe\">\n",
       "  <thead>\n",
       "    <tr style=\"text-align: right;\">\n",
       "      <th></th>\n",
       "      <th>review_text</th>\n",
       "      <th>sentiment</th>\n",
       "      <th>review_text_cleaned</th>\n",
       "      <th>sentiment_result_hanifnoerr</th>\n",
       "      <th>score_sentiment_result_hanifnoerr</th>\n",
       "      <th>sentiment_result_crypter70</th>\n",
       "      <th>score_sentiment_result_crypter70</th>\n",
       "      <th>sentiment_result_w11wo</th>\n",
       "      <th>score_sentiment_result_w11wo</th>\n",
       "      <th>sentiment_result_ayameRushia</th>\n",
       "      <th>score_sentiment_result_ayameRushia</th>\n",
       "      <th>sentiment_result_Aardiiiiy</th>\n",
       "      <th>score_sentiment_result_Aardiiiiy</th>\n",
       "    </tr>\n",
       "  </thead>\n",
       "  <tbody>\n",
       "    <tr>\n",
       "      <th>679</th>\n",
       "      <td>Ayah</td>\n",
       "      <td>neutral</td>\n",
       "      <td>ayah</td>\n",
       "      <td>positive</td>\n",
       "      <td>0.994084</td>\n",
       "      <td>POSITIVE</td>\n",
       "      <td>0.733918</td>\n",
       "      <td>positive</td>\n",
       "      <td>0.964061</td>\n",
       "      <td>Positive</td>\n",
       "      <td>0.990425</td>\n",
       "      <td>Neutral</td>\n",
       "      <td>0.501583</td>\n",
       "    </tr>\n",
       "    <tr>\n",
       "      <th>682</th>\n",
       "      <td>Tempat kirim barang</td>\n",
       "      <td>neutral</td>\n",
       "      <td>tempat mengirim barang</td>\n",
       "      <td>positive</td>\n",
       "      <td>0.552602</td>\n",
       "      <td>POSITIVE</td>\n",
       "      <td>0.992401</td>\n",
       "      <td>neutral</td>\n",
       "      <td>0.814377</td>\n",
       "      <td>Positive</td>\n",
       "      <td>0.996828</td>\n",
       "      <td>Neutral</td>\n",
       "      <td>0.995475</td>\n",
       "    </tr>\n",
       "    <tr>\n",
       "      <th>685</th>\n",
       "      <td>Tidak ada komentar</td>\n",
       "      <td>neutral</td>\n",
       "      <td>tidak ada komentar</td>\n",
       "      <td>negative</td>\n",
       "      <td>0.999256</td>\n",
       "      <td>NEGATIVE</td>\n",
       "      <td>0.999870</td>\n",
       "      <td>positive</td>\n",
       "      <td>0.787742</td>\n",
       "      <td>Negative</td>\n",
       "      <td>0.755540</td>\n",
       "      <td>Neutral</td>\n",
       "      <td>0.865642</td>\n",
       "    </tr>\n",
       "    <tr>\n",
       "      <th>688</th>\n",
       "      <td>Ngambil uang</td>\n",
       "      <td>neutral</td>\n",
       "      <td>mengambil uang</td>\n",
       "      <td>negative</td>\n",
       "      <td>0.998593</td>\n",
       "      <td>NEUTRAL</td>\n",
       "      <td>0.815536</td>\n",
       "      <td>neutral</td>\n",
       "      <td>0.517648</td>\n",
       "      <td>Neutral</td>\n",
       "      <td>0.932053</td>\n",
       "      <td>Negative</td>\n",
       "      <td>0.985101</td>\n",
       "    </tr>\n",
       "    <tr>\n",
       "      <th>689</th>\n",
       "      <td>Pelayan standar</td>\n",
       "      <td>neutral</td>\n",
       "      <td>pelayan standar</td>\n",
       "      <td>negative</td>\n",
       "      <td>0.995900</td>\n",
       "      <td>NEGATIVE</td>\n",
       "      <td>0.999472</td>\n",
       "      <td>negative</td>\n",
       "      <td>0.995015</td>\n",
       "      <td>Negative</td>\n",
       "      <td>0.996343</td>\n",
       "      <td>Neutral</td>\n",
       "      <td>0.490488</td>\n",
       "    </tr>\n",
       "  </tbody>\n",
       "</table>\n",
       "</div>"
      ],
      "text/plain": [
       "             review_text sentiment     review_text_cleaned  \\\n",
       "679                 Ayah   neutral                    ayah   \n",
       "682  Tempat kirim barang   neutral  tempat mengirim barang   \n",
       "685   Tidak ada komentar   neutral      tidak ada komentar   \n",
       "688         Ngambil uang   neutral          mengambil uang   \n",
       "689      Pelayan standar   neutral         pelayan standar   \n",
       "\n",
       "    sentiment_result_hanifnoerr  score_sentiment_result_hanifnoerr  \\\n",
       "679                    positive                           0.994084   \n",
       "682                    positive                           0.552602   \n",
       "685                    negative                           0.999256   \n",
       "688                    negative                           0.998593   \n",
       "689                    negative                           0.995900   \n",
       "\n",
       "    sentiment_result_crypter70  score_sentiment_result_crypter70  \\\n",
       "679                   POSITIVE                          0.733918   \n",
       "682                   POSITIVE                          0.992401   \n",
       "685                   NEGATIVE                          0.999870   \n",
       "688                    NEUTRAL                          0.815536   \n",
       "689                   NEGATIVE                          0.999472   \n",
       "\n",
       "    sentiment_result_w11wo  score_sentiment_result_w11wo  \\\n",
       "679               positive                      0.964061   \n",
       "682                neutral                      0.814377   \n",
       "685               positive                      0.787742   \n",
       "688                neutral                      0.517648   \n",
       "689               negative                      0.995015   \n",
       "\n",
       "    sentiment_result_ayameRushia  score_sentiment_result_ayameRushia  \\\n",
       "679                     Positive                            0.990425   \n",
       "682                     Positive                            0.996828   \n",
       "685                     Negative                            0.755540   \n",
       "688                      Neutral                            0.932053   \n",
       "689                     Negative                            0.996343   \n",
       "\n",
       "    sentiment_result_Aardiiiiy  score_sentiment_result_Aardiiiiy  \n",
       "679                    Neutral                          0.501583  \n",
       "682                    Neutral                          0.995475  \n",
       "685                    Neutral                          0.865642  \n",
       "688                   Negative                          0.985101  \n",
       "689                    Neutral                          0.490488  "
      ]
     },
     "execution_count": 19,
     "metadata": {},
     "output_type": "execute_result"
    }
   ],
   "source": [
    "data[\n",
    "    (data['sentiment'] == 'neutral') &\n",
    "    (\n",
    "        (data['sentiment_result_hanifnoerr'] != 'neutral')\n",
    "        # (data['sentiment_result_crypter70'] != 'NEUTRAL') |\n",
    "        # (data['sentiment_result_w11wo'] != 'Neutral') |\n",
    "        # (data['sentiment_result_ayameRushia'] != 'Neutral')\n",
    "    )\n",
    "].head()"
   ]
  },
  {
   "cell_type": "code",
   "execution_count": 20,
   "id": "627133cf",
   "metadata": {},
   "outputs": [
    {
     "name": "stdout",
     "output_type": "stream",
     "text": [
      "Accuracy: 85.75%\n",
      "\n",
      "Classification Report:\n",
      "              precision    recall  f1-score   support\n",
      "\n",
      "    positive       0.93      0.82      0.87       333\n",
      "    negative       0.94      0.92      0.93       333\n",
      "     neutral       0.58      0.79      0.67       127\n",
      "\n",
      "    accuracy                           0.86       793\n",
      "   macro avg       0.82      0.84      0.82       793\n",
      "weighted avg       0.88      0.86      0.86       793\n",
      "\n",
      "\n",
      "Confusion Matrix:\n",
      "[[273  12  48]\n",
      " [  2 307  24]\n",
      " [ 19   8 100]]\n"
     ]
    }
   ],
   "source": [
    "def get_label_with_highest_score(row):\n",
    "    label_scores = {}\n",
    "\n",
    "    for label_col, score_col in [\n",
    "        ('sentiment_result_hanifnoerr', 'score_sentiment_result_hanifnoerr'),\n",
    "        ('sentiment_result_crypter70', 'score_sentiment_result_crypter70'),\n",
    "        ('sentiment_result_w11wo', 'score_sentiment_result_w11wo'),\n",
    "        ('sentiment_result_ayameRushia', 'score_sentiment_result_ayameRushia'),\n",
    "        ('sentiment_result_Aardiiiiy', 'score_sentiment_result_Aardiiiiy')\n",
    "    ]:\n",
    "        label = str(row[label_col]).lower()\n",
    "        score = row[score_col]\n",
    "\n",
    "        if label in label_scores:\n",
    "            label_scores[label] += score\n",
    "        else:\n",
    "            label_scores[label] = score\n",
    "\n",
    "    return max(label_scores, key=label_scores.get)\n",
    "\n",
    "# Terapkan\n",
    "data['fix_sentiment'] = data.apply(get_label_with_highest_score, axis=1)\n",
    "\n",
    "# Update y_true and y_pred\n",
    "y_true = data['sentiment']\n",
    "y_pred = data['fix_sentiment'].str.lower()\n",
    "\n",
    "# Accuracy\n",
    "accuracy = accuracy_score(y_true, y_pred)\n",
    "print(f\"Accuracy: {accuracy:.2%}\")\n",
    "\n",
    "# Classification Report\n",
    "print(\"\\nClassification Report:\")\n",
    "print(classification_report(y_true, y_pred, labels=['positive', 'negative','neutral']))\n",
    "\n",
    "# Confusion Matrix\n",
    "print(\"\\nConfusion Matrix:\")\n",
    "print(confusion_matrix(y_true, y_pred, labels=['positive', 'negative','neutral']))\n"
   ]
  },
  {
   "cell_type": "code",
   "execution_count": 21,
   "id": "2d3a7738",
   "metadata": {},
   "outputs": [
    {
     "name": "stdout",
     "output_type": "stream",
     "text": [
      "Accuracy: 86.00%\n",
      "\n",
      "Classification Report:\n",
      "              precision    recall  f1-score   support\n",
      "\n",
      "    positive       0.92      0.81      0.87       333\n",
      "    negative       0.94      0.92      0.93       333\n",
      "     neutral       0.60      0.82      0.69       127\n",
      "\n",
      "    accuracy                           0.86       793\n",
      "   macro avg       0.82      0.85      0.83       793\n",
      "weighted avg       0.88      0.86      0.87       793\n",
      "\n",
      "\n",
      "Confusion Matrix:\n",
      "[[271  14  48]\n",
      " [  5 307  21]\n",
      " [ 17   6 104]]\n"
     ]
    }
   ],
   "source": [
    "def get_label_with_highest_score(row):\n",
    "    max_score = -float('inf')\n",
    "    best_label = None\n",
    "\n",
    "    for label_col, score_col in [\n",
    "        ('sentiment_result_hanifnoerr', 'score_sentiment_result_hanifnoerr'),\n",
    "        ('sentiment_result_crypter70', 'score_sentiment_result_crypter70'),\n",
    "        ('sentiment_result_w11wo', 'score_sentiment_result_w11wo'),\n",
    "        ('sentiment_result_ayameRushia', 'score_sentiment_result_ayameRushia'),\n",
    "        ('sentiment_result_Aardiiiiy', 'score_sentiment_result_Aardiiiiy')\n",
    "    ]:\n",
    "        label = str(row[label_col]).lower()\n",
    "        score = row[score_col]\n",
    "\n",
    "        if score > max_score:\n",
    "            max_score = score\n",
    "            best_label = label\n",
    "\n",
    "    return best_label\n",
    "\n",
    "# Terapkan\n",
    "data['fix_sentiment'] = data.apply(get_label_with_highest_score, axis=1)\n",
    "\n",
    "# Update y_true and y_pred\n",
    "y_true = data['sentiment']\n",
    "y_pred = data['fix_sentiment'].str.lower()\n",
    "\n",
    "# Accuracy\n",
    "accuracy = accuracy_score(y_true, y_pred)\n",
    "print(f\"Accuracy: {accuracy:.2%}\")\n",
    "\n",
    "# Classification Report\n",
    "print(\"\\nClassification Report:\")\n",
    "print(classification_report(y_true, y_pred, labels=['positive', 'negative','neutral']))\n",
    "\n",
    "# Confusion Matrix\n",
    "print(\"\\nConfusion Matrix:\")\n",
    "print(confusion_matrix(y_true, y_pred, labels=['positive', 'negative','neutral']))"
   ]
  },
  {
   "cell_type": "code",
   "execution_count": 22,
   "id": "0f97333e",
   "metadata": {},
   "outputs": [
    {
     "data": {
      "text/plain": [
       "fix_sentiment\n",
       "negative    327\n",
       "positive    293\n",
       "neutral     173\n",
       "Name: count, dtype: int64"
      ]
     },
     "execution_count": 22,
     "metadata": {},
     "output_type": "execute_result"
    }
   ],
   "source": [
    "data['fix_sentiment'].value_counts()"
   ]
  },
  {
   "cell_type": "code",
   "execution_count": null,
   "id": "8f03a528",
   "metadata": {},
   "outputs": [],
   "source": []
  }
 ],
 "metadata": {
  "kernelspec": {
   "display_name": "Python 3",
   "language": "python",
   "name": "python3"
  },
  "language_info": {
   "codemirror_mode": {
    "name": "ipython",
    "version": 3
   },
   "file_extension": ".py",
   "mimetype": "text/x-python",
   "name": "python",
   "nbconvert_exporter": "python",
   "pygments_lexer": "ipython3",
   "version": "3.13.2"
  }
 },
 "nbformat": 4,
 "nbformat_minor": 5
}
