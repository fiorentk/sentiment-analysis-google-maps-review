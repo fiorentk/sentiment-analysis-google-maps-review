{
 "cells": [
  {
   "cell_type": "code",
   "execution_count": 1,
   "id": "321e3d47",
   "metadata": {},
   "outputs": [
    {
     "name": "stderr",
     "output_type": "stream",
     "text": [
      "c:\\Users\\POS\\AppData\\Local\\Programs\\Python\\Python313\\Lib\\site-packages\\tqdm\\auto.py:21: TqdmWarning: IProgress not found. Please update jupyter and ipywidgets. See https://ipywidgets.readthedocs.io/en/stable/user_install.html\n",
      "  from .autonotebook import tqdm as notebook_tqdm\n"
     ]
    }
   ],
   "source": [
    "import pandas as pd\n",
    "import re\n",
    "import string\n",
    "from transformers import pipeline\n",
    "from tqdm import tqdm\n",
    "from sklearn.metrics import classification_report, accuracy_score, confusion_matrix\n",
    "from Sastrawi.Stemmer.StemmerFactory import StemmerFactory"
   ]
  },
  {
   "cell_type": "code",
   "execution_count": 2,
   "id": "1327018a",
   "metadata": {},
   "outputs": [
    {
     "name": "stderr",
     "output_type": "stream",
     "text": [
      "Device set to use cpu\n",
      "Device set to use cpu\n",
      "Device set to use cpu\n"
     ]
    }
   ],
   "source": [
    "hanifnoerr = \"hanifnoerr/Fine-tuned-Indonesian-Sentiment-Classifier\"\n",
    "hanifnoerr_model = pipeline(\n",
    "    \"sentiment-analysis\",\n",
    "    model=hanifnoerr,\n",
    "    tokenizer=hanifnoerr,\n",
    "    truncation=True,\n",
    "     max_length=512\n",
    ")\n",
    "\n",
    "crypter70 = \"crypter70/IndoBERT-Sentiment-Analysis\"\n",
    "crypter70_model = pipeline(\n",
    "    \"sentiment-analysis\",\n",
    "    model=crypter70,\n",
    "    tokenizer=crypter70,\n",
    "    truncation=True,\n",
    "     max_length=512\n",
    ")\n",
    "\n",
    "w11wo = \"w11wo/indonesian-roberta-base-sentiment-classifier\"\n",
    "w11wo_model = pipeline(\n",
    "    \"sentiment-analysis\",\n",
    "    model=w11wo,\n",
    "    tokenizer=w11wo,\n",
    "    truncation=True,\n",
    "     max_length=512\n",
    ")"
   ]
  },
  {
   "cell_type": "markdown",
   "id": "fa1cb466",
   "metadata": {},
   "source": [
    "CLEANING"
   ]
  },
  {
   "cell_type": "code",
   "execution_count": 3,
   "id": "e711f887",
   "metadata": {},
   "outputs": [],
   "source": [
    "data = pd.read_csv(\"Review KCU Pulau Jawa - with label.csv\")\n",
    "data = data.dropna(subset=['review_text'])\n",
    "\n",
    "data['review_text_cleaned'] = data['review_text'].astype(str).str.lower()\n",
    "data['review_text_cleaned'] = [re.sub(r'[^\\x00-\\x7f]',r'', i) for i in data['review_text_cleaned']]\n",
    "data['review_text_cleaned'] = [re.sub(r'\\n', r' ', i) for i in data['review_text_cleaned']]\n",
    "data['review_text_cleaned'] = data['review_text_cleaned'].apply(\n",
    "    lambda x: re.sub(f\"[{re.escape(string.punctuation)}]\", \" \", x)\n",
    ")\n",
    "# Normalize whitespace and trim\n",
    "data['review_text_cleaned'] = data['review_text_cleaned'].apply(lambda x: re.sub(r'\\s+', ' ', x).strip())\n",
    "\n",
    "# Drop rows where cleaned text is empty string\n",
    "data = data[data['review_text_cleaned'] != \"\"]"
   ]
  },
  {
   "cell_type": "code",
   "execution_count": 4,
   "id": "d53f2869",
   "metadata": {},
   "outputs": [],
   "source": [
    "words_dict = {\n",
    "    'tdk'  : 'tidak',\n",
    "    'yg' : 'yang',\n",
    "    'ga' : 'tidak',\n",
    "    'gak' : 'tidak',\n",
    "    'tp' : 'tapi',\n",
    "    'd' : 'di',\n",
    "    'sy' : 'saya',\n",
    "    '&' : 'dan',\n",
    "    'dgn' : 'dengan', \n",
    "    'utk' : 'untuk',\n",
    "    'gk' : 'tidak',\n",
    "    'jd' : 'jadi',\n",
    "    'jg' : 'juga',\n",
    "    'dr' : 'dari',\n",
    "    'krn' : 'karena',\n",
    "    'aja' : 'saja',\n",
    "    'karna' : 'karena',\n",
    "    'udah' : 'sudah',\n",
    "    'kmr' : 'kamar',\n",
    "    'g' : 'tidak',\n",
    "    'dpt' : 'dapat',\n",
    "    'banget' : 'sekali',\n",
    "    'bgt' : 'sekali',\n",
    "    'kalo' : 'kalau',\n",
    "    'n' : 'dan', \n",
    "    'bs' : 'bisa',\n",
    "    'oke' : 'ok',\n",
    "    'dg' : 'dengan',\n",
    "    'pake' : 'pakai',\n",
    "    'sampe' : 'sampai',\n",
    "    'dapet' : 'dapat',\n",
    "    'ad' : 'ada',\n",
    "    'lg' : 'lagi',\n",
    "    'bikin' : 'buat',\n",
    "    'tak' : 'tidak',\n",
    "    'ny' : 'nya',\n",
    "    'ngga' : 'tidak',\n",
    "    'nunggu' : 'tunggu',\n",
    "    'klo' : 'kalau',\n",
    "    'blm' : 'belum',\n",
    "    'trus' : 'terus',\n",
    "    'kayak' : 'seperti',\n",
    "    'dlm' : 'dalam',\n",
    "    'udh' : 'sudah',\n",
    "    'tau' : 'tahu',\n",
    "    'org' : 'orang',\n",
    "    'hrs' : 'harus',\n",
    "    'msh' : 'masih',\n",
    "    'sm' : 'sama',\n",
    "    'byk' : 'banyak',\n",
    "    'krg' : 'kurang',\n",
    "    'kmar' : 'kamar',\n",
    "    'spt' : 'seperti',\n",
    "    'pdhl' : 'padahal',\n",
    "    'chek' : 'cek',\n",
    "    'pesen' : 'pesan', \n",
    "    'kran' : 'keran',\n",
    "    'gitu' : 'begitu',\n",
    "    'tpi' : 'tapi',\n",
    "    'lbh' : 'lebih',\n",
    "    'tmpt' : 'tempat',\n",
    "    'dikasi' : 'dikasih',\n",
    "    'serem' : 'seram', \n",
    "    'sya' : 'saya',\n",
    "    'jgn' : 'jangan',\n",
    "    'dri' : 'dari',\n",
    "    'dtg' : 'datang',\n",
    "    'gada' : 'tidak ada',\n",
    "    'standart' : 'standar',\n",
    "    'mlm' : 'malam',\n",
    "    'k'  : 'ke',\n",
    "    'kl' : 'kalau',\n",
    "    'sgt': 'sangat',\n",
    "    'y' : 'ya',\n",
    "    'krna' : 'karena',\n",
    "    'tgl' : 'tanggal', \n",
    "    'terimakasih' : 'terima kasih',\n",
    "    'kecoak' : 'kecoa',\n",
    "    'pd' : 'pada',\n",
    "    'tdr' : 'tidur', \n",
    "    'jdi' : 'jadi',\n",
    "    'kyk' : 'seperti',\n",
    "    'sdh' : 'sudah',\n",
    "    'ama' : 'sama',\n",
    "    'gmana' : 'bagaimana',\n",
    "    'dalem' : 'dalam',\n",
    "    'tanyak' : 'tanya',\n",
    "    'taru' : 'taruh',\n",
    "    'gede' : 'besar',\n",
    "    'kaya' : 'seperti',\n",
    "    'access' : 'akses',\n",
    "    'tetep' : 'tetap',\n",
    "    'mgkin' : 'mungkin',\n",
    "    'sower' : 'shower',\n",
    "    'idup' : 'hidup',\n",
    "    'nyaaa' : 'nya',\n",
    "    'baikk' : 'baik',\n",
    "    'hanay' : 'hanya',\n",
    "    'tlp' : 'telpon',\n",
    "    'kluarga' : 'keluarga',\n",
    "    'jln' : 'jalan',\n",
    "    'hr' : 'hari',\n",
    "    'ngak' : 'tidak',\n",
    "    'bli' : 'beli',\n",
    "    'kmar' : 'kamar',\n",
    "    'naro' : 'taruh',\n",
    "    'telpon':'telepon',\n",
    "    'nlpn':'telepon',\n",
    "    'tlp':'telepon',\n",
    "    'nelpon':'telepon',\n",
    "    'ktr':'kantor',\n",
    "    'kntr':'kantor',\n",
    "    'cb' : 'coba',\n",
    "    'bgs' : 'bagus',\n",
    "    'mntp' : 'mantap',\n",
    "    'jlk' : 'jelek',\n",
    "    'smp' : 'sampai',\n",
    "    'ane' : 'saya',\n",
    "    'gw' : 'saya',\n",
    "    'gua' : 'saya',\n",
    "    'dah' : 'sudah',\n",
    "    'yng' : 'yang'\n",
    "}\n",
    "\n"
   ]
  },
  {
   "cell_type": "code",
   "execution_count": 5,
   "id": "fad834c6",
   "metadata": {},
   "outputs": [],
   "source": [
    "list_sentence_train = []\n",
    "for sentence in data['review_text_cleaned'] :\n",
    "    cleaned_sentence = [words_dict[word] if word in list(words_dict.keys()) else word for word in sentence.split()]\n",
    "    list_sentence_train.append(' '.join(cleaned_sentence))\n",
    "data['review_text_cleaned'] = list_sentence_train"
   ]
  },
  {
   "cell_type": "code",
   "execution_count": 6,
   "id": "79934212",
   "metadata": {},
   "outputs": [
    {
     "data": {
      "text/html": [
       "<div>\n",
       "<style scoped>\n",
       "    .dataframe tbody tr th:only-of-type {\n",
       "        vertical-align: middle;\n",
       "    }\n",
       "\n",
       "    .dataframe tbody tr th {\n",
       "        vertical-align: top;\n",
       "    }\n",
       "\n",
       "    .dataframe thead th {\n",
       "        text-align: right;\n",
       "    }\n",
       "</style>\n",
       "<table border=\"1\" class=\"dataframe\">\n",
       "  <thead>\n",
       "    <tr style=\"text-align: right;\">\n",
       "      <th></th>\n",
       "      <th>review_text</th>\n",
       "      <th>sentiment</th>\n",
       "      <th>review_text_cleaned</th>\n",
       "    </tr>\n",
       "  </thead>\n",
       "  <tbody>\n",
       "    <tr>\n",
       "      <th>0</th>\n",
       "      <td>Ayo yg mau kirim paket ato bayar tagihan bulan...</td>\n",
       "      <td>positive</td>\n",
       "      <td>ayo yang mau kirim paket ato bayar tagih bulan...</td>\n",
       "    </tr>\n",
       "    <tr>\n",
       "      <th>1</th>\n",
       "      <td>Nyaman dan penuh keramahan</td>\n",
       "      <td>positive</td>\n",
       "      <td>nyaman dan penuh ramah</td>\n",
       "    </tr>\n",
       "    <tr>\n",
       "      <th>2</th>\n",
       "      <td>Bersih</td>\n",
       "      <td>positive</td>\n",
       "      <td>bersih</td>\n",
       "    </tr>\n",
       "    <tr>\n",
       "      <th>3</th>\n",
       "      <td>Pelayanan nya bagus...kirim ke Bandung 1 hari ...</td>\n",
       "      <td>positive</td>\n",
       "      <td>layan nya bagus kirim ke bandung 1 hari sampai</td>\n",
       "    </tr>\n",
       "    <tr>\n",
       "      <th>4</th>\n",
       "      <td>Merupakan BUMN tertua di Indonesia yang masih ...</td>\n",
       "      <td>positive</td>\n",
       "      <td>rupa bumn tua di indonesia yang masih diri ged...</td>\n",
       "    </tr>\n",
       "    <tr>\n",
       "      <th>5</th>\n",
       "      <td>Bagus pelayanan cepat sesuai no antrian</td>\n",
       "      <td>positive</td>\n",
       "      <td>bagus layan cepat sesuai no antri</td>\n",
       "    </tr>\n",
       "    <tr>\n",
       "      <th>6</th>\n",
       "      <td>untuk pelayanan transaksi ria money sangat cep...</td>\n",
       "      <td>positive</td>\n",
       "      <td>untuk layan transaksi ria money sangat cepat d...</td>\n",
       "    </tr>\n",
       "    <tr>\n",
       "      <th>7</th>\n",
       "      <td>Stafnya sangat ramah</td>\n",
       "      <td>positive</td>\n",
       "      <td>staf sangat ramah</td>\n",
       "    </tr>\n",
       "    <tr>\n",
       "      <th>8</th>\n",
       "      <td>Kantornya rapih sekarang</td>\n",
       "      <td>positive</td>\n",
       "      <td>kantor rapih sekarang</td>\n",
       "    </tr>\n",
       "    <tr>\n",
       "      <th>9</th>\n",
       "      <td>Ciamik krn layanan untuk paket sampai jam 23.0...</td>\n",
       "      <td>positive</td>\n",
       "      <td>ciamik karena layan untuk paket sampai jam 23 ...</td>\n",
       "    </tr>\n",
       "  </tbody>\n",
       "</table>\n",
       "</div>"
      ],
      "text/plain": [
       "                                         review_text sentiment  \\\n",
       "0  Ayo yg mau kirim paket ato bayar tagihan bulan...  positive   \n",
       "1                         Nyaman dan penuh keramahan  positive   \n",
       "2                                             Bersih  positive   \n",
       "3  Pelayanan nya bagus...kirim ke Bandung 1 hari ...  positive   \n",
       "4  Merupakan BUMN tertua di Indonesia yang masih ...  positive   \n",
       "5            Bagus pelayanan cepat sesuai no antrian  positive   \n",
       "6  untuk pelayanan transaksi ria money sangat cep...  positive   \n",
       "7                               Stafnya sangat ramah  positive   \n",
       "8                           Kantornya rapih sekarang  positive   \n",
       "9  Ciamik krn layanan untuk paket sampai jam 23.0...  positive   \n",
       "\n",
       "                                 review_text_cleaned  \n",
       "0  ayo yang mau kirim paket ato bayar tagih bulan...  \n",
       "1                             nyaman dan penuh ramah  \n",
       "2                                             bersih  \n",
       "3     layan nya bagus kirim ke bandung 1 hari sampai  \n",
       "4  rupa bumn tua di indonesia yang masih diri ged...  \n",
       "5                  bagus layan cepat sesuai no antri  \n",
       "6  untuk layan transaksi ria money sangat cepat d...  \n",
       "7                                  staf sangat ramah  \n",
       "8                              kantor rapih sekarang  \n",
       "9  ciamik karena layan untuk paket sampai jam 23 ...  "
      ]
     },
     "execution_count": 6,
     "metadata": {},
     "output_type": "execute_result"
    }
   ],
   "source": [
    "# create stemmer\n",
    "factory = StemmerFactory()\n",
    "stemmer = factory.create_stemmer()\n",
    "\n",
    "# stem\n",
    "stem = []\n",
    "\n",
    "for index, row in data.iterrows():\n",
    "    try:\n",
    "        sentence = row['review_text_cleaned']\n",
    "        result = stemmer.stem(sentence)\n",
    "    except Exception as e:\n",
    "        result = 'error'\n",
    "    stem.append(result)\n",
    "\n",
    "data['review_text_cleaned'] = stem\n",
    "data.head(10)"
   ]
  },
  {
   "cell_type": "markdown",
   "id": "dad476a7",
   "metadata": {},
   "source": [
    "HANIFNOERR"
   ]
  },
  {
   "cell_type": "code",
   "execution_count": 7,
   "id": "329c16ec",
   "metadata": {},
   "outputs": [],
   "source": [
    "sentiments = []\n",
    "\n",
    "for index, row in data.iterrows():\n",
    "    try:\n",
    "        if pd.isnull(row['review_text_cleaned']):\n",
    "            text = str(' ')\n",
    "        else:\n",
    "            text = str(row['review_text_cleaned'])\n",
    "        result = hanifnoerr_model(text)[0]['label']\n",
    "    except Exception as e:\n",
    "        result = 'error'\n",
    "    sentiments.append(result)\n",
    "\n",
    "data['sentiment_result_hanifnoerr'] = sentiments"
   ]
  },
  {
   "cell_type": "code",
   "execution_count": 8,
   "id": "4644c53c",
   "metadata": {},
   "outputs": [
    {
     "name": "stdout",
     "output_type": "stream",
     "text": [
      "sentiment_result_hanifnoerr\n",
      "negative    344\n",
      "positive    291\n",
      "neutral     158\n",
      "Name: count, dtype: int64\n"
     ]
    }
   ],
   "source": [
    "print(data['sentiment_result_hanifnoerr'].value_counts())"
   ]
  },
  {
   "cell_type": "code",
   "execution_count": 9,
   "id": "8d157e2d",
   "metadata": {},
   "outputs": [
    {
     "name": "stderr",
     "output_type": "stream",
     "text": [
      "C:\\Users\\POS\\AppData\\Local\\Temp\\ipykernel_10096\\1922892403.py:5: FutureWarning: \n",
      "\n",
      "Passing `palette` without assigning `hue` is deprecated and will be removed in v0.14.0. Assign the `x` variable to `hue` and set `legend=False` for the same effect.\n",
      "\n",
      "  sns.countplot(data=data, x='sentiment_result_hanifnoerr', order=data['sentiment_result_hanifnoerr'].value_counts().index, palette='pastel')\n"
     ]
    },
    {
     "data": {
      "image/png": "[encoded data removed]",
      "text/plain": [
       "<Figure size 800x500 with 1 Axes>"
      ]
     },
     "metadata": {},
     "output_type": "display_data"
    }
   ],
   "source": [
    "import matplotlib.pyplot as plt\n",
    "import seaborn as sns\n",
    "\n",
    "plt.figure(figsize=(8, 5))\n",
    "sns.countplot(data=data, x='sentiment_result_hanifnoerr', order=data['sentiment_result_hanifnoerr'].value_counts().index, palette='pastel')\n",
    "plt.title('Distribusi Sentimen Review')\n",
    "plt.xlabel('Label Sentimen')\n",
    "plt.ylabel('Jumlah')\n",
    "plt.xticks(rotation=45)\n",
    "plt.tight_layout()\n",
    "plt.show()"
   ]
  },
  {
   "cell_type": "markdown",
   "id": "42f1fa38",
   "metadata": {},
   "source": [
    "crypter70"
   ]
  },
  {
   "cell_type": "code",
   "execution_count": 10,
   "id": "018eeaac",
   "metadata": {},
   "outputs": [],
   "source": [
    "sentiments = []\n",
    "\n",
    "for index, row in data.iterrows():\n",
    "    try:\n",
    "        if pd.isnull(row['review_text_cleaned']):\n",
    "            text = str(' ')\n",
    "        else:\n",
    "            text = str(row['review_text_cleaned'])\n",
    "        result = crypter70_model(text)[0]['label']\n",
    "    except Exception as e:\n",
    "        result = 'error'\n",
    "    sentiments.append(result)\n",
    "\n",
    "data['sentiment_result_crypter70'] = sentiments"
   ]
  },
  {
   "cell_type": "code",
   "execution_count": 11,
   "id": "dc5e65a1",
   "metadata": {},
   "outputs": [
    {
     "name": "stdout",
     "output_type": "stream",
     "text": [
      "sentiment_result_crypter70\n",
      "NEGATIVE    330\n",
      "POSITIVE    293\n",
      "NEUTRAL     170\n",
      "Name: count, dtype: int64\n"
     ]
    }
   ],
   "source": [
    "print(data['sentiment_result_crypter70'].value_counts())"
   ]
  },
  {
   "cell_type": "code",
   "execution_count": 12,
   "id": "d0739b88",
   "metadata": {},
   "outputs": [
    {
     "name": "stderr",
     "output_type": "stream",
     "text": [
      "C:\\Users\\POS\\AppData\\Local\\Temp\\ipykernel_10096\\3126681369.py:5: FutureWarning: \n",
      "\n",
      "Passing `palette` without assigning `hue` is deprecated and will be removed in v0.14.0. Assign the `x` variable to `hue` and set `legend=False` for the same effect.\n",
      "\n",
      "  sns.countplot(data=data, x='sentiment_result_crypter70', order=data['sentiment_result_crypter70'].value_counts().index, palette='pastel')\n"
     ]
    },
    {
     "data": {
      "image/png": "[encoded data removed]",
      "text/plain": [
       "<Figure size 800x500 with 1 Axes>"
      ]
     },
     "metadata": {},
     "output_type": "display_data"
    }
   ],
   "source": [
    "import matplotlib.pyplot as plt\n",
    "import seaborn as sns\n",
    "\n",
    "plt.figure(figsize=(8, 5))\n",
    "sns.countplot(data=data, x='sentiment_result_crypter70', order=data['sentiment_result_crypter70'].value_counts().index, palette='pastel')\n",
    "plt.title('Distribusi Sentimen Review')\n",
    "plt.xlabel('Label Sentimen')\n",
    "plt.ylabel('Jumlah')\n",
    "plt.xticks(rotation=45)\n",
    "plt.tight_layout()\n",
    "plt.show()"
   ]
  },
  {
   "cell_type": "markdown",
   "id": "4c2460ab",
   "metadata": {},
   "source": [
    "w11wo"
   ]
  },
  {
   "cell_type": "code",
   "execution_count": 13,
   "id": "50d5bf3e",
   "metadata": {},
   "outputs": [],
   "source": [
    "sentiments = []\n",
    "\n",
    "for index, row in data.iterrows():\n",
    "    try:\n",
    "        if pd.isnull(row['review_text_cleaned']):\n",
    "            text = str(' ')\n",
    "        else:\n",
    "            text = str(row['review_text_cleaned'])\n",
    "        result = w11wo_model(text)[0]['label']\n",
    "    except Exception as e:\n",
    "        result = 'error'\n",
    "    sentiments.append(result)\n",
    "\n",
    "data['sentiment_result_w11wo'] = sentiments"
   ]
  },
  {
   "cell_type": "code",
   "execution_count": 14,
   "id": "edc78aa4",
   "metadata": {},
   "outputs": [
    {
     "name": "stdout",
     "output_type": "stream",
     "text": [
      "sentiment_result_w11wo\n",
      "negative    311\n",
      "positive    303\n",
      "neutral     179\n",
      "Name: count, dtype: int64\n"
     ]
    }
   ],
   "source": [
    "print(data['sentiment_result_w11wo'].value_counts())"
   ]
  },
  {
   "cell_type": "code",
   "execution_count": 15,
   "id": "59a7d57f",
   "metadata": {},
   "outputs": [
    {
     "name": "stderr",
     "output_type": "stream",
     "text": [
      "C:\\Users\\POS\\AppData\\Local\\Temp\\ipykernel_10096\\392182998.py:4: FutureWarning: \n",
      "\n",
      "Passing `palette` without assigning `hue` is deprecated and will be removed in v0.14.0. Assign the `x` variable to `hue` and set `legend=False` for the same effect.\n",
      "\n",
      "  sns.countplot(data=data, x='sentiment_result_w11wo', order=data['sentiment_result_w11wo'].value_counts().index, palette='pastel')\n"
     ]
    },
    {
     "data": {
      "image/png": "[encoded data removed]",
      "text/plain": [
       "<Figure size 800x500 with 1 Axes>"
      ]
     },
     "metadata": {},
     "output_type": "display_data"
    }
   ],
   "source": [
    "import matplotlib.pyplot as plt\n",
    "import seaborn as sns\n",
    "plt.figure(figsize=(8, 5))\n",
    "sns.countplot(data=data, x='sentiment_result_w11wo', order=data['sentiment_result_w11wo'].value_counts().index, palette='pastel')\n",
    "plt.title('Distribusi Sentimen Review')\n",
    "plt.xlabel('Label Sentimen')\n",
    "plt.ylabel('Jumlah')\n",
    "plt.xticks(rotation=45)\n",
    "plt.tight_layout()\n",
    "plt.show()"
   ]
  },
  {
   "cell_type": "code",
   "execution_count": 21,
   "id": "69a14c0b",
   "metadata": {},
   "outputs": [
    {
     "name": "stdout",
     "output_type": "stream",
     "text": [
      "Accuracy: 84.36%\n",
      "\n",
      "Classification Report:\n",
      "              precision    recall  f1-score   support\n",
      "\n",
      "    positive       0.91      0.80      0.85       333\n",
      "    negative       0.89      0.92      0.90       333\n",
      "     neutral       0.63      0.78      0.69       127\n",
      "\n",
      "    accuracy                           0.84       793\n",
      "   macro avg       0.81      0.83      0.82       793\n",
      "weighted avg       0.86      0.84      0.85       793\n",
      "\n",
      "\n",
      "Confusion Matrix:\n",
      "[[265  28  40]\n",
      " [  9 305  19]\n",
      " [ 17  11  99]]\n"
     ]
    }
   ],
   "source": [
    "# Update y_true and y_pred\n",
    "y_true = data['sentiment']\n",
    "y_pred = data['sentiment_result_hanifnoerr']\n",
    "\n",
    "# Accuracy\n",
    "accuracy = accuracy_score(y_true, y_pred)\n",
    "print(f\"Accuracy: {accuracy:.2%}\")\n",
    "\n",
    "# Classification Report\n",
    "print(\"\\nClassification Report:\")\n",
    "print(classification_report(y_true, y_pred, labels=['positive', 'negative','neutral']))\n",
    "\n",
    "# Confusion Matrix\n",
    "print(\"\\nConfusion Matrix:\")\n",
    "print(confusion_matrix(y_true, y_pred, labels=['positive', 'negative','neutral']))\n"
   ]
  },
  {
   "cell_type": "code",
   "execution_count": 22,
   "id": "56e65576",
   "metadata": {},
   "outputs": [
    {
     "name": "stdout",
     "output_type": "stream",
     "text": [
      "Accuracy: 81.84%\n",
      "\n",
      "Classification Report:\n",
      "              precision    recall  f1-score   support\n",
      "\n",
      "    positive       0.88      0.78      0.83       333\n",
      "    negative       0.89      0.89      0.89       333\n",
      "     neutral       0.56      0.75      0.64       127\n",
      "\n",
      "    accuracy                           0.82       793\n",
      "   macro avg       0.78      0.80      0.79       793\n",
      "weighted avg       0.84      0.82      0.82       793\n",
      "\n",
      "\n",
      "Confusion Matrix:\n",
      "[[259  26  48]\n",
      " [ 11 295  27]\n",
      " [ 23   9  95]]\n"
     ]
    }
   ],
   "source": [
    "# Update y_true and y_pred\n",
    "y_true = data['sentiment']\n",
    "y_pred = data['sentiment_result_crypter70'].str.lower()\n",
    "\n",
    "# Accuracy\n",
    "accuracy = accuracy_score(y_true, y_pred)\n",
    "print(f\"Accuracy: {accuracy:.2%}\")\n",
    "\n",
    "# Classification Report\n",
    "print(\"\\nClassification Report:\")\n",
    "print(classification_report(y_true, y_pred, labels=['positive', 'negative','neutral']))\n",
    "\n",
    "# Confusion Matrix\n",
    "print(\"\\nConfusion Matrix:\")\n",
    "print(confusion_matrix(y_true, y_pred, labels=['positive', 'negative','neutral']))"
   ]
  },
  {
   "cell_type": "code",
   "execution_count": 23,
   "id": "73e17da4",
   "metadata": {},
   "outputs": [
    {
     "name": "stdout",
     "output_type": "stream",
     "text": [
      "Accuracy: 81.84%\n",
      "\n",
      "Classification Report:\n",
      "              precision    recall  f1-score   support\n",
      "\n",
      "    positive       0.87      0.80      0.83       333\n",
      "    negative       0.93      0.86      0.89       333\n",
      "     neutral       0.54      0.76      0.63       127\n",
      "\n",
      "    accuracy                           0.82       793\n",
      "   macro avg       0.78      0.81      0.79       793\n",
      "weighted avg       0.84      0.82      0.83       793\n",
      "\n",
      "\n",
      "Confusion Matrix:\n",
      "[[265  18  50]\n",
      " [ 12 288  33]\n",
      " [ 26   5  96]]\n"
     ]
    }
   ],
   "source": [
    "# Update y_true and y_pred\n",
    "y_true = data['sentiment']\n",
    "y_pred = data['sentiment_result_w11wo']\n",
    "\n",
    "# Accuracy\n",
    "accuracy = accuracy_score(y_true, y_pred)\n",
    "print(f\"Accuracy: {accuracy:.2%}\")\n",
    "\n",
    "# Classification Report\n",
    "print(\"\\nClassification Report:\")\n",
    "print(classification_report(y_true, y_pred, labels=['positive', 'negative','neutral']))\n",
    "\n",
    "# Confusion Matrix\n",
    "print(\"\\nConfusion Matrix:\")\n",
    "print(confusion_matrix(y_true, y_pred, labels=['positive', 'negative','neutral']))\n"
   ]
  },
  {
   "cell_type": "code",
   "execution_count": null,
   "id": "4c0204be",
   "metadata": {},
   "outputs": [],
   "source": []
  }
 ],
 "metadata": {
  "kernelspec": {
   "display_name": "Python 3",
   "language": "python",
   "name": "python3"
  },
  "language_info": {
   "codemirror_mode": {
    "name": "ipython",
    "version": 3
   },
   "file_extension": ".py",
   "mimetype": "text/x-python",
   "name": "python",
   "nbconvert_exporter": "python",
   "pygments_lexer": "ipython3",
   "version": "3.13.2"
  }
 },
 "nbformat": 4,
 "nbformat_minor": 5
}
