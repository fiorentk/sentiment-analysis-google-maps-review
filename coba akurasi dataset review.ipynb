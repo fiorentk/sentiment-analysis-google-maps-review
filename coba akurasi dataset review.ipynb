{
 "cells": [
  {
   "cell_type": "code",
   "execution_count": 45,
   "id": "7f05492f",
   "metadata": {},
   "outputs": [],
   "source": [
    "import pandas as pd\n",
    "import re\n",
    "import string\n",
    "from transformers import pipeline\n",
    "from sklearn.metrics import classification_report, accuracy_score, confusion_matrix\n",
    "from Sastrawi.Stemmer.StemmerFactory import StemmerFactory\n",
    "import nltk\n",
    "from nltk.corpus import words"
   ]
  },
  {
   "cell_type": "code",
   "execution_count": 46,
   "id": "243060b6",
   "metadata": {},
   "outputs": [
    {
     "name": "stderr",
     "output_type": "stream",
     "text": [
      "Device set to use cpu\n",
      "Device set to use cpu\n",
      "Device set to use cpu\n",
      "Device set to use cpu\n",
      "Device set to use cpu\n"
     ]
    }
   ],
   "source": [
    "hanifnoerr = \"hanifnoerr/Fine-tuned-Indonesian-Sentiment-Classifier\"\n",
    "hanifnoerr_model = pipeline(\n",
    "    \"sentiment-analysis\",\n",
    "    model=hanifnoerr,\n",
    "    tokenizer=hanifnoerr,\n",
    "    truncation=True,\n",
    "     max_length=512\n",
    ")\n",
    "def analyze_sentiment_hanifnoerr(text):\n",
    "    try:\n",
    "        result = hanifnoerr_model(str(text))[0]\n",
    "        return result['label'], result['score']\n",
    "    except:\n",
    "        return 'error', 'error'\n",
    "\n",
    "crypter70 = \"crypter70/IndoBERT-Sentiment-Analysis\"\n",
    "crypter70_model = pipeline(\n",
    "    \"sentiment-analysis\",\n",
    "    model=crypter70,\n",
    "    tokenizer=crypter70,\n",
    "    truncation=True,\n",
    "     max_length=512\n",
    ")\n",
    "def analyze_sentiment_crypter70(text):\n",
    "    try:\n",
    "        result = crypter70_model(str(text))[0]\n",
    "        return result['label'], result['score']\n",
    "    except:\n",
    "        return 'error', 'error'\n",
    "\n",
    "w11wo = \"w11wo/indonesian-roberta-base-sentiment-classifier\"\n",
    "w11wo_model = pipeline(\n",
    "    \"sentiment-analysis\",\n",
    "    model=w11wo,\n",
    "    tokenizer=w11wo,\n",
    "    truncation=True,\n",
    "     max_length=512\n",
    ")\n",
    "def analyze_sentiment_w11wo(text):\n",
    "    try:\n",
    "        result = w11wo_model(str(text))[0]\n",
    "        return result['label'], result['score']\n",
    "    except:\n",
    "        return 'error', 'error'\n",
    "\n",
    "ayameRushia = \"ayameRushia/bert-base-indonesian-1.5G-sentiment-analysis-smsa\"\n",
    "ayameRushia_model = pipeline(\n",
    "    \"sentiment-analysis\",\n",
    "    model=ayameRushia,\n",
    "    tokenizer=ayameRushia,\n",
    "    truncation=True,\n",
    "     max_length=512\n",
    ")\n",
    "def analyze_sentiment_ayameRushia(text):\n",
    "    try:\n",
    "        result = ayameRushia_model(str(text))[0]\n",
    "        return result['label'], result['score']\n",
    "    except:\n",
    "        return 'error', 'error'\n",
    "\n",
    "Aardiiiiy = \"Aardiiiiy/indobertweet-base-Indonesian-sentiment-analysis\"\n",
    "Aardiiiiy_model = pipeline(\n",
    "    \"sentiment-analysis\",\n",
    "    model=Aardiiiiy,\n",
    "    tokenizer=Aardiiiiy,\n",
    "    truncation=True,\n",
    "     max_length=512\n",
    ")\n",
    "def analyze_sentiment_Aardiiiiy(text):\n",
    "    try:\n",
    "        result = Aardiiiiy_model(str(text))[0]\n",
    "        return result['label'], result['score']\n",
    "    except:\n",
    "        return 'error', 'error'"
   ]
  },
  {
   "cell_type": "markdown",
   "id": "4c540f3a",
   "metadata": {},
   "source": [
    "CLEANING"
   ]
  },
  {
   "cell_type": "code",
   "execution_count": 47,
   "id": "08c18bec",
   "metadata": {},
   "outputs": [
    {
     "name": "stderr",
     "output_type": "stream",
     "text": [
      "[nltk_data] Downloading package words to\n",
      "[nltk_data]     C:\\Users\\POS\\AppData\\Roaming\\nltk_data...\n",
      "[nltk_data]   Package words is already up-to-date!\n"
     ]
    }
   ],
   "source": [
    "data = pd.read_csv(\"Review KCU Pulau Jawa - with label.csv\")\n",
    "data = data.dropna(subset=['review_text'])\n",
    "\n",
    "data['review_text_cleaned'] = data['review_text'].astype(str).str.lower()\n",
    "data['review_text_cleaned'] = [re.sub(r'[^\\x00-\\x7f]',r'', i) for i in data['review_text_cleaned']]\n",
    "data['review_text_cleaned'] = [re.sub(r'\\n', r' ', i) for i in data['review_text_cleaned']]\n",
    "data['review_text_cleaned'] = data['review_text_cleaned'].apply(\n",
    "    lambda x: re.sub(f\"[{re.escape(string.punctuation)}]\", \" \", x)\n",
    ")\n",
    "# Remove numbers\n",
    "data['review_text_cleaned'] = data['review_text_cleaned'].apply(lambda x: re.sub(r'\\d+', '', x))\n",
    "\n",
    "# Remove English words (basic filtering using a set of common English words)\n",
    "nltk.download('words')\n",
    "english_words = set(words.words())\n",
    "\n",
    "def remove_english_words(text):\n",
    "    return ' '.join([word for word in text.split() if word not in english_words])\n",
    "\n",
    "data['review_text_cleaned'] = data['review_text_cleaned'].apply(remove_english_words)\n",
    "\n",
    "# Normalize whitespace again after filtering\n",
    "data['review_text_cleaned'] = data['review_text_cleaned'].apply(lambda x: re.sub(r'\\s+', ' ', x).strip())\n",
    "\n",
    "# Drop empty rows again\n",
    "data = data[data['review_text_cleaned'] != \"\"]"
   ]
  },
  {
   "cell_type": "code",
   "execution_count": 48,
   "id": "8563e0e9",
   "metadata": {},
   "outputs": [],
   "source": [
    "words_dict = {'tdk': 'tidak','yg' : 'yang','ga' : 'tidak',\n",
    "'gak' : 'tidak','d' : 'di','sy' : 'saya','&' : 'dan','dgn' : 'dengan',\n",
    "'utk' : 'untuk','gk' : 'tidak','jd' : 'jadi','jg' : 'juga','dr' : 'dari','krn' : 'karena',\n",
    "'aja' : 'saja','karna' : 'karena','udah' : 'sudah','kmr' : 'kamar','g' : 'tidak','dpt' : 'dapat','banget' : 'sekali',\n",
    "'bgt' : 'sekali','kalo' : 'kalau','n' : 'dan', 'bs' : 'bisa','oke' : 'bagus','dg' : 'dengan','pake' : 'pakai',\n",
    "'sampe' : 'sampai','dapet' : 'dapat','ad' : 'ada','lg' : 'lagi','bikin' : 'buat','tak' : 'tidak',\n",
    "'ny' : 'nya','ngga' : 'tidak','nunggu' : 'tunggu','klo' : 'kalau','blm' : 'belum','trus' : 'terus',\n",
    "'kayak' : 'seperti','dlm' : 'dalam','udh' : 'sudah','tau' : 'tahu','org' : 'orang','hrs' : 'harus','msh' : 'masih',\n",
    "'sm' : 'sama','byk' : 'banyak','krg' : 'kurang','kmar' : 'kamar','spt' : 'seperti','pdhl' : 'padahal','chek' : 'cek',\n",
    "' dteng2' : 'datang-datang','pesen' : 'pesan', 'kran' : 'keran','gitu' : 'begitu','tpi' : 'tetapi',\n",
    "'tapi':'tetapi,','lbh' : 'lebih','tmpt' : 'tempat','dikasi' : 'dikasih','serem' : 'seram', 'sya' : 'saya',\n",
    "'jgn' : 'jangan','dri' : 'dari','dtg' : 'datang','gada' : 'tidak ada','standart' : 'standar','mlm' : 'malam','k'  : 'ke','kl' : 'kalau','sgt': 'sangat','y' : 'ya','krna' : 'karena','tgl' : 'tanggal', 'terimakasih' : 'terima kasih','kecoak' : 'kecoa','pd' : 'pada','tdr' : 'tidur', 'jdi' : 'jadi','kyk' : 'seperti','sdh' : 'sudah','ama' : 'sama','gmana' : 'bagaimana','dalem' : 'dalam','tanyak' : 'tanya','taru' : 'taruh','gede' : 'besar','kaya' : 'seperti','access' : 'akses','tetep' : 'tetap','mgkin' : 'mungkin','sower' : 'shower','idup' : 'hidup','nyaaa' : 'nya','baikk' : 'baik','hanay' : 'hanya','tlp' : 'telpon','kluarga' : 'keluarga','jln' : 'jalan','hr' : 'hari','ngak' : 'tidak','bli' : 'beli','kmar' : 'kamar','naro' : 'taruh','telpon':'telepon','nlpn':'telepon','tlp':'telepon','nelpon':'telepon','ktr':'kantor','kntr':'kantor','cb' : 'coba','bgs' : 'bagus','mntp' : 'mantap','jlk' : 'jelek','smp' : 'sampai','ane' : 'saya','gw' : 'saya','gua' : 'saya','dah' : 'sudah',\"jelek.\": \"jelek\",\"dioper\": \"dioper\",\"lntai3\": \"lantai 3\",\"1lagi\": \"1 lagi\",\"lembaga pemerintag\": \"lembaga pemerintah\",\"payah.\": \"payah\",\"reformasi\": \"Reformasi\",\"paket\": \"paketnya\",\"blum\": \"belum\",\"dpt\": \"dapat\",\"pki\": \"pakai\",\"knp\": \"kenapa\",\"smpai\": \"sampai\",\"lmbat\": \"lambat\",\"dijakarta\": \"di Jakarta\",\"kerjanya\": \"kerjanya\",\"cust\": \"customer\",\"servis\": \"service\",\"konco\": \"kawan\",\"ga\": \"nggak\",\"Emang\": \"Memang\",\"Gk\": \"Nggak\",\"Gmn\": \"Gimana\",\"kl\": \"kalau\",\"dr\": \"dari\",\"rmh\": \"rumah\",\"krj\": \"kerja\",\"sm\": \"sama\",\"sdh\": \"sudah\",\"pd\": \"pada\",\"jg\": \"juga\",\"br\": \"baru\",\"bs\": \"bisa\",\"hr\": \"hari\",\"sy\": \"saya\",\"kt\": \"kita\",\"ato\": \"atau\",\"map\": \"map coklat\",\"coklat\": \"coklat\",\"blm\": \"belum\",\"sn\": \"sana\",\"yg\": \"yang\",\"payanan\": \"pelayanan\",\"pertimbanhkan\": \"pertimbangkan\",\"telfon\": \"telepon\",\"kagak\": \"nggak\",\"tlp\": \"telepon\",\"bodo\": \"bodoh\",\"bnyak\": \"banyak\",\"internet\": \"internetnya\",\"m\": \"mempermudah\",\"g\": \"nggak\",\"brp\": \"berapa\",\"drpd\": \"daripada\",\"brt\": \"berat\",\"tlpn\": \"telepon\",\"alamatnya\": \"alamat\",\"ngga\": \"nggak\",\"mentang\": \"mentang-mentang\",\"sumardi\": \"Sumardi\",\"tuan\": \"Tuan\",\"operator e\": \"operatornya\",\"kedubrak\": \"Kedodoran\",\"exspress\": \"express\",\"perna\": \"pernah\",\"payahhhhh.\": \"payah\",\"cs\": \"customer service\",\"tidakdapat\": \"tidak dapat\",\"ny\": \"nya\",\"pt.posindonesia\": \"pt. pos indonesia\",\"krm\": \"kirim\",\"spt\": \"seperti\",\"kntr\": \"kantor\",\"posindonesia\": \"pos indonesia\",\"nyuruh\": \"menyuruh\",\"yasudah\": \"ya sudah\",\"saya bilang\": \"saya berkata\",\"tasikmlaya\": \"tasikmalaya\",\"jwb\": \"jawab\",\"mdl\": \"modal\",\"tdi\": \"tadi\",\"seprti\": \"seperti\",\"tdk\": \"tidak\",\"telfn\": \"telepon\",\"no\": \"nomor\",\"mga\": \"semoga\",\"negata\": \"negara\",\"proaea\": \"proses\",\"ka tor pos\": \"kantor pos\",\"sms\": \"saya\",\"mag\": \"melalui\",\"fb\": \"facebook\",\"dlm\": \"dalam\",\"syr\": \"saya\",\"benerin\": \"benar\",\"Timur\": \"timur\",\"indoanesia\": \"indonesia\",\"Posgiro\": \"Pos Giro\",\"utang\": \"utang\",\"ambill\": \"ambil\",\"bsknyanya\": \"besoknya\",\"keesookan\": \"keesokan\",\"ujung2nya\": \"ujung-ujungnya\",\"ngejawaab\": \"menjawab\",\"kostumer\": \"customer\",\"custemer\": \"customer\",\"ditoellpn\": \"ditelpon\",\"pengantaran\": \"pengantaran\",\"hppp\": \"hape\",\"mgunakan\": \"menggunakan\",\"perlune\": \"perlu\",\n",
    "\"smp\": \"sampai\",\"telpon\": \"telepon\",\"knp\": \"kenapa\",\"bgt\": \"banget\",\"gak\": \"tidak\",\"ga\": \"tidak\",\"blm\": \"belum\",\"skrng\": \"sekarang\",\"aja\": \"saja\",\"udh\": \"sudah\",\"smpai\": \"sampai\",\"malaes\": \"males\",\"ngantar\": \"mengantar\",\"yg\": \"yang\",\"3hari\": \"tiga hari\",\"tmpat\": \"tempat\",\"kesitu\": \"ke situ\",\"beangnya\": \"biayanya\",\"skali\": \"sekali\",\"telp\": \"telepon\",\"lum\": \"belum\",\"tgl\": \"tanggal\",\"dibilang\": \"dikatakan\",\"cma\": \"cuma\",\"mw\": \"mau\",\"jd\": \"jadi\",\"jgn\": \"jangan\",\"dr\": \"dari\",\"sya\": \"saya\",\"ape\": \"apa\",\"resek\": \"rese\",\"ngga\": \"tidak\",\"klo\": \"kalau\",\"bakalan\": \"akan\",\"ky\": \"kayak\",\"krn\": \"karena\",\"sth\": \"setelah\",\"nyampe\": \"sampai\",\"d\": \"di\",\"simten\": \"sistem\",\"d tanggapi\": \"ditanggapi\",\"2minggu\": \"dua minggu\",\"2bln\": \"dua bulan\",\"bikin\": \"membuat\",\"msih\": \"masih\",\"sm\": \"sama\",\"smpe\": \"sampai\",\"blom\": \"belum\",\"lah\": \"saja\",\"sampe\": \"sampai\",\"dteng\": \"datang\",\"dn\": \"dan\",\"dtrima\": \"diterima\",\"ats\": \"atas\",\"nma\": \"nama\",\"nm\": \"nama\",\"tlfon\": \"telepon\",\"d angkat\": \"diangkat\",\"slh\": \"salah\",\"ato\": \"atau\",\"kcewa\": \"kecewa\",\"cek\": \"periksa\",\"gk\": \"tidak\",\"anter\": \"antar\",\"di anter\": \"diantar\",\"di tahan2\": \"ditahan-tahan\",\"giliran\": \"ketika\",\"ngambil\": \"mengambil\",\"koq\": \"kok\",\"skarang\": \"sekarang\",\"seh\": \"sih\",\"Endonesah\": \"Indonesia\",\"smpe2\": \"sampai-sampai\",\"ngendep\": \"mengendap\",\"pdhl\": \"padahal\",\"dkt\": \"dekat\",\"Telfon\": \"Telepon\",\"lbh\": \"lebih\",\"di retur\": \"diretur\",\"di antar2\": \"diantar-antar\",\"tlpon\": \"telepon\",\"sprt\": \"seperti\",\"dri\": \"dari\",\"sdah\": \"sudah\",\"sminggu\": \"seminggu\",\"lbih\": \"lebih\",\"smpt\": \"sempat\",\"sayamalah\": \"saya malah\",\"dkembalikan\": \"dikembalikan\",\"brng\": \"barang\",\"brp\": \"berapa\",\"poa\": \"pos\",\"ktne\": \"katanya\",\"brg\": \"barang\",\"eksoedisi\": \"ekspedisi\",\"nggak\": \"tidak\",\"tlg\": \"tolong\",\"ajh\": \"aja\",\"mislkan\": \"misalkan\",\"trmksh\": \"terima kasih\",\"sampek\": \"sampai\",\"gabisa\": \"tidak bisa\",\"tdk\": \"tidak\",\"WU\": \"Western Union\",\"gnya\": \"tidak-nya\",\"dipelayanan\": \"di pelayanan\",\"dibelakng\": \"di belakang\",\"g\": \"tidak\",\"bknya\": \"bukannya\",\"cs\": \"customer service\",\"sby\": \"Surabaya\",\"ktnya\": \"katanya\",\"pengirimin\": \"pengiriman\",\"sloooww\": \"slow\",\"berbelit\\\"\": \"berbelit-belit\",\"dtng\": \"datang\",\"gw\": \"saya\",\"ampe\": \"sampai\",\"bsok\": \"besok\",\"goblokk\": \"goblok\",\"bangeeet\": \"banget\",\"yaudah\": \"ya sudah\",\"kerjanya\": \"kerja nya\",\"gniat\": \"tidak niat\",\"kenkantornya\": \"ke kantornya\",\"gni\": \"begini\",\"ampas\": \"buruk\",\"gedor2\": \"gedor-gedor\",\"klakson2\": \"klakson-klakson\",\"di anter2\": \"diantar-antar\",\"bngt\": \"banget\",\"pket\": \"paket\",\"tlp\": \"telepon\",\"dtelpon\": \"ditelepon\",\"didiemin\": \"dibiarkan\",\" nya\": \"nya\",\"kl\": \"kalau\",\"bsk\": \"besok\",\"di tlp\": \"ditelepon\",\"sbnrnya\": \"sebenarnya\",\"cust\": \"customer\",\"custemer\": \"customer\",\"brang\": \"barang\",\"lmpung\": \"lampung\",\"dtuju\": \"dituju\",\"dteruskan\": \"diteruskan\",\"pk\": \"pakai\",\"mudik\": \"pulang kampung\",\"kerumah\": \"ke rumah\",\"maketin\": \"mengirimkan\",\"ngapalin\": \"menghapal\",\"trs\": \"terus\",\"ny\": \"nya\",\"dikirimnya\": \"dikirim\",\"kmrin\": \"kemarin\",\"kmrn\": \"kemarin\",\"gausah\": \"tidak usah\",\"gaakan\": \"tidak akan\",\"pake\": \"pakai\",\"kenk\": \"ke\",\"bru\": \"baru\",\"byaar\": \"bayar\",\"brgnya\": \"barangnya\",\"bsa\": \"bisa\",\"jng\": \"jangan\",\"bnyak\": \"banyak\",\"sy\": \"saya\",\"dt\": \"datang\",\"res\": \"resi\",\"gmna\": \"bagaimana\",\"bkin\": \"bikin\",\"mkn\": \"makan\",\"bnr2\": \"benar-benar\",\"pliz\": \"please\",\"kapok\": \"jerah\",\"ngendon\": \"mengendap\",\"cus\": \"customer\",\"mnding\": \"mending\",\"dgn\": \"dengan\",\"kirimnya\": \"dikirim\",\"neng\": \"adik\",\"cepet\": \"cepat\",\"dkirim\": \"dikirim\",\"kirimny\": \"pengirimannya\",\"mlah\": \"malah\",\"kiriman\": \"paket\",\"sb\": \"sudah\",\"tnggl\": \"tanggal\",\"trnyata\": \"ternyata\",\"bln\": \"bulan\",\"dktr\": \"dekat\",\"sni\": \"sini\",\"km\": \"kamu\",\"lo\": \"kamu\",\"smua\": \"semua\",\"kmna\": \"ke mana\",\"tln\": \"tolong\",\"dkirim2\": \"dikirim-kirim\",\"kjra\": \"kerja\",\"sbnr\": \"sebenar\",\"masi\": \"masih\",\"btul\": \"betul\",\"mlm\": \"malam\",\"kmren\": \"kemarin\",\"dtruskan\": \"diteruskan\",\"yng\": \"yang\",\"pakrt\": \"paket\",\"mnt\": \"minta\",\"pelayananx\": \"pelayanannya\",\"barng\": \"barang\",\"skr\": \"sekarang\",\"jg\": \"juga\",\"ktanya\": \"katanya\",\"dhlm\": \"dalam\",\"komplen\": \"komplain\",\"negri\": \"negeri\",\"nmr\": \"nomor\",\"na\": \"nya\",\"pmbyrn\": \"pembayaran\",\"dkasih\": \"diberikan\",\"antebin\": \"diabaikan\",\"kga\": \"tidak\",\"pryanan\": \"pelayanan\",\"tidk\": \"tidak\",\"ccd\": \"cacat\",\"ngentddd\": \"ngentot\",\"dkembalikn\": \"dikembalikan\",\"trlebih\": \"terlebih\",\"d-sms\": \"di-sms\",\"telfon\": \"telepon\",\"nyampenny\": \"sampainya\",\"gue\": \"saya\",\n",
    "\"aj\": \"saja\",\"didiemin\": \"dibiarkan\",\"gue\": \"saya\",\"bngt\": \"banget\",\"klo\": \"kalau\",\"kmana\": \"ke mana\",\"udah\": \"sudah\",\"mao\": \"mau\",\"gimana\": \"bagaimana\",\"dibilang\": \"dikatakan\",\"kpn\": \"kapan\",\"nih\": \"ini\",\"gw\": \"saya\",\"ngapaen\": \"ngapain\",\"kalaw\": \"kalau\",\"kg\": \"tidak\",\"dksh\": \"dikasih\",\"no\": \"nomor\",\"lembr\": \"lembar\",\"cuman\": \"hanya\",\"pdhl\": \"padahal\",\"bkin\": \"bikin\",\"ampe\": \"sampai\",\"pmbyrn\": \"pembayaran\",\"si\": \"sih\",\"bgt\": \"banget\",\"dkasi\": \"diberi\",\"trus\": \"terus\",\"loketnya\": \"loketnya\",\"yng\": \"yang\",\"ga\": \"tidak\",\"gk\": \"tidak\",\"g\": \"tidak\",\"gt\": \"tidak\",\"ni\": \"ini\",\"ktr\": \"kantor\",\"resi\": \"resi\",\"blm\": \"belum\",\"sampe\": \"sampai\",\"udh\": \"sudah\",\"pdhal\": \"padahal\",\"dr\": \"dari\",\"bakalan\": \"akan\",\"batalin\": \"batalkan\",\"telpon\": \"telepon\",\"ditelpon\": \"ditelepon\",\"diteleponin\": \"ditelepon\",\"parahhh\": \"parah\",\"bangat\": \"banget\",\"dtelponin\": \"ditelepon\",\"blum\": \"belum\",\"smpe\": \"sampai\",\"swtiap\": \"setiap\",\"hadeuhh\": \"hadeuh\",\"kevewa\": \"kecewa\",\"jwab\": \"jawab\",\"astaghfirullah\": \"astaghfirullah\",\"bgst\": \"bangsat\",\"dijawab\": \"dijawab\",\"gaada\": \"tidak ada\",\"masak\": \"masa\",\"alesannya\": \"alasannya\",\"gak\": \"tidak\",\"gimana deh\": \"bagaimana\",\"haha\": \"ha-ha\",\"coi\": \"coy\",\"digeletakin\": \"digeletakkan\",\"jutek-jutek\": \"jutek\",\"ambyarr\": \"ambyar\",\"yaampun\": \"ya ampun\",\"sma\": \"sama\",\"aza\": \"saja\",\"bsa\": \"bisa\",\"kerja lelet\": \"kerjanya lambat\",\"ngga\": \"tidak\",\"ga bagus\": \"tidak bagus\",\"gak sampai2\": \"tidak sampai-sampai\",\"pwt\": \"purwokerto\",\"pbg\": \"pekalongan\",\"mksudnya\": \"maksudnya\",\"mbok\": \"sebaiknya\",\"trs\": \"terus\",\"smua\": \"semua\",\"makanya\": \"maka dari itu\",\"ja\": \"saja\",\"brat\": \"banget\",\"amit amit\": \"amit-amit\",\"sani\": \"sana\",\"di tlp\": \"ditelepon\",\"loh\": \"lho\",\"kapokk\": \"kapok\",\"lelet\": \"lambat\",\"susah dihubungi\": \"sulit dihubungi\",\"enggak\": \"tidak\",\"engk\": \"tidak\",\"someday\": \"nanti\",\"lha\": \"lah\",\"ga nyampe\": \"tidak sampai\",\"nyampenya\": \"sampainya\",\"paketan\": \"paket\",\"alamatnya\": \"alamat\",\"alamatnya ga lengkap\": \"alamat tidak lengkap\",\"pelayananya\": \"pelayanannya\",\"alamat ga lengkap\": \"alamat tidak lengkap\",\"alamat gak lengkap\": \"alamat tidak lengkap\",\"pelayanannya ga jelas\": \"pelayanannya tidak jelas\",\"pelayanan buruk\": \"pelayanannya buruk\",\"parahhhh\": \"parah\",\"pelayanan jelek\": \"pelayanannya buruk\",\"tai\": \"buruk\",\"tai kucing\": \"sangat buruk\",\"mbanya\": \"mbaknya\",\"ga ngenakin\": \"tidak mengenakkan\",\"kaya\": \"seperti\",\"custumer\": \"customer\",\"kaya driver2\": \"seperti para driver\",\"nulis nama\": \"menulis nama\",\"parah banget\": \"sangat parah\",\"makin ngawur\": \"semakin kacau\",\"tdk\": \"tidak\",\"ga ada\": \"tidak ada\",\"pelayanannya buruk\": \"pelayanannya buruk\",\"lbh\": \"lebih\",\"mandi keringet\": \"berkeringat\",\"pelayanan nya\": \"pelayanannya\",\"ngirim\": \"mengirim\",\"gini\": \"begini\",\"gak mau\": \"tidak mau\",\"loket hantu\": \"loket kosong\",\"pake\": \"pakai\",\"pelayanan prima\": \"layanan prima\",\"kapan\": \"sejak kapan\",\"nyantol\": \"terhenti\",\"berhari²\": \"berhari-hari\",\"yng\": \"yang\",\"udh\": \"sudah\",\"ga\": \"tidak\",\"g\": \"tidak\",\"jg\": \"juga\",\"smpe\": \"sampai\",\"smp\": \"sampai\",\"td\": \"tadi\",\"tlp\": \"telepon\",\"ditlp\": \"ditelepon\",\"klo\": \"kalau\",\"pki\": \"pakai\",\"dr\": \"dari\",\"smpai\": \"sampai\",\"aja\": \"saja\",\"jd\": \"jadi\",\"bgt\": \"banget\",\"bgtu\": \"begitu\",\"dpt\": \"dapat\",\"kmren\": \"kemarin\",\"blm\": \"belum\",\"dkrim\": \"dikirim\",\"dhl\": \"padahal\",\"dgn\": \"dengan\",\"tdk\": \"tidak\",\"lgsg\": \"langsung\",\"pdhl\": \"padahal\",\"nyampe\": \"sampai\",\"pda\": \"pada\",\"sy\": \"saya\",\"bkin\": \"bikin\",\"trs\": \"terus\",\"smrg\": \"semarang\",\"mlng\": \"malang\",\"sm\": \"sama\",\"ny\": \"nya\",\"bln\": \"bulan\",\"gmna\": \"bagaimana\",\"cuma\": \"hanya\",\"nggak\": \"tidak\",\"grgr\": \"gara-gara\",\"dhhbungi\": \"dihubungi\",\"gk\": \"tidak\",\"sma\": \"sama\",\"kaga\": \"tidak\",\"perna\": \"pernah\",\"pelayananya\": \"pelayanannya\",\"nmr\": \"nomor\",\"bbrp\": \"beberapa\",\"bkn\": \"bukan\",\"pn\": \"pun\",\"materii\": \"materai\",\"cuiuui\": \"cukup\",\"mater\": \"maret\",\"trma\": \"terima\",\"bknya\": \"bukannya\",\"truss\": \"terus\",\"anu\": \"itu\",\"ono\": \"itu\",\"tau\": \"tahu\",\"lho\": \"loh\",\"mpospay\": \"pospay\",\"trimakasih\": \"terima kasih\",\"bnyk\": \"banyak\",\"lagi2\": \"lagi-lagi\",\"nggk\": \"tidak\",\"sampek\": \"sampai\",\"ne\": \"ini\",\"yg\": \"yang\",\"ki\": \"ini\",\"opo\": \"apa\",\"taukah\": \"tahu kah\",\"lgi\": \"lagi\",\"lg\": \"lagi\",\"kaya\": \"seperti\",\"mls\": \"malas\",\"dateng2\": \"datang-datang\",\"kurirny\": \"kurirnya\",\"seenggaknya\": \"setidaknya\",\"dong\": \"lah\",\"kuyup\": \"basah\",\"cs\": \"customer service\",\"info\": \"informasi\",\"staff\": \"staf\",\"pasien\": \"kesabaran\",\"mengerikan\": \"buruk\",\"jga\": \"juga\",\"dh\": \"sudah\",\"lemot\": \"lambat\",\"gw\": \"saya\",\"sampe2\": \"sampai-sampai\",\"blom\": \"belum\",\"d\": \"di\",\"sampe\": \"sampai\",\"pdahal\": \"padahal\",\"hadeuhhh\": \"aduh\",\"padhl\": \"padahal\",\"aturankan\": \"aturannya\",\"gimana\": \"bagaimana\",\"nanyain\": \"menanyakan\",\"gaada\": \"tidak ada\",\"menau\": \"mengetahui\",\"belom\": \"belum\",\"nanya\": \"bertanya\",\"donk\": \"dong\",\"sibuk\": \"sedang sibuk\",\"ekspedisi\": \"jasa kirim\",\"costumer\": \"customer\",\"songong\": \"sombong\",\"madih\": \"masih\",\"ngga\": \"tidak\",\"knpa\": \"kenapa\",\"tlpn\": \"telepon\",\"lha\": \"lah\",\"asw\": \"anjing\",\"oy\": \"hei\",\"kirim\": \"mengirim\",\"ngecek\": \"memeriksa\",\"blagak\": \"berlagak\",\"doank\": \"saja\",\"kucuk\": \"berjalan pelan\",\"dah\": \"sudah\",\"anjir\": \"waduh\",\"lhh\": \"lah\",\"gx\": \"tidak\",\"pak\": \"bapak\",\"bu\": \"ibu\",\"pake\": \"pakai\",\"nexday\": \"next day\",\"perbaikilh\": \"perbaikilah\",\"jngn\": \"jangan\",\"kecewakn\": \"mengecewakan\",\"dimna\": \"di mana\",\"tsb\": \"tersebut\",\"ngepos\": \"mengirim\",\"mba2\": \"mbak-mbak\",\"bapak2\": \"bapak-bapak\",\"amburadul\": \"kacau\",\"custumor\": \"customer\",\"trening\": \"training\",\"keblakang\": \"ke belakang\",\"sequrity\": \"security\",\"myenangkann\": \"menyenangkan\",\"pek\": \"paket\",\"aoa\": \"apa\",\"buble\": \"bubble\",\"ekpresi\": \"ekspresi\",\"capeknya\": \"kelelahannya\",\"malih\": \"lagi\",\"noll\": \"nol\",\"dikit\": \"sedikit\"\n",
    "}\n",
    "\n",
    "list_sentence_train = []\n",
    "for sentence in data['review_text_cleaned'] :\n",
    "    cleaned_sentence = [words_dict[word] if word in list(words_dict.keys()) else word for word in sentence.split()]\n",
    "    list_sentence_train.append(' '.join(cleaned_sentence))\n",
    "data['review_text_cleaned'] = list_sentence_train"
   ]
  },
  {
   "cell_type": "code",
   "execution_count": 49,
   "id": "4c87dbe3",
   "metadata": {},
   "outputs": [],
   "source": [
    "# stop_words = [\n",
    "#     'yang', 'dan', 'di', 'ke', 'dari', 'ini', 'untuk', 'dengan', 'pada', 'juga',\n",
    "#     'sebagai', 'karena', 'saat', 'adalah', 'itu', 'dalam', 'tidak', 'akan', 'atau', 'agar',\n",
    "#     'bagi', 'maupun', 'lebih', 'telah', 'para', 'namun', 'sudah', 'masih', 'setelah', 'harus',\n",
    "#     'bisa', 'dapat', 'tanpa', 'hingga', 'selama', 'sejak', 'sebelum', 'sesudah', 'antara',\n",
    "#     'tentang', 'demi', 'bahwa', 'supaya', 'adapun', 'terhadap', 'kepada', 'aku', 'saya',\n",
    "#     'kamu', 'dia', 'mereka', 'kami', 'kita', 'engkau', 'nya', 'mu', 'ku', 'kau', 'lah', 'pun',\n",
    "#     'hanya', 'saja', 'kalau', 'begitu', 'maka', 'jadi', 'sambil', 'serta',\n",
    "#     'seperti', 'yaitu', 'yakni', 'hingga', 'sementara', 'misalnya', 'barangkali', 'melainkan',\n",
    "#     'padahal', 'sebab', 'alhasil', 'justru', 'namanya', 'kecuali', 'bahkan', 'punya',\n",
    "#     'bukan', 'ya', 'eh', 'oh', 'nah', 'ok', 'oke', 'nah', 'emang', 'dong', 'deh', 'kan', 'toh',\n",
    "#     'gak', 'nggak', 'tidak', 'enggak', 'udah', 'udah', 'aja', 'cuma', 'doang', 'biar',\n",
    "#     'malah', 'kayak', 'gitu', 'gini', 'nih', 'loh', 'siapa', 'apa', 'mana', 'berapa', 'kenapa',\n",
    "#     'mengapa', 'kapan', 'dalamnya', 'beserta', 'termasuk', 'buat', 'bentuk', 'oleh', 'berikut',\n",
    "#     'lalu', 'tapi', 'tetapi', 'pernah', 'hingga', 'jika', 'seandainya', 'anda', 'waktu', 'mau',\n",
    "#     'sedang', 'lagi', 'bila', 'misal', 'contoh', 'terus', 'seolah', 'seakan','menurut', 'dua', 'ia', \n",
    "#     'sehingga', 'kembali', 'sekitar', 'hal','ketika', 'ada', 'secara', 'lain', 'daripada', 'itulah',\n",
    "#     'dimana', 'kemana', 'pula', 'guna', 'kah', 'sampai','sedangkan', 'selagi', 'apakah', 'selain', 'seraya', \n",
    "#     'agak', 'boleh', 'dsb', 'dst', 'dll', 'dahulu', 'dulunya', 'anu', 'demikian',\n",
    "#     'ingin',  'mari', 'nanti', 'seharusnya', 'sebetulnya','seterusnya',\n",
    "#     'setiap', 'setidaknya', 'sesuatu', 'pasti', 'walau', 'tolong', 'tentu', 'amat',\n",
    "#     'apalagi', 'bagaimanapun', 'sekali','masa'\n",
    "# ]\n",
    "# keep_stopwords = ['tidak', 'belum', 'kurang','tetapi', 'kecuali']\n",
    "# fix_stopwords = [word for word in stop_words if word not in keep_stopwords]\n",
    "\n",
    "# # Remove stopwords and clean text\n",
    "# data['review_text_cleaned'] = data['review_text_cleaned'].apply(\n",
    "#     lambda text: ' '.join([word for word in text.split() if word not in fix_stopwords]).strip()\n",
    "# )\n",
    "\n",
    "# # Replace empty strings with NaN\n",
    "# data['review_text_cleaned'].replace('', pd.NA, inplace=True)\n",
    "\n",
    "# # Drop rows where cleaned text is NaN\n",
    "# data.dropna(subset=['review_text_cleaned'], inplace=True)"
   ]
  },
  {
   "cell_type": "code",
   "execution_count": 50,
   "id": "d75ca667",
   "metadata": {},
   "outputs": [],
   "source": [
    "# # create stemmer\n",
    "# factory = StemmerFactory()\n",
    "# stemmer = factory.create_stemmer()\n",
    "\n",
    "# # apply stemming\n",
    "# def safe_stem(text):\n",
    "#     try:\n",
    "#         return stemmer.stem(text)\n",
    "#     except:\n",
    "#         return 'error'\n",
    "\n",
    "# data['review_text_cleaned'] = data['review_text_cleaned'].apply(safe_stem)"
   ]
  },
  {
   "cell_type": "markdown",
   "id": "d847e184",
   "metadata": {},
   "source": [
    "HANIFNOERR"
   ]
  },
  {
   "cell_type": "code",
   "execution_count": 51,
   "id": "c8646022",
   "metadata": {},
   "outputs": [
    {
     "name": "stdout",
     "output_type": "stream",
     "text": [
      "sentiment_result_hanifnoerr\n",
      "negative    327\n",
      "positive    296\n",
      "neutral     167\n",
      "Name: count, dtype: int64\n"
     ]
    }
   ],
   "source": [
    "data[['sentiment_result_hanifnoerr', 'score_sentiment_result_hanifnoerr']] = data['review_text_cleaned'].apply(\n",
    "    lambda x: pd.Series(analyze_sentiment_hanifnoerr(x))\n",
    ")\n",
    "print(data['sentiment_result_hanifnoerr'].value_counts())"
   ]
  },
  {
   "cell_type": "code",
   "execution_count": 52,
   "id": "7cb2989e",
   "metadata": {},
   "outputs": [
    {
     "name": "stderr",
     "output_type": "stream",
     "text": [
      "C:\\Users\\POS\\AppData\\Local\\Temp\\ipykernel_35936\\1922892403.py:5: FutureWarning: \n",
      "\n",
      "Passing `palette` without assigning `hue` is deprecated and will be removed in v0.14.0. Assign the `x` variable to `hue` and set `legend=False` for the same effect.\n",
      "\n",
      "  sns.countplot(data=data, x='sentiment_result_hanifnoerr', order=data['sentiment_result_hanifnoerr'].value_counts().index, palette='pastel')\n"
     ]
    },
    {
     "data": {
      "image/png": "[encoded data removed]",
      "text/plain": [
       "<Figure size 800x500 with 1 Axes>"
      ]
     },
     "metadata": {},
     "output_type": "display_data"
    }
   ],
   "source": [
    "import matplotlib.pyplot as plt\n",
    "import seaborn as sns\n",
    "\n",
    "plt.figure(figsize=(8, 5))\n",
    "sns.countplot(data=data, x='sentiment_result_hanifnoerr', order=data['sentiment_result_hanifnoerr'].value_counts().index, palette='pastel')\n",
    "plt.title('Distribusi Sentimen Review')\n",
    "plt.xlabel('Label Sentimen')\n",
    "plt.ylabel('Jumlah')\n",
    "plt.xticks(rotation=45)\n",
    "plt.tight_layout()\n",
    "plt.show()"
   ]
  },
  {
   "cell_type": "markdown",
   "id": "8017ac4c",
   "metadata": {},
   "source": [
    "crypter70"
   ]
  },
  {
   "cell_type": "code",
   "execution_count": 53,
   "id": "6bd776b1",
   "metadata": {},
   "outputs": [
    {
     "name": "stdout",
     "output_type": "stream",
     "text": [
      "sentiment_result_crypter70\n",
      "NEGATIVE    317\n",
      "POSITIVE    297\n",
      "NEUTRAL     176\n",
      "Name: count, dtype: int64\n"
     ]
    }
   ],
   "source": [
    "data[['sentiment_result_crypter70', 'score_sentiment_result_crypter70']] = data['review_text_cleaned'].apply(\n",
    "    lambda x: pd.Series(analyze_sentiment_crypter70(x))\n",
    ")\n",
    "print(data['sentiment_result_crypter70'].value_counts())"
   ]
  },
  {
   "cell_type": "code",
   "execution_count": 54,
   "id": "52e94565",
   "metadata": {},
   "outputs": [
    {
     "name": "stderr",
     "output_type": "stream",
     "text": [
      "C:\\Users\\POS\\AppData\\Local\\Temp\\ipykernel_35936\\3126681369.py:5: FutureWarning: \n",
      "\n",
      "Passing `palette` without assigning `hue` is deprecated and will be removed in v0.14.0. Assign the `x` variable to `hue` and set `legend=False` for the same effect.\n",
      "\n",
      "  sns.countplot(data=data, x='sentiment_result_crypter70', order=data['sentiment_result_crypter70'].value_counts().index, palette='pastel')\n"
     ]
    },
    {
     "data": {
      "image/png": "[encoded data removed]",
      "text/plain": [
       "<Figure size 800x500 with 1 Axes>"
      ]
     },
     "metadata": {},
     "output_type": "display_data"
    }
   ],
   "source": [
    "import matplotlib.pyplot as plt\n",
    "import seaborn as sns\n",
    "\n",
    "plt.figure(figsize=(8, 5))\n",
    "sns.countplot(data=data, x='sentiment_result_crypter70', order=data['sentiment_result_crypter70'].value_counts().index, palette='pastel')\n",
    "plt.title('Distribusi Sentimen Review')\n",
    "plt.xlabel('Label Sentimen')\n",
    "plt.ylabel('Jumlah')\n",
    "plt.xticks(rotation=45)\n",
    "plt.tight_layout()\n",
    "plt.show()"
   ]
  },
  {
   "cell_type": "markdown",
   "id": "ebe562d4",
   "metadata": {},
   "source": [
    "w11wo"
   ]
  },
  {
   "cell_type": "code",
   "execution_count": 55,
   "id": "01968a54",
   "metadata": {},
   "outputs": [
    {
     "name": "stdout",
     "output_type": "stream",
     "text": [
      "sentiment_result_w11wo\n",
      "positive    311\n",
      "negative    304\n",
      "neutral     175\n",
      "Name: count, dtype: int64\n"
     ]
    }
   ],
   "source": [
    "data[['sentiment_result_w11wo', 'score_sentiment_result_w11wo']] = data['review_text_cleaned'].apply(\n",
    "    lambda x: pd.Series(analyze_sentiment_w11wo(x))\n",
    ")\n",
    "print(data['sentiment_result_w11wo'].value_counts())"
   ]
  },
  {
   "cell_type": "code",
   "execution_count": 56,
   "id": "bf9aca60",
   "metadata": {},
   "outputs": [
    {
     "name": "stderr",
     "output_type": "stream",
     "text": [
      "C:\\Users\\POS\\AppData\\Local\\Temp\\ipykernel_35936\\392182998.py:4: FutureWarning: \n",
      "\n",
      "Passing `palette` without assigning `hue` is deprecated and will be removed in v0.14.0. Assign the `x` variable to `hue` and set `legend=False` for the same effect.\n",
      "\n",
      "  sns.countplot(data=data, x='sentiment_result_w11wo', order=data['sentiment_result_w11wo'].value_counts().index, palette='pastel')\n"
     ]
    },
    {
     "data": {
      "image/png": "[encoded data removed]",
      "text/plain": [
       "<Figure size 800x500 with 1 Axes>"
      ]
     },
     "metadata": {},
     "output_type": "display_data"
    }
   ],
   "source": [
    "import matplotlib.pyplot as plt\n",
    "import seaborn as sns\n",
    "plt.figure(figsize=(8, 5))\n",
    "sns.countplot(data=data, x='sentiment_result_w11wo', order=data['sentiment_result_w11wo'].value_counts().index, palette='pastel')\n",
    "plt.title('Distribusi Sentimen Review')\n",
    "plt.xlabel('Label Sentimen')\n",
    "plt.ylabel('Jumlah')\n",
    "plt.xticks(rotation=45)\n",
    "plt.tight_layout()\n",
    "plt.show()"
   ]
  },
  {
   "cell_type": "code",
   "execution_count": 57,
   "id": "b2e086a2",
   "metadata": {},
   "outputs": [
    {
     "name": "stdout",
     "output_type": "stream",
     "text": [
      "sentiment_result_ayameRushia\n",
      "Negative    303\n",
      "Positive    293\n",
      "Neutral     194\n",
      "Name: count, dtype: int64\n"
     ]
    }
   ],
   "source": [
    "data[['sentiment_result_ayameRushia', 'score_sentiment_result_ayameRushia']] = data['review_text_cleaned'].apply(\n",
    "    lambda x: pd.Series(analyze_sentiment_ayameRushia(x))\n",
    ")\n",
    "print(data['sentiment_result_ayameRushia'].value_counts())"
   ]
  },
  {
   "cell_type": "code",
   "execution_count": 58,
   "id": "1f2ec835",
   "metadata": {},
   "outputs": [
    {
     "name": "stderr",
     "output_type": "stream",
     "text": [
      "C:\\Users\\POS\\AppData\\Local\\Temp\\ipykernel_35936\\4168932491.py:4: FutureWarning: \n",
      "\n",
      "Passing `palette` without assigning `hue` is deprecated and will be removed in v0.14.0. Assign the `x` variable to `hue` and set `legend=False` for the same effect.\n",
      "\n",
      "  sns.countplot(data=data, x='sentiment_result_ayameRushia', order=data['sentiment_result_ayameRushia'].value_counts().index, palette='pastel')\n"
     ]
    },
    {
     "data": {
      "image/png": "[encoded data removed]",
      "text/plain": [
       "<Figure size 800x500 with 1 Axes>"
      ]
     },
     "metadata": {},
     "output_type": "display_data"
    }
   ],
   "source": [
    "import matplotlib.pyplot as plt\n",
    "import seaborn as sns\n",
    "plt.figure(figsize=(8, 5))\n",
    "sns.countplot(data=data, x='sentiment_result_ayameRushia', order=data['sentiment_result_ayameRushia'].value_counts().index, palette='pastel')\n",
    "plt.title('Distribusi Sentimen Review')\n",
    "plt.xlabel('Label Sentimen')\n",
    "plt.ylabel('Jumlah')\n",
    "plt.xticks(rotation=45)\n",
    "plt.tight_layout()\n",
    "plt.show()"
   ]
  },
  {
   "cell_type": "code",
   "execution_count": 59,
   "id": "2b7e2bb7",
   "metadata": {},
   "outputs": [
    {
     "name": "stdout",
     "output_type": "stream",
     "text": [
      "sentiment_result_Aardiiiiy\n",
      "Negative    324\n",
      "Neutral     246\n",
      "Positive    220\n",
      "Name: count, dtype: int64\n"
     ]
    }
   ],
   "source": [
    "data[['sentiment_result_Aardiiiiy', 'score_sentiment_result_Aardiiiiy']] = data['review_text_cleaned'].apply(\n",
    "    lambda x: pd.Series(analyze_sentiment_Aardiiiiy(x))\n",
    ")\n",
    "print(data['sentiment_result_Aardiiiiy'].value_counts())"
   ]
  },
  {
   "cell_type": "code",
   "execution_count": 60,
   "id": "cb390d45",
   "metadata": {},
   "outputs": [
    {
     "name": "stderr",
     "output_type": "stream",
     "text": [
      "C:\\Users\\POS\\AppData\\Local\\Temp\\ipykernel_35936\\331142182.py:4: FutureWarning: \n",
      "\n",
      "Passing `palette` without assigning `hue` is deprecated and will be removed in v0.14.0. Assign the `x` variable to `hue` and set `legend=False` for the same effect.\n",
      "\n",
      "  sns.countplot(data=data, x='sentiment_result_Aardiiiiy', order=data['sentiment_result_Aardiiiiy'].value_counts().index, palette='pastel')\n"
     ]
    },
    {
     "data": {
      "image/png": "[encoded data removed]",
      "text/plain": [
       "<Figure size 800x500 with 1 Axes>"
      ]
     },
     "metadata": {},
     "output_type": "display_data"
    }
   ],
   "source": [
    "import matplotlib.pyplot as plt\n",
    "import seaborn as sns\n",
    "plt.figure(figsize=(8, 5))\n",
    "sns.countplot(data=data, x='sentiment_result_Aardiiiiy', order=data['sentiment_result_Aardiiiiy'].value_counts().index, palette='pastel')\n",
    "plt.title('Distribusi Sentimen Review')\n",
    "plt.xlabel('Label Sentimen')\n",
    "plt.ylabel('Jumlah')\n",
    "plt.xticks(rotation=45)\n",
    "plt.tight_layout()\n",
    "plt.show()"
   ]
  },
  {
   "cell_type": "code",
   "execution_count": 61,
   "id": "69a14c0b",
   "metadata": {},
   "outputs": [
    {
     "name": "stdout",
     "output_type": "stream",
     "text": [
      "Accuracy: 83.04%\n",
      "\n",
      "Classification Report:\n",
      "              precision    recall  f1-score   support\n",
      "\n",
      "    positive       0.91      0.81      0.86       333\n",
      "    negative       0.90      0.89      0.89       331\n",
      "     neutral       0.56      0.74      0.63       126\n",
      "\n",
      "    accuracy                           0.83       790\n",
      "   macro avg       0.79      0.81      0.79       790\n",
      "weighted avg       0.85      0.83      0.84       790\n",
      "\n",
      "\n",
      "Confusion Matrix:\n",
      "[[269  20  44]\n",
      " [  7 294  30]\n",
      " [ 20  13  93]]\n"
     ]
    }
   ],
   "source": [
    "# Update y_true and y_pred\n",
    "y_true = data['sentiment']\n",
    "y_pred = data['sentiment_result_hanifnoerr']\n",
    "\n",
    "# Accuracy\n",
    "accuracy = accuracy_score(y_true, y_pred)\n",
    "print(f\"Accuracy: {accuracy:.2%}\")\n",
    "\n",
    "# Classification Report\n",
    "print(\"\\nClassification Report:\")\n",
    "print(classification_report(y_true, y_pred, labels=['positive', 'negative','neutral']))\n",
    "\n",
    "# Confusion Matrix\n",
    "print(\"\\nConfusion Matrix:\")\n",
    "print(confusion_matrix(y_true, y_pred, labels=['positive', 'negative','neutral']))\n"
   ]
  },
  {
   "cell_type": "code",
   "execution_count": 62,
   "id": "56e65576",
   "metadata": {},
   "outputs": [
    {
     "name": "stdout",
     "output_type": "stream",
     "text": [
      "Accuracy: 81.27%\n",
      "\n",
      "Classification Report:\n",
      "              precision    recall  f1-score   support\n",
      "\n",
      "    positive       0.88      0.78      0.83       333\n",
      "    negative       0.90      0.86      0.88       331\n",
      "     neutral       0.54      0.75      0.63       126\n",
      "\n",
      "    accuracy                           0.81       790\n",
      "   macro avg       0.77      0.80      0.78       790\n",
      "weighted avg       0.83      0.81      0.82       790\n",
      "\n",
      "\n",
      "Confusion Matrix:\n",
      "[[261  23  49]\n",
      " [ 13 286  32]\n",
      " [ 23   8  95]]\n"
     ]
    }
   ],
   "source": [
    "# Update y_true and y_pred\n",
    "y_true = data['sentiment']\n",
    "y_pred = data['sentiment_result_crypter70'].str.lower()\n",
    "\n",
    "# Accuracy\n",
    "accuracy = accuracy_score(y_true, y_pred)\n",
    "print(f\"Accuracy: {accuracy:.2%}\")\n",
    "\n",
    "# Classification Report\n",
    "print(\"\\nClassification Report:\")\n",
    "print(classification_report(y_true, y_pred, labels=['positive', 'negative','neutral']))\n",
    "\n",
    "# Confusion Matrix\n",
    "print(\"\\nConfusion Matrix:\")\n",
    "print(confusion_matrix(y_true, y_pred, labels=['positive', 'negative','neutral']))"
   ]
  },
  {
   "cell_type": "code",
   "execution_count": 63,
   "id": "73e17da4",
   "metadata": {},
   "outputs": [
    {
     "name": "stdout",
     "output_type": "stream",
     "text": [
      "Accuracy: 81.90%\n",
      "\n",
      "Classification Report:\n",
      "              precision    recall  f1-score   support\n",
      "\n",
      "    positive       0.87      0.82      0.84       333\n",
      "    negative       0.93      0.86      0.89       331\n",
      "     neutral       0.52      0.72      0.60       126\n",
      "\n",
      "    accuracy                           0.82       790\n",
      "   macro avg       0.78      0.80      0.78       790\n",
      "weighted avg       0.84      0.82      0.83       790\n",
      "\n",
      "\n",
      "Confusion Matrix:\n",
      "[[272  12  49]\n",
      " [ 12 284  35]\n",
      " [ 27   8  91]]\n"
     ]
    }
   ],
   "source": [
    "# Update y_true and y_pred\n",
    "y_true = data['sentiment']\n",
    "y_pred = data['sentiment_result_w11wo'].str.lower()\n",
    "\n",
    "# Accuracy\n",
    "accuracy = accuracy_score(y_true, y_pred)\n",
    "print(f\"Accuracy: {accuracy:.2%}\")\n",
    "\n",
    "# Classification Report\n",
    "print(\"\\nClassification Report:\")\n",
    "print(classification_report(y_true, y_pred, labels=['positive', 'negative','neutral']))\n",
    "\n",
    "# Confusion Matrix\n",
    "print(\"\\nConfusion Matrix:\")\n",
    "print(confusion_matrix(y_true, y_pred, labels=['positive', 'negative','neutral']))\n"
   ]
  },
  {
   "cell_type": "code",
   "execution_count": 64,
   "id": "7be74144",
   "metadata": {},
   "outputs": [
    {
     "name": "stdout",
     "output_type": "stream",
     "text": [
      "Accuracy: 77.59%\n",
      "\n",
      "Classification Report:\n",
      "              precision    recall  f1-score   support\n",
      "\n",
      "    positive       0.87      0.77      0.81       333\n",
      "    negative       0.89      0.82      0.85       331\n",
      "     neutral       0.45      0.69      0.54       126\n",
      "\n",
      "    accuracy                           0.78       790\n",
      "   macro avg       0.74      0.76      0.74       790\n",
      "weighted avg       0.81      0.78      0.79       790\n",
      "\n",
      "\n",
      "Confusion Matrix:\n",
      "[[255  22  56]\n",
      " [  9 271  51]\n",
      " [ 29  10  87]]\n"
     ]
    }
   ],
   "source": [
    "# Update y_true and y_pred\n",
    "y_true = data['sentiment']\n",
    "y_pred = data['sentiment_result_ayameRushia'].str.lower()\n",
    "\n",
    "# Accuracy\n",
    "accuracy = accuracy_score(y_true, y_pred)\n",
    "print(f\"Accuracy: {accuracy:.2%}\")\n",
    "\n",
    "# Classification Report\n",
    "print(\"\\nClassification Report:\")\n",
    "print(classification_report(y_true, y_pred, labels=['positive', 'negative','neutral']))\n",
    "\n",
    "# Confusion Matrix\n",
    "print(\"\\nConfusion Matrix:\")\n",
    "print(confusion_matrix(y_true, y_pred, labels=['positive', 'negative','neutral']))\n"
   ]
  },
  {
   "cell_type": "code",
   "execution_count": 65,
   "id": "ce26d0f5",
   "metadata": {},
   "outputs": [
    {
     "name": "stdout",
     "output_type": "stream",
     "text": [
      "Accuracy: 78.35%\n",
      "\n",
      "Classification Report:\n",
      "              precision    recall  f1-score   support\n",
      "\n",
      "    positive       0.97      0.64      0.77       333\n",
      "    negative       0.90      0.88      0.89       331\n",
      "     neutral       0.46      0.90      0.61       126\n",
      "\n",
      "    accuracy                           0.78       790\n",
      "   macro avg       0.78      0.81      0.76       790\n",
      "weighted avg       0.86      0.78      0.80       790\n",
      "\n",
      "\n",
      "Confusion Matrix:\n",
      "[[214  23  96]\n",
      " [  4 291  36]\n",
      " [  2  10 114]]\n"
     ]
    }
   ],
   "source": [
    "# Update y_true and y_pred\n",
    "y_true = data['sentiment']\n",
    "y_pred = data['sentiment_result_Aardiiiiy'].str.lower()\n",
    "\n",
    "# Accuracy\n",
    "accuracy = accuracy_score(y_true, y_pred)\n",
    "print(f\"Accuracy: {accuracy:.2%}\")\n",
    "\n",
    "# Classification Report\n",
    "print(\"\\nClassification Report:\")\n",
    "print(classification_report(y_true, y_pred, labels=['positive', 'negative','neutral']))\n",
    "\n",
    "# Confusion Matrix\n",
    "print(\"\\nConfusion Matrix:\")\n",
    "print(confusion_matrix(y_true, y_pred, labels=['positive', 'negative','neutral']))\n"
   ]
  },
  {
   "cell_type": "code",
   "execution_count": null,
   "id": "a81bff66",
   "metadata": {},
   "outputs": [],
   "source": []
  }
 ],
 "metadata": {
  "kernelspec": {
   "display_name": "Python 3",
   "language": "python",
   "name": "python3"
  },
  "language_info": {
   "codemirror_mode": {
    "name": "ipython",
    "version": 3
   },
   "file_extension": ".py",
   "mimetype": "text/x-python",
   "name": "python",
   "nbconvert_exporter": "python",
   "pygments_lexer": "ipython3",
   "version": "3.13.2"
  }
 },
 "nbformat": 4,
 "nbformat_minor": 5
}
